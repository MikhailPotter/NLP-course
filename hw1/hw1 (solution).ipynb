{
  "cells": [
    {
      "cell_type": "markdown",
      "metadata": {
        "id": "SW5U9-ykYlqa"
      },
      "source": [
        "## Домашнее задание 1\n",
        "## Harry Potter and the Action Prediction Challenge from Natural Language\n",
        "\n",
        "\n",
        "В этом домашнем задании вы будете работать с корпусом Harry Potter and the Action Prediction Challenge. Корпус собран из фанфиков о Гарри Поттере и состоит из двух частей: 1) сырые тексты, 2) фрагменты текстов, описывающих ситуацию, в которой произнесено заклинание.\n",
        "\n",
        "Корпус описан в статье: https://arxiv.org/pdf/1905.11037.pdf\n",
        "\n",
        "David Vilares and Carlos Gómez-Rodríguez. Harry Potter and the Action Prediction Challenge from Natural Language. 2019 Annual Conference of the North American Chapter of the Association for Computational Linguistics. To appear.\n",
        "\n",
        "Код для сбора корпуса находится в репозитории: https://github.com/aghie/hpac . Корпус можно скачать по инструкции из этого репозитория, но для экономии времени авторы задания уже скачали и подготовили данные к работе.\n",
        "\n",
        "Ссылки на собранный корпус:\n",
        "* Сырые тексты:  https://www.dropbox.com/s/12toaj67fjrguhd/hpac_raw.zip?dl=0\n",
        "* Токенизированные тексты в нижнем регистре: https://www.dropbox.com/s/1ndto6dce5wg7j2/hpac_lower_tokenized.zip?dl=0\n",
        "* train-test-dev: https://www.dropbox.com/s/ftinwwjfyydevth/hpac_splits.zip?dl=0\n",
        "\n",
        "Части 1, 2 задания должны быть выполнены на полных текстах (сырых или предобработанных -- на ваше усмотрение), Часть 3 – на разбиение на тестовое, отладочное и обучающее множества. Тестовое множество должно быть использовано исключительно для тестирования моделей, обучающее и отладочное – для выбора модели и параметров.\n",
        "\n",
        "В статье и репозитории вы найдете идеи, которые помогут вам выполнить домашнее задание. Их стоит воспринимать как руководство к действию, и не стоит их копировать и переиспользовать. Обученные модели использовать не нужно, код для их обучения можно использовать как подсказку.\n",
        "\n",
        "## ПРАВИЛА\n",
        "1. Домашнее задание выполняется индивидуально.\n",
        "2. Домашнее задание сдается в системе Anytask, куда можно попасть через инвайт.\n",
        "3. Домашнее задание оформляется в отчета в ipython-тетрадке.\n",
        "4. Отчет должен содержать: нумерацию заданий и пунктов, которые вы выполнили, код решения, и понятное пошаговое описание того, что вы сделали. Отчет должен быть написан в академическом стиле, без излишнего использования сленга и с соблюдением норм русского языка.\n",
        "5. Не стоит копировать фрагменты лекций, статей и Википедии в ваш отчет.\n",
        "6. Плагиат и любое недобросоветсное цитирование приводит к обнуление оценки.\n",
        "\n"
      ]
    },
    {
      "cell_type": "markdown",
      "metadata": {},
      "source": [
        "### Данные\n"
      ]
    },
    {
      "cell_type": "markdown",
      "metadata": {},
      "source": [
        "train, test, dev файлы"
      ]
    },
    {
      "cell_type": "code",
      "execution_count": null,
      "metadata": {},
      "outputs": [],
      "source": [
        "import pandas as pd"
      ]
    },
    {
      "cell_type": "code",
      "execution_count": null,
      "metadata": {},
      "outputs": [],
      "source": [
        "df_train = pd.read_csv('data/hpac_splits/hpac_training_128.tsv', sep = '\\t', header = None)\n",
        "df_val = pd.read_csv('data/hpac_splits/hpac_dev_128.tsv', sep = '\\t', header = None)\n",
        "\n",
        "df_test = pd.read_csv('data/hpac_splits/hpac_test_128.tsv', sep = '\\t', header = None)"
      ]
    },
    {
      "cell_type": "markdown",
      "metadata": {},
      "source": [
        "### Как использовать WordNet из nltk?"
      ]
    },
    {
      "cell_type": "code",
      "execution_count": null,
      "metadata": {},
      "outputs": [],
      "source": [
        "# скачиваем WordNet\n",
        "import nltk\n",
        "nltk.download('wordnet')"
      ]
    },
    {
      "cell_type": "code",
      "execution_count": null,
      "metadata": {},
      "outputs": [],
      "source": [
        "# слово -> множество синсетов (синонимов разных смыслов исходного слова)\n",
        "from nltk.corpus import wordnet as wn\n",
        "wn.synsets('magic')"
      ]
    },
    {
      "cell_type": "code",
      "execution_count": null,
      "metadata": {},
      "outputs": [],
      "source": [
        "# посмотрим, что внутри одного синсета\n",
        "wn.synsets('magic')[1].lemmas()[0]"
      ]
    },
    {
      "cell_type": "code",
      "execution_count": null,
      "metadata": {},
      "outputs": [],
      "source": [
        "# возьмем лемму одного из слов из синсета\n",
        "wn.synsets('magic')[1].lemmas()[-1].name()"
      ]
    },
    {
      "cell_type": "markdown",
      "metadata": {},
      "source": [
        "\n",
        "## Часть 1. [1 балл] Эксплоративный анализ\n"
      ]
    },
    {
      "cell_type": "code",
      "execution_count": 75,
      "metadata": {},
      "outputs": [
        {
          "name": "stdout",
          "output_type": "stream",
          "text": [
            "INFO: Pandarallel will run on 8 workers.\n",
            "INFO: Pandarallel will use standard multiprocessing data transfer (pipe) to transfer data between the main process and workers.\n",
            "\n",
            "WARNING: You are on Windows. If you detect any issue with pandarallel, be sure you checked out the Troubleshooting page:\n",
            "https://nalepae.github.io/pandarallel/troubleshooting/\n"
          ]
        },
        {
          "name": "stderr",
          "output_type": "stream",
          "text": [
            "[nltk_data] Downloading package stopwords to\n",
            "[nltk_data]     C:\\Users\\mikha\\AppData\\Roaming\\nltk_data...\n",
            "[nltk_data]   Package stopwords is already up-to-date!\n",
            "[nltk_data] Downloading package punkt to\n",
            "[nltk_data]     C:\\Users\\mikha\\AppData\\Roaming\\nltk_data...\n",
            "[nltk_data]   Package punkt is already up-to-date!\n"
          ]
        }
      ],
      "source": [
        "import nltk\n",
        "from nltk.corpus import stopwords\n",
        "from nltk.tokenize import word_tokenize\n",
        "from string import punctuation\n",
        "from nltk import FreqDist\n",
        "from itertools import combinations\n",
        "\n",
        "import os\n",
        "from collections import Counter\n",
        "import matplotlib.pyplot as plt\n",
        "from tqdm import (\n",
        "    tqdm,\n",
        "    trange,\n",
        ")\n",
        "import pickle\n",
        "import pandas as pd\n",
        "\n",
        "import gc\n",
        "gc.enable()\n",
        "\n",
        "import requests\n",
        "import contractions\n",
        "from tqdm import tqdm\n",
        "tqdm.pandas()\n",
        "\n",
        "from pandarallel import pandarallel\n",
        "pandarallel.initialize(progress_bar=True)\n",
        "from nltk.tokenize import word_tokenize\n",
        "import string\n",
        "import re \n",
        "\n",
        "nltk.download('stopwords')\n",
        "nltk.download('punkt')\n",
        "\n",
        "stopwords_ = set(stopwords.words('english'))\n",
        "noise = (\n",
        "    '…', '—', '_', \n",
        "    'ⅰ', 'ⅱ', 'ⅲ', 'ⅳ', 'ⅴ', 'ⅵ', 'ⅶ', 'ⅷ', 'ⅸ', 'ⅹ', \n",
        "    '⁰', '¹', '²', '³', '⁴', '⁵', '⁶', '⁷', '⁸', '⁹', '',\n",
        "    '⅞', '¾',  '⅙', '⅔', '½', '¼', '⅛', '⅖',\n",
        "    '　', '', '๑', \n",
        "    '\u001e', '\u001f', '\u000b', \n",
        "    )\n"
      ]
    },
    {
      "cell_type": "code",
      "execution_count": 2,
      "metadata": {},
      "outputs": [],
      "source": [
        "def remove_URL(text):\n",
        "    \"\"\"\n",
        "        Remove URLs from a sample string\n",
        "    \"\"\"\n",
        "    return re.sub(r\"https?://\\S+|www\\.\\S+\", \"\", text)\n",
        "\n",
        "def remove_html(text):\n",
        "    \"\"\"\n",
        "        Remove the html in sample text\n",
        "    \"\"\"\n",
        "    html = re.compile(r\"<.*?>|&([a-z0-9]+|#[0-9]{1,6}|#x[0-9a-f]{1,6});\")\n",
        "    return re.sub(html, \"\", text)\n",
        "\n",
        "def remove_non_ascii(text):\n",
        "    \"\"\"\n",
        "        Remove non-ASCII characters \n",
        "    \"\"\"\n",
        "    return re.sub(r'[^\\x00-\\x7f]',r'', text)\n",
        "\n",
        "def remove_special_characters(text):\n",
        "    \"\"\"\n",
        "        Remove special special characters, including symbols, emojis, and other graphic characters\n",
        "    \"\"\"\n",
        "    emoji_pattern = re.compile(\n",
        "        '['\n",
        "        u'\\U0001F600-\\U0001F64F'  # emoticons\n",
        "        u'\\U0001F300-\\U0001F5FF'  # symbols & pictographs\n",
        "        u'\\U0001F680-\\U0001F6FF'  # transport & map symbols\n",
        "        u'\\U0001F1E0-\\U0001F1FF'  # flags (iOS)\n",
        "        u'\\U00002702-\\U000027B0'\n",
        "        u'\\U000024C2-\\U0001F251'\n",
        "        ']+',\n",
        "        flags=re.UNICODE)\n",
        "    return emoji_pattern.sub(r'', text)\n",
        "\n",
        "def remove_punct(text):\n",
        "    \"\"\"\n",
        "        Remove the punctuation\n",
        "    \"\"\"\n",
        "#     return re.sub(r'[]!\"$%&\\'()*+,./:;=#@?[\\\\^_`{|}~-]+', \"\", text)\n",
        "    return text.translate(str.maketrans('', '', string.punctuation))"
      ]
    },
    {
      "cell_type": "code",
      "execution_count": 3,
      "metadata": {},
      "outputs": [],
      "source": [
        "folder_path = \"data/fanfiction_texts/\""
      ]
    },
    {
      "cell_type": "code",
      "execution_count": 4,
      "metadata": {},
      "outputs": [
        {
          "name": "stderr",
          "output_type": "stream",
          "text": [
            "  0%|          | 0/36225 [00:00<?, ?it/s]"
          ]
        },
        {
          "name": "stderr",
          "output_type": "stream",
          "text": [
            "100%|██████████| 36225/36225 [00:52<00:00, 685.56it/s] \n"
          ]
        }
      ],
      "source": [
        "dataframe = pd.DataFrame(columns=['base_text'])\n",
        "\n",
        "for file_name in tqdm(os.listdir(folder_path)):\n",
        "    file_path = os.path.join(folder_path, file_name)\n",
        "    \n",
        "    with open(file_path, \"r\", encoding=\"utf-8\") as file:\n",
        "        text = file.read()\n",
        "\n",
        "    dataframe.loc[len(dataframe), :] = text"
      ]
    },
    {
      "cell_type": "code",
      "execution_count": 5,
      "metadata": {},
      "outputs": [],
      "source": [
        "dataframe.drop_duplicates(inplace=True)\n",
        "dataframe.reset_index(drop=True, inplace=True)"
      ]
    },
    {
      "cell_type": "code",
      "execution_count": 6,
      "metadata": {},
      "outputs": [],
      "source": [
        "dataframe[\"text\"] = dataframe['base_text']"
      ]
    },
    {
      "cell_type": "code",
      "execution_count": 7,
      "metadata": {},
      "outputs": [
        {
          "name": "stdout",
          "output_type": "stream",
          "text": [
            "36222\n"
          ]
        },
        {
          "data": {
            "text/html": [
              "<div>\n",
              "<style scoped>\n",
              "    .dataframe tbody tr th:only-of-type {\n",
              "        vertical-align: middle;\n",
              "    }\n",
              "\n",
              "    .dataframe tbody tr th {\n",
              "        vertical-align: top;\n",
              "    }\n",
              "\n",
              "    .dataframe thead th {\n",
              "        text-align: right;\n",
              "    }\n",
              "</style>\n",
              "<table border=\"1\" class=\"dataframe\">\n",
              "  <thead>\n",
              "    <tr style=\"text-align: right;\">\n",
              "      <th></th>\n",
              "      <th>base_text</th>\n",
              "      <th>text</th>\n",
              "    </tr>\n",
              "  </thead>\n",
              "  <tbody>\n",
              "    <tr>\n",
              "      <th>0</th>\n",
              "      <td>First, Harry heard a faint cursing, but this w...</td>\n",
              "      <td>First, Harry heard a faint cursing, but this w...</td>\n",
              "    </tr>\n",
              "    <tr>\n",
              "      <th>1</th>\n",
              "      <td>Title:  Questions Author:  persephoneapple Pai...</td>\n",
              "      <td>Title:  Questions Author:  persephoneapple Pai...</td>\n",
              "    </tr>\n",
              "    <tr>\n",
              "      <th>2</th>\n",
              "      <td>Harry Potter and all characters, etc. belong t...</td>\n",
              "      <td>Harry Potter and all characters, etc. belong t...</td>\n",
              "    </tr>\n",
              "    <tr>\n",
              "      <th>3</th>\n",
              "      <td>Disclaimer:  Harry Potter belongs to Rowling. ...</td>\n",
              "      <td>Disclaimer:  Harry Potter belongs to Rowling. ...</td>\n",
              "    </tr>\n",
              "    <tr>\n",
              "      <th>4</th>\n",
              "      <td>Authors note: I hope you all enjoy this story....</td>\n",
              "      <td>Authors note: I hope you all enjoy this story....</td>\n",
              "    </tr>\n",
              "  </tbody>\n",
              "</table>\n",
              "</div>"
            ],
            "text/plain": [
              "                                           base_text  \\\n",
              "0  First, Harry heard a faint cursing, but this w...   \n",
              "1  Title:  Questions Author:  persephoneapple Pai...   \n",
              "2  Harry Potter and all characters, etc. belong t...   \n",
              "3  Disclaimer:  Harry Potter belongs to Rowling. ...   \n",
              "4  Authors note: I hope you all enjoy this story....   \n",
              "\n",
              "                                                text  \n",
              "0  First, Harry heard a faint cursing, but this w...  \n",
              "1  Title:  Questions Author:  persephoneapple Pai...  \n",
              "2  Harry Potter and all characters, etc. belong t...  \n",
              "3  Disclaimer:  Harry Potter belongs to Rowling. ...  \n",
              "4  Authors note: I hope you all enjoy this story....  "
            ]
          },
          "execution_count": 7,
          "metadata": {},
          "output_type": "execute_result"
        }
      ],
      "source": [
        "print(len(dataframe))\n",
        "dataframe.head()"
      ]
    },
    {
      "cell_type": "markdown",
      "metadata": {},
      "source": [
        "### preprocessing"
      ]
    },
    {
      "cell_type": "code",
      "execution_count": 8,
      "metadata": {},
      "outputs": [
        {
          "data": {
            "application/vnd.jupyter.widget-view+json": {
              "model_id": "2eb26b99988740148c496c82f6ccec68",
              "version_major": 2,
              "version_minor": 0
            },
            "text/plain": [
              "VBox(children=(HBox(children=(IntProgress(value=0, description='0.00%', max=4528), Label(value='0 / 4528'))), …"
            ]
          },
          "metadata": {},
          "output_type": "display_data"
        },
        {
          "data": {
            "text/plain": [
              "0"
            ]
          },
          "execution_count": 8,
          "metadata": {},
          "output_type": "execute_result"
        }
      ],
      "source": [
        "dataframe[\"text\"] = dataframe.text.parallel_apply(contractions.fix)\n",
        "dataframe[\"text\"] = dataframe.text.apply(remove_URL)\n",
        "dataframe[\"text\"] = dataframe.text.apply(remove_html)\n",
        "dataframe[\"text\"] = dataframe.text.apply(remove_non_ascii)\n",
        "dataframe[\"text\"] = dataframe.text.apply(remove_special_characters)\n",
        "gc.collect()"
      ]
    },
    {
      "cell_type": "code",
      "execution_count": 9,
      "metadata": {},
      "outputs": [
        {
          "data": {
            "application/vnd.jupyter.widget-view+json": {
              "model_id": "56c3f4d182614b4fb0b052239e57ea03",
              "version_major": 2,
              "version_minor": 0
            },
            "text/plain": [
              "VBox(children=(HBox(children=(IntProgress(value=0, description='0.00%', max=4528), Label(value='0 / 4528'))), …"
            ]
          },
          "metadata": {},
          "output_type": "display_data"
        },
        {
          "data": {
            "text/plain": [
              "0"
            ]
          },
          "execution_count": 9,
          "metadata": {},
          "output_type": "execute_result"
        }
      ],
      "source": [
        "dataframe[\"tokenize_text\"] = dataframe[\"text\"].parallel_apply(word_tokenize)\n",
        "dataframe[\"clean_text\"] = dataframe[\"tokenize_text\"].apply(lambda x: ' '.join([word for word in x if word.lower() not in stopwords_]))\n",
        "gc.collect()"
      ]
    },
    {
      "cell_type": "code",
      "execution_count": 12,
      "metadata": {},
      "outputs": [],
      "source": [
        "dataframe[['clean_text']].to_csv('dataframe.csv')"
      ]
    },
    {
      "cell_type": "code",
      "execution_count": 14,
      "metadata": {},
      "outputs": [
        {
          "data": {
            "text/html": [
              "<div>\n",
              "<style scoped>\n",
              "    .dataframe tbody tr th:only-of-type {\n",
              "        vertical-align: middle;\n",
              "    }\n",
              "\n",
              "    .dataframe tbody tr th {\n",
              "        vertical-align: top;\n",
              "    }\n",
              "\n",
              "    .dataframe thead th {\n",
              "        text-align: right;\n",
              "    }\n",
              "</style>\n",
              "<table border=\"1\" class=\"dataframe\">\n",
              "  <thead>\n",
              "    <tr style=\"text-align: right;\">\n",
              "      <th></th>\n",
              "      <th>clean_text</th>\n",
              "    </tr>\n",
              "  </thead>\n",
              "  <tbody>\n",
              "    <tr>\n",
              "      <th>0</th>\n",
              "      <td>First , Harry heard faint cursing , nothing un...</td>\n",
              "    </tr>\n",
              "    <tr>\n",
              "      <th>1</th>\n",
              "      <td>Title : Questions Author : persephoneapple Pai...</td>\n",
              "    </tr>\n",
              "    <tr>\n",
              "      <th>2</th>\n",
              "      <td>Harry Potter characters , etc . belong J.K. Ro...</td>\n",
              "    </tr>\n",
              "    <tr>\n",
              "      <th>3</th>\n",
              "      <td>Disclaimer : Harry Potter belongs Rowling . pl...</td>\n",
              "    </tr>\n",
              "    <tr>\n",
              "      <th>4</th>\n",
              "      <td>Authors note : hope enjoy story . looked anyon...</td>\n",
              "    </tr>\n",
              "    <tr>\n",
              "      <th>...</th>\n",
              "      <td>...</td>\n",
              "    </tr>\n",
              "    <tr>\n",
              "      <th>36217</th>\n",
              "      <td>Disclaimer : Harry Potter series . belong J.K....</td>\n",
              "    </tr>\n",
              "    <tr>\n",
              "      <th>36218</th>\n",
              "      <td>A/N : little thing wrote amusement . Probably ...</td>\n",
              "    </tr>\n",
              "    <tr>\n",
              "      <th>36219</th>\n",
              "      <td>always thought amusing Killing curse green gre...</td>\n",
              "    </tr>\n",
              "    <tr>\n",
              "      <th>36220</th>\n",
              "      <td>Warning : Rated Mature upsetting nonconsensual...</td>\n",
              "    </tr>\n",
              "    <tr>\n",
              "      <th>36221</th>\n",
              "      <td>another twisted story starting around Hogwarts...</td>\n",
              "    </tr>\n",
              "  </tbody>\n",
              "</table>\n",
              "<p>36222 rows × 1 columns</p>\n",
              "</div>"
            ],
            "text/plain": [
              "                                              clean_text\n",
              "0      First , Harry heard faint cursing , nothing un...\n",
              "1      Title : Questions Author : persephoneapple Pai...\n",
              "2      Harry Potter characters , etc . belong J.K. Ro...\n",
              "3      Disclaimer : Harry Potter belongs Rowling . pl...\n",
              "4      Authors note : hope enjoy story . looked anyon...\n",
              "...                                                  ...\n",
              "36217  Disclaimer : Harry Potter series . belong J.K....\n",
              "36218  A/N : little thing wrote amusement . Probably ...\n",
              "36219  always thought amusing Killing curse green gre...\n",
              "36220  Warning : Rated Mature upsetting nonconsensual...\n",
              "36221  another twisted story starting around Hogwarts...\n",
              "\n",
              "[36222 rows x 1 columns]"
            ]
          },
          "execution_count": 14,
          "metadata": {},
          "output_type": "execute_result"
        }
      ],
      "source": [
        "pd.read_parquet('dataframe.parquet')"
      ]
    },
    {
      "cell_type": "markdown",
      "metadata": {},
      "source": [
        "## FREQ TASK"
      ]
    },
    {
      "cell_type": "markdown",
      "metadata": {},
      "source": [
        "### 1. Найдите топ-1000 слов по частоте без учета стоп-слов."
      ]
    },
    {
      "cell_type": "code",
      "execution_count": 12,
      "metadata": {},
      "outputs": [
        {
          "data": {
            "text/html": [
              "<div>\n",
              "<style scoped>\n",
              "    .dataframe tbody tr th:only-of-type {\n",
              "        vertical-align: middle;\n",
              "    }\n",
              "\n",
              "    .dataframe tbody tr th {\n",
              "        vertical-align: top;\n",
              "    }\n",
              "\n",
              "    .dataframe thead th {\n",
              "        text-align: right;\n",
              "    }\n",
              "</style>\n",
              "<table border=\"1\" class=\"dataframe\">\n",
              "  <thead>\n",
              "    <tr style=\"text-align: right;\">\n",
              "      <th></th>\n",
              "      <th>clean_text</th>\n",
              "    </tr>\n",
              "  </thead>\n",
              "  <tbody>\n",
              "    <tr>\n",
              "      <th>0</th>\n",
              "      <td>First , Harry heard faint cursing , nothing un...</td>\n",
              "    </tr>\n",
              "    <tr>\n",
              "      <th>1</th>\n",
              "      <td>Title : Questions Author : persephoneapple Pai...</td>\n",
              "    </tr>\n",
              "    <tr>\n",
              "      <th>2</th>\n",
              "      <td>Harry Potter characters , etc . belong J.K. Ro...</td>\n",
              "    </tr>\n",
              "    <tr>\n",
              "      <th>3</th>\n",
              "      <td>Disclaimer : Harry Potter belongs Rowling . pl...</td>\n",
              "    </tr>\n",
              "    <tr>\n",
              "      <th>4</th>\n",
              "      <td>Authors note : hope enjoy story . looked anyon...</td>\n",
              "    </tr>\n",
              "  </tbody>\n",
              "</table>\n",
              "</div>"
            ],
            "text/plain": [
              "                                          clean_text\n",
              "0  First , Harry heard faint cursing , nothing un...\n",
              "1  Title : Questions Author : persephoneapple Pai...\n",
              "2  Harry Potter characters , etc . belong J.K. Ro...\n",
              "3  Disclaimer : Harry Potter belongs Rowling . pl...\n",
              "4  Authors note : hope enjoy story . looked anyon..."
            ]
          },
          "execution_count": 12,
          "metadata": {},
          "output_type": "execute_result"
        }
      ],
      "source": [
        "df = pd.read_parquet('dataframe.parquet')\n",
        "df.head()"
      ]
    },
    {
      "cell_type": "code",
      "execution_count": 13,
      "metadata": {},
      "outputs": [
        {
          "data": {
            "application/vnd.jupyter.widget-view+json": {
              "model_id": "4da2da4e4dd34b8b8d8569007d8e7db6",
              "version_major": 2,
              "version_minor": 0
            },
            "text/plain": [
              "VBox(children=(HBox(children=(IntProgress(value=0, description='0.00%', max=4528), Label(value='0 / 4528'))), …"
            ]
          },
          "metadata": {},
          "output_type": "display_data"
        }
      ],
      "source": [
        "df['lower_text_no_punct'] = df.clean_text.str.lower().apply(remove_punct)\n",
        "df['lwower_tokenize'] = df['lower_text_no_punct'].parallel_apply(word_tokenize)\n",
        "df['word_counter'] = df['lwower_tokenize'].apply(Counter)"
      ]
    },
    {
      "cell_type": "code",
      "execution_count": 14,
      "metadata": {},
      "outputs": [],
      "source": [
        "all_word_counter = df['word_counter'].sum()\n",
        "\n",
        "with open('all_word_counter.pkl', 'wb') as f:\n",
        "    pickle.dump(all_word_counter, f)"
      ]
    },
    {
      "cell_type": "code",
      "execution_count": 66,
      "metadata": {},
      "outputs": [
        {
          "data": {
            "text/html": [
              "<div>\n",
              "<style scoped>\n",
              "    .dataframe tbody tr th:only-of-type {\n",
              "        vertical-align: middle;\n",
              "    }\n",
              "\n",
              "    .dataframe tbody tr th {\n",
              "        vertical-align: top;\n",
              "    }\n",
              "\n",
              "    .dataframe thead th {\n",
              "        text-align: right;\n",
              "    }\n",
              "</style>\n",
              "<table border=\"1\" class=\"dataframe\">\n",
              "  <thead>\n",
              "    <tr style=\"text-align: right;\">\n",
              "      <th></th>\n",
              "      <th>word</th>\n",
              "      <th>freq</th>\n",
              "    </tr>\n",
              "  </thead>\n",
              "  <tbody>\n",
              "    <tr>\n",
              "      <th>0</th>\n",
              "      <td>harry</td>\n",
              "      <td>3975920</td>\n",
              "    </tr>\n",
              "    <tr>\n",
              "      <th>1</th>\n",
              "      <td>s</td>\n",
              "      <td>2769627</td>\n",
              "    </tr>\n",
              "    <tr>\n",
              "      <th>2</th>\n",
              "      <td>would</td>\n",
              "      <td>2754058</td>\n",
              "    </tr>\n",
              "    <tr>\n",
              "      <th>3</th>\n",
              "      <td>said</td>\n",
              "      <td>2261000</td>\n",
              "    </tr>\n",
              "    <tr>\n",
              "      <th>4</th>\n",
              "      <td>hermione</td>\n",
              "      <td>1820846</td>\n",
              "    </tr>\n",
              "    <tr>\n",
              "      <th>...</th>\n",
              "      <td>...</td>\n",
              "      <td>...</td>\n",
              "    </tr>\n",
              "    <tr>\n",
              "      <th>995</th>\n",
              "      <td>huge</td>\n",
              "      <td>41231</td>\n",
              "    </tr>\n",
              "    <tr>\n",
              "      <th>996</th>\n",
              "      <td>joined</td>\n",
              "      <td>41216</td>\n",
              "    </tr>\n",
              "    <tr>\n",
              "      <th>997</th>\n",
              "      <td>crossed</td>\n",
              "      <td>41174</td>\n",
              "    </tr>\n",
              "    <tr>\n",
              "      <th>998</th>\n",
              "      <td>comes</td>\n",
              "      <td>41095</td>\n",
              "    </tr>\n",
              "    <tr>\n",
              "      <th>999</th>\n",
              "      <td>talked</td>\n",
              "      <td>41082</td>\n",
              "    </tr>\n",
              "  </tbody>\n",
              "</table>\n",
              "<p>1000 rows × 2 columns</p>\n",
              "</div>"
            ],
            "text/plain": [
              "         word     freq\n",
              "0       harry  3975920\n",
              "1           s  2769627\n",
              "2       would  2754058\n",
              "3        said  2261000\n",
              "4    hermione  1820846\n",
              "..        ...      ...\n",
              "995      huge    41231\n",
              "996    joined    41216\n",
              "997   crossed    41174\n",
              "998     comes    41095\n",
              "999    talked    41082\n",
              "\n",
              "[1000 rows x 2 columns]"
            ]
          },
          "execution_count": 66,
          "metadata": {},
          "output_type": "execute_result"
        }
      ],
      "source": [
        "top_1000 = all_word_counter.most_common(1000)\n",
        "pd.DataFrame(top_1000, columns=['word', 'freq'])"
      ]
    },
    {
      "cell_type": "markdown",
      "metadata": {},
      "source": [
        "### 2. Найдите топ-10 по частоте: имен, пар имя + фамилия, пар вида ''профессор'' + имя / фамилия."
      ]
    },
    {
      "cell_type": "code",
      "execution_count": 16,
      "metadata": {},
      "outputs": [
        {
          "data": {
            "text/html": [
              "<div>\n",
              "<style scoped>\n",
              "    .dataframe tbody tr th:only-of-type {\n",
              "        vertical-align: middle;\n",
              "    }\n",
              "\n",
              "    .dataframe tbody tr th {\n",
              "        vertical-align: top;\n",
              "    }\n",
              "\n",
              "    .dataframe thead th {\n",
              "        text-align: right;\n",
              "    }\n",
              "</style>\n",
              "<table border=\"1\" class=\"dataframe\">\n",
              "  <thead>\n",
              "    <tr style=\"text-align: right;\">\n",
              "      <th></th>\n",
              "      <th>clean_text</th>\n",
              "    </tr>\n",
              "  </thead>\n",
              "  <tbody>\n",
              "    <tr>\n",
              "      <th>0</th>\n",
              "      <td>First , Harry heard faint cursing , nothing un...</td>\n",
              "    </tr>\n",
              "    <tr>\n",
              "      <th>1</th>\n",
              "      <td>Title : Questions Author : persephoneapple Pai...</td>\n",
              "    </tr>\n",
              "    <tr>\n",
              "      <th>2</th>\n",
              "      <td>Harry Potter characters , etc . belong J.K. Ro...</td>\n",
              "    </tr>\n",
              "    <tr>\n",
              "      <th>3</th>\n",
              "      <td>Disclaimer : Harry Potter belongs Rowling . pl...</td>\n",
              "    </tr>\n",
              "    <tr>\n",
              "      <th>4</th>\n",
              "      <td>Authors note : hope enjoy story . looked anyon...</td>\n",
              "    </tr>\n",
              "  </tbody>\n",
              "</table>\n",
              "</div>"
            ],
            "text/plain": [
              "                                          clean_text\n",
              "0  First , Harry heard faint cursing , nothing un...\n",
              "1  Title : Questions Author : persephoneapple Pai...\n",
              "2  Harry Potter characters , etc . belong J.K. Ro...\n",
              "3  Disclaimer : Harry Potter belongs Rowling . pl...\n",
              "4  Authors note : hope enjoy story . looked anyon..."
            ]
          },
          "execution_count": 16,
          "metadata": {},
          "output_type": "execute_result"
        }
      ],
      "source": [
        "df = pd.read_parquet('dataframe.parquet')\n",
        "df.head()"
      ]
    },
    {
      "cell_type": "code",
      "execution_count": 17,
      "metadata": {},
      "outputs": [],
      "source": [
        "import re\n",
        "\n",
        "global extract_names\n",
        "def extract_names(text, pattern):\n",
        "    return re.findall(pattern, text)\n",
        "\n",
        "re_patterns = {\n",
        "    'names': r\"\\b([A-Z][a-zA-Z]*)\\b\",\n",
        "    'full_names': r\"\\b([A-Z][a-zA-Z]*)\\s([A-Z][a-zA-Z]*)\\b\",#r\"\\b(?![Pp]rofessor)\\b([A-Z][a-zA-Z]*)\\s([A-Z][a-zA-Z]*)\\b\",\n",
        "    'professors': r\"\\b(?:[Pp]rofessor) [A-Z][a-zA-Z]+\\b\", #r\"\\b(?:[Pp]rofessor)\\s([A-Z][a-zA-Z]*)\\b\",\n",
        "}"
      ]
    },
    {
      "cell_type": "code",
      "execution_count": 18,
      "metadata": {},
      "outputs": [
        {
          "name": "stderr",
          "output_type": "stream",
          "text": [
            "100%|██████████| 3/3 [2:39:56<00:00, 3198.91s/it]  \n"
          ]
        }
      ],
      "source": [
        "pattern_freq_dict = dict()\n",
        "for pattern in tqdm(re_patterns.keys()):\n",
        "    df_pattern = df[[\"clean_text\"]].copy()\n",
        "    df_pattern[f\"{pattern}\"] = df_pattern[\"clean_text\"].apply(lambda x: extract_names(x, re_patterns[pattern]))\n",
        "    df_pattern[f\"counter_{pattern}\"] = df_pattern[f\"{pattern}\"].apply(Counter)\n",
        "    \n",
        "    df_pattern.to_csv(f\"{pattern}_pattern.csv\")\n",
        "    df_pattern = df_pattern[[f\"counter_{pattern}\"]]\n",
        "    \n",
        "    pattern_freq_dict[pattern] = df_pattern[f\"counter_{pattern}\"].sum()\n",
        "\n",
        "    del df_pattern\n",
        "    gc.collect()"
      ]
    },
    {
      "cell_type": "code",
      "execution_count": 19,
      "metadata": {},
      "outputs": [],
      "source": [
        "with open('pattern_freq_dict.pkl', 'wb') as f:\n",
        "    pickle.dump(pattern_freq_dict, f)"
      ]
    },
    {
      "cell_type": "markdown",
      "metadata": {},
      "source": [
        "### names"
      ]
    },
    {
      "cell_type": "code",
      "execution_count": 20,
      "metadata": {},
      "outputs": [
        {
          "data": {
            "text/html": [
              "<div>\n",
              "<style scoped>\n",
              "    .dataframe tbody tr th:only-of-type {\n",
              "        vertical-align: middle;\n",
              "    }\n",
              "\n",
              "    .dataframe tbody tr th {\n",
              "        vertical-align: top;\n",
              "    }\n",
              "\n",
              "    .dataframe thead th {\n",
              "        text-align: right;\n",
              "    }\n",
              "</style>\n",
              "<table border=\"1\" class=\"dataframe\">\n",
              "  <thead>\n",
              "    <tr style=\"text-align: right;\">\n",
              "      <th></th>\n",
              "      <th>name</th>\n",
              "      <th>freq</th>\n",
              "    </tr>\n",
              "  </thead>\n",
              "  <tbody>\n",
              "    <tr>\n",
              "      <th>0</th>\n",
              "      <td>Harry</td>\n",
              "      <td>3978917</td>\n",
              "    </tr>\n",
              "    <tr>\n",
              "      <th>1</th>\n",
              "      <td>Hermione</td>\n",
              "      <td>1824702</td>\n",
              "    </tr>\n",
              "    <tr>\n",
              "      <th>2</th>\n",
              "      <td>Draco</td>\n",
              "      <td>1384301</td>\n",
              "    </tr>\n",
              "    <tr>\n",
              "      <th>3</th>\n",
              "      <td>Ron</td>\n",
              "      <td>901258</td>\n",
              "    </tr>\n",
              "    <tr>\n",
              "      <th>4</th>\n",
              "      <td>Severus</td>\n",
              "      <td>653342</td>\n",
              "    </tr>\n",
              "    <tr>\n",
              "      <th>5</th>\n",
              "      <td>Ginny</td>\n",
              "      <td>636865</td>\n",
              "    </tr>\n",
              "    <tr>\n",
              "      <th>6</th>\n",
              "      <td>Sirius</td>\n",
              "      <td>627168</td>\n",
              "    </tr>\n",
              "    <tr>\n",
              "      <th>7</th>\n",
              "      <td>Potter</td>\n",
              "      <td>599628</td>\n",
              "    </tr>\n",
              "    <tr>\n",
              "      <th>8</th>\n",
              "      <td>Snape</td>\n",
              "      <td>597333</td>\n",
              "    </tr>\n",
              "    <tr>\n",
              "      <th>9</th>\n",
              "      <td>Malfoy</td>\n",
              "      <td>482966</td>\n",
              "    </tr>\n",
              "  </tbody>\n",
              "</table>\n",
              "</div>"
            ],
            "text/plain": [
              "       name     freq\n",
              "0     Harry  3978917\n",
              "1  Hermione  1824702\n",
              "2     Draco  1384301\n",
              "3       Ron   901258\n",
              "4   Severus   653342\n",
              "5     Ginny   636865\n",
              "6    Sirius   627168\n",
              "7    Potter   599628\n",
              "8     Snape   597333\n",
              "9    Malfoy   482966"
            ]
          },
          "execution_count": 20,
          "metadata": {},
          "output_type": "execute_result"
        }
      ],
      "source": [
        "pd.DataFrame(pattern_freq_dict['names'].most_common(10), columns=['name', 'freq'])"
      ]
    },
    {
      "cell_type": "markdown",
      "metadata": {},
      "source": [
        "### full names"
      ]
    },
    {
      "cell_type": "code",
      "execution_count": 22,
      "metadata": {},
      "outputs": [
        {
          "data": {
            "text/plain": [
              "[(('Dark', 'Lord'), 125836),\n",
              " (('Harry', 'Potter'), 122907),\n",
              " (('Death', 'Eaters'), 103013),\n",
              " (('Death', 'Eater'), 65974),\n",
              " (('Great', 'Hall'), 57613),\n",
              " (('Draco', 'Malfoy'), 47011),\n",
              " (('Professor', 'Snape'), 42019),\n",
              " (('Professor', 'McGonagall'), 40079),\n",
              " (('Ron', 'Hermione'), 39006),\n",
              " (('Miss', 'Granger'), 35868)]"
            ]
          },
          "execution_count": 22,
          "metadata": {},
          "output_type": "execute_result"
        }
      ],
      "source": [
        "pattern_freq_dict[\"full_names\"].most_common(10)"
      ]
    },
    {
      "cell_type": "code",
      "execution_count": 29,
      "metadata": {},
      "outputs": [
        {
          "data": {
            "text/html": [
              "<div>\n",
              "<style scoped>\n",
              "    .dataframe tbody tr th:only-of-type {\n",
              "        vertical-align: middle;\n",
              "    }\n",
              "\n",
              "    .dataframe tbody tr th {\n",
              "        vertical-align: top;\n",
              "    }\n",
              "\n",
              "    .dataframe thead th {\n",
              "        text-align: right;\n",
              "    }\n",
              "</style>\n",
              "<table border=\"1\" class=\"dataframe\">\n",
              "  <thead>\n",
              "    <tr style=\"text-align: right;\">\n",
              "      <th></th>\n",
              "      <th>name</th>\n",
              "      <th>freq</th>\n",
              "    </tr>\n",
              "  </thead>\n",
              "  <tbody>\n",
              "    <tr>\n",
              "      <th>0</th>\n",
              "      <td>(Harry, Potter)</td>\n",
              "      <td>122907</td>\n",
              "    </tr>\n",
              "    <tr>\n",
              "      <th>1</th>\n",
              "      <td>(Draco, Malfoy)</td>\n",
              "      <td>47011</td>\n",
              "    </tr>\n",
              "    <tr>\n",
              "      <th>2</th>\n",
              "      <td>(Ron, Hermione)</td>\n",
              "      <td>39006</td>\n",
              "    </tr>\n",
              "    <tr>\n",
              "      <th>3</th>\n",
              "      <td>(Severus, Snape)</td>\n",
              "      <td>29636</td>\n",
              "    </tr>\n",
              "    <tr>\n",
              "      <th>4</th>\n",
              "      <td>(Hermione, Granger)</td>\n",
              "      <td>29635</td>\n",
              "    </tr>\n",
              "    <tr>\n",
              "      <th>5</th>\n",
              "      <td>(Sirius, Black)</td>\n",
              "      <td>26018</td>\n",
              "    </tr>\n",
              "    <tr>\n",
              "      <th>6</th>\n",
              "      <td>(Diagon, Alley)</td>\n",
              "      <td>24209</td>\n",
              "    </tr>\n",
              "    <tr>\n",
              "      <th>7</th>\n",
              "      <td>(Lucius, Malfoy)</td>\n",
              "      <td>22989</td>\n",
              "    </tr>\n",
              "    <tr>\n",
              "      <th>8</th>\n",
              "      <td>(Albus, Dumbledore)</td>\n",
              "      <td>20756</td>\n",
              "    </tr>\n",
              "    <tr>\n",
              "      <th>9</th>\n",
              "      <td>(James, Potter)</td>\n",
              "      <td>20309</td>\n",
              "    </tr>\n",
              "  </tbody>\n",
              "</table>\n",
              "</div>"
            ],
            "text/plain": [
              "                  name    freq\n",
              "0      (Harry, Potter)  122907\n",
              "1      (Draco, Malfoy)   47011\n",
              "2      (Ron, Hermione)   39006\n",
              "3     (Severus, Snape)   29636\n",
              "4  (Hermione, Granger)   29635\n",
              "5      (Sirius, Black)   26018\n",
              "6      (Diagon, Alley)   24209\n",
              "7     (Lucius, Malfoy)   22989\n",
              "8  (Albus, Dumbledore)   20756\n",
              "9      (James, Potter)   20309"
            ]
          },
          "execution_count": 29,
          "metadata": {},
          "output_type": "execute_result"
        }
      ],
      "source": [
        "top_full_names = {}\n",
        "for pair, count in pattern_freq_dict[\"full_names\"].most_common():\n",
        "    if (pair[0] not in ('Mrs', 'Mr', 'Miss', 'Professor', 'Madam')) and pair not in (('Great', 'Hall'), ('Death', 'Eaters'), ('Dark', 'Lord'), ('Death', 'Eater'), ('Harry', 'Ron'), ('Lord', 'Voldemort'), ('Harry', 'Hermione'), ('Fred', 'George')):\n",
        "        top_full_names[pair] = count\n",
        "        if len(top_full_names) == 10:\n",
        "            break\n",
        "pd.DataFrame(Counter(top_full_names).most_common(10), columns=['name', 'freq'])"
      ]
    },
    {
      "cell_type": "markdown",
      "metadata": {},
      "source": [
        "NICE !\n"
      ]
    },
    {
      "cell_type": "markdown",
      "metadata": {},
      "source": [
        "### professors"
      ]
    },
    {
      "cell_type": "code",
      "execution_count": null,
      "metadata": {},
      "outputs": [],
      "source": [
        "with open('pattern_freq_dict.pkl', 'rb') as f:\n",
        "    pattern_freq_dict = pickle.load(f)"
      ]
    },
    {
      "cell_type": "code",
      "execution_count": 23,
      "metadata": {},
      "outputs": [],
      "source": [
        "def change_first_letter_to_lower(s):\n",
        "    if len(s) > 0:\n",
        "        return s[0].lower() + s[1:]\n",
        "    return s"
      ]
    },
    {
      "cell_type": "code",
      "execution_count": 24,
      "metadata": {},
      "outputs": [
        {
          "data": {
            "text/html": [
              "<div>\n",
              "<style scoped>\n",
              "    .dataframe tbody tr th:only-of-type {\n",
              "        vertical-align: middle;\n",
              "    }\n",
              "\n",
              "    .dataframe tbody tr th {\n",
              "        vertical-align: top;\n",
              "    }\n",
              "\n",
              "    .dataframe thead th {\n",
              "        text-align: right;\n",
              "    }\n",
              "</style>\n",
              "<table border=\"1\" class=\"dataframe\">\n",
              "  <thead>\n",
              "    <tr style=\"text-align: right;\">\n",
              "      <th></th>\n",
              "      <th>professor</th>\n",
              "      <th>freq</th>\n",
              "    </tr>\n",
              "  </thead>\n",
              "  <tbody>\n",
              "    <tr>\n",
              "      <th>0</th>\n",
              "      <td>professor Snape</td>\n",
              "      <td>45093</td>\n",
              "    </tr>\n",
              "    <tr>\n",
              "      <th>1</th>\n",
              "      <td>professor McGonagall</td>\n",
              "      <td>42378</td>\n",
              "    </tr>\n",
              "    <tr>\n",
              "      <th>2</th>\n",
              "      <td>professor Dumbledore</td>\n",
              "      <td>23951</td>\n",
              "    </tr>\n",
              "    <tr>\n",
              "      <th>3</th>\n",
              "      <td>professor Lupin</td>\n",
              "      <td>9988</td>\n",
              "    </tr>\n",
              "    <tr>\n",
              "      <th>4</th>\n",
              "      <td>professor Flitwick</td>\n",
              "      <td>9489</td>\n",
              "    </tr>\n",
              "    <tr>\n",
              "      <th>5</th>\n",
              "      <td>professor Slughorn</td>\n",
              "      <td>5843</td>\n",
              "    </tr>\n",
              "    <tr>\n",
              "      <th>6</th>\n",
              "      <td>professor Sprout</td>\n",
              "      <td>5747</td>\n",
              "    </tr>\n",
              "    <tr>\n",
              "      <th>7</th>\n",
              "      <td>professor Trelawney</td>\n",
              "      <td>3158</td>\n",
              "    </tr>\n",
              "    <tr>\n",
              "      <th>8</th>\n",
              "      <td>professor Umbridge</td>\n",
              "      <td>2862</td>\n",
              "    </tr>\n",
              "    <tr>\n",
              "      <th>9</th>\n",
              "      <td>professor Longbottom</td>\n",
              "      <td>2367</td>\n",
              "    </tr>\n",
              "  </tbody>\n",
              "</table>\n",
              "</div>"
            ],
            "text/plain": [
              "              professor   freq\n",
              "0       professor Snape  45093\n",
              "1  professor McGonagall  42378\n",
              "2  professor Dumbledore  23951\n",
              "3       professor Lupin   9988\n",
              "4    professor Flitwick   9489\n",
              "5    professor Slughorn   5843\n",
              "6      professor Sprout   5747\n",
              "7   professor Trelawney   3158\n",
              "8    professor Umbridge   2862\n",
              "9  professor Longbottom   2367"
            ]
          },
          "execution_count": 24,
          "metadata": {},
          "output_type": "execute_result"
        }
      ],
      "source": [
        "professors_counter = Counter()\n",
        "for key, value in pattern_freq_dict['professors'].items():\n",
        "    new_key = change_first_letter_to_lower(key)\n",
        "\n",
        "    professors_counter += Counter({new_key: value})\n",
        "    \n",
        "pd.DataFrame(professors_counter.most_common(10), columns=['professor', 'freq'])"
      ]
    },
    {
      "cell_type": "markdown",
      "metadata": {},
      "source": [
        "#"
      ]
    },
    {
      "cell_type": "markdown",
      "metadata": {},
      "source": [
        "\n",
        "[бонус] Постройте тематическую модель по корпусу HPAC.\n",
        "\n",
        "[бонус] Найдите еще что-то интересное в корпусе (что-то специфичное для фанфиков или фентези-тематики)\n"
      ]
    },
    {
      "cell_type": "markdown",
      "metadata": {},
      "source": [
        "\n",
        "## Часть 2. [2 балла] Модели представления слов\n",
        "Обучите модель представления слов (word2vec, GloVe, fastText или любую другую) на материале корпуса HPAC.\n"
      ]
    },
    {
      "cell_type": "code",
      "execution_count": 13,
      "metadata": {},
      "outputs": [],
      "source": [
        "import pandas as pd\n",
        "import multiprocessing\n",
        "\n",
        "from gensim.models import Word2Vec\n",
        "from sklearn.manifold import TSNE\n",
        "\n",
        "cores = multiprocessing.cpu_count()"
      ]
    },
    {
      "cell_type": "code",
      "execution_count": 14,
      "metadata": {},
      "outputs": [
        {
          "data": {
            "application/vnd.jupyter.widget-view+json": {
              "model_id": "5bf0d75c55bc434fbe140788498765c6",
              "version_major": 2,
              "version_minor": 0
            },
            "text/plain": [
              "VBox(children=(HBox(children=(IntProgress(value=0, description='0.00%', max=4528), Label(value='0 / 4528'))), …"
            ]
          },
          "metadata": {},
          "output_type": "display_data"
        }
      ],
      "source": [
        "df = pd.read_csv('dataframe.csv')\n",
        "df['lower_text_no_punct'] = df.clean_text.str.lower().apply(remove_punct)\n",
        "df['lwower_tokenize'] = df['lower_text_no_punct'].parallel_apply(word_tokenize)\n",
        "\n",
        "corpus = df['lwower_tokenize'].to_list()"
      ]
    },
    {
      "cell_type": "code",
      "execution_count": 15,
      "metadata": {},
      "outputs": [],
      "source": [
        "# Обучение модели word2vec\n",
        "model = Word2Vec(corpus, vector_size=100, window=5, min_count=5, workers=cores-1)"
      ]
    },
    {
      "cell_type": "code",
      "execution_count": 16,
      "metadata": {},
      "outputs": [],
      "source": [
        "# Получение векторных представлений слов\n",
        "word_embeddings = model.wv"
      ]
    },
    {
      "cell_type": "code",
      "execution_count": 17,
      "metadata": {},
      "outputs": [],
      "source": [
        "word_embeddings.save_word2vec_format('word_embeddings.bin', binary=True)"
      ]
    },
    {
      "cell_type": "code",
      "execution_count": 18,
      "metadata": {},
      "outputs": [],
      "source": [
        "# Получение списка всех слов\n",
        "words = list(word_embeddings.key_to_index.keys())\n",
        "\n",
        "# Получение векторов слов\n",
        "word_vectors = word_embeddings[words]"
      ]
    },
    {
      "cell_type": "code",
      "execution_count": 19,
      "metadata": {},
      "outputs": [],
      "source": [
        "# Снижение размерности векторов с помощью t-SNE\n",
        "tsne = TSNE(n_components=2, random_state=42)\n",
        "word_vectors_tsne = tsne.fit_transform(word_vectors)"
      ]
    },
    {
      "cell_type": "code",
      "execution_count": 20,
      "metadata": {},
      "outputs": [],
      "source": [
        "# Создание DataFrame с информацией о словах и их векторах после t-SNE\n",
        "word_df = pd.DataFrame(word_vectors_tsne, index=words, columns=['x', 'y'])"
      ]
    },
    {
      "cell_type": "code",
      "execution_count": 21,
      "metadata": {},
      "outputs": [],
      "source": [
        "# Визуализация топ-1000 слов\n",
        "top_words = word_df.sort_values(by='x').iloc[:1000]"
      ]
    },
    {
      "cell_type": "markdown",
      "metadata": {},
      "source": [
        "### 1. Продемонстрируйте, как работает поиск синонимов, ассоциаций, лишних слов в обученной модели."
      ]
    },
    {
      "cell_type": "markdown",
      "metadata": {},
      "source": [
        "#### синонимы"
      ]
    },
    {
      "cell_type": "code",
      "execution_count": 22,
      "metadata": {},
      "outputs": [],
      "source": [
        "def show_similar(w, word_embeddings):\n",
        "    print('Слова, близкие к слову {}:'.format(w))\n",
        "    similar_words = word_embeddings.most_similar(positive=[w])\n",
        "    for w in similar_words:\n",
        "        print(w)\n",
        "    print('\\n')"
      ]
    },
    {
      "cell_type": "code",
      "execution_count": 23,
      "metadata": {},
      "outputs": [
        {
          "name": "stdout",
          "output_type": "stream",
          "text": [
            "Слова, близкие к слову spell:\n",
            "('counterspell', 0.8453128933906555)\n",
            "('countercharm', 0.830565333366394)\n",
            "('charm', 0.8287970423698425)\n",
            "('spells', 0.8174357414245605)\n",
            "('countercurse', 0.7937067747116089)\n",
            "('curse', 0.7585912346839905)\n",
            "('counterjinx', 0.7533854842185974)\n",
            "('enchantment', 0.732124388217926)\n",
            "('nonverbally', 0.7292430400848389)\n",
            "('silencer', 0.7125468850135803)\n",
            "\n",
            "\n",
            "Слова, близкие к слову dating:\n",
            "('dated', 0.8043968677520752)\n",
            "('fancying', 0.7645979523658752)\n",
            "('fancied', 0.707612931728363)\n",
            "('gay', 0.6927344799041748)\n",
            "('marrying', 0.6773286461830139)\n",
            "('shagging', 0.6731544733047485)\n",
            "('talking', 0.658692479133606)\n",
            "('crush', 0.6546252369880676)\n",
            "('snogging', 0.651677131652832)\n",
            "('bisexual', 0.6463444232940674)\n",
            "\n",
            "\n",
            "Слова, близкие к слову gay:\n",
            "('bisexual', 0.862683117389679)\n",
            "('bi', 0.8157513737678528)\n",
            "('lesbian', 0.7858288884162903)\n",
            "('dating', 0.6927344799041748)\n",
            "('fancied', 0.6824777126312256)\n",
            "('sex', 0.6702308654785156)\n",
            "('homosexual', 0.6663782000541687)\n",
            "('heterosexual', 0.6616793870925903)\n",
            "('shagging', 0.6605229377746582)\n",
            "('shagged', 0.6603391170501709)\n",
            "\n",
            "\n"
          ]
        }
      ],
      "source": [
        "for w in ['spell', 'dating', 'gay']:\n",
        "    show_similar(w, word_embeddings)"
      ]
    },
    {
      "cell_type": "markdown",
      "metadata": {},
      "source": [
        "Как видим \"dating\" = \"gay\", модель работает хорошо!"
      ]
    },
    {
      "cell_type": "markdown",
      "metadata": {},
      "source": [
        "#### ассоциации"
      ]
    },
    {
      "cell_type": "code",
      "execution_count": 34,
      "metadata": {},
      "outputs": [
        {
          "data": {
            "text/plain": [
              "[('draco', 0.7733852863311768),\n",
              " ('malfoy', 0.6323437094688416),\n",
              " ('blaise', 0.610161542892456)]"
            ]
          },
          "execution_count": 34,
          "metadata": {},
          "output_type": "execute_result"
        }
      ],
      "source": [
        "word_embeddings.most_similar(positive=[\"slytherin\", \"harry\"], negative=[\"griffindor\"], topn=3)"
      ]
    },
    {
      "cell_type": "markdown",
      "metadata": {},
      "source": [
        "В целом довольно логично"
      ]
    },
    {
      "cell_type": "markdown",
      "metadata": {},
      "source": [
        "#### лишние слова"
      ]
    },
    {
      "cell_type": "code",
      "execution_count": 26,
      "metadata": {},
      "outputs": [
        {
          "data": {
            "text/plain": [
              "'me'"
            ]
          },
          "execution_count": 26,
          "metadata": {},
          "output_type": "execute_result"
        }
      ],
      "source": [
        "word_embeddings.doesnt_match(['batman', 'gosling', 'me', 'rich', 'gym', 'datascience'])"
      ]
    },
    {
      "cell_type": "markdown",
      "metadata": {},
      "source": [
        "really sad moment"
      ]
    },
    {
      "cell_type": "code",
      "execution_count": 27,
      "metadata": {},
      "outputs": [
        {
          "data": {
            "text/plain": [
              "'girl'"
            ]
          },
          "execution_count": 27,
          "metadata": {},
          "output_type": "execute_result"
        }
      ],
      "source": [
        "word_embeddings.doesnt_match(['money', 'girl', 'study', 'work', 'gym'])"
      ]
    },
    {
      "cell_type": "markdown",
      "metadata": {},
      "source": [
        "Как видим модель помогла расставить нам приоритеты и найти от чего нужно сейчас отказаться"
      ]
    },
    {
      "cell_type": "markdown",
      "metadata": {},
      "source": [
        "### 2. Визуализируйте топ-1000 слов по частоте без учета стоп-слов (п. 1.1) с помощью TSNE или UMAP (https://umap-learn.readthedocs.io)."
      ]
    },
    {
      "cell_type": "code",
      "execution_count": 68,
      "metadata": {},
      "outputs": [],
      "source": [
        "from sklearn.manifold import TSNE\n",
        "from bokeh.models import ColumnDataSource, LabelSet\n",
        "from bokeh.plotting import figure\n",
        "from bokeh.io import show, output_notebook"
      ]
    },
    {
      "cell_type": "code",
      "execution_count": 77,
      "metadata": {},
      "outputs": [
        {
          "data": {
            "text/html": [
              "<style>\n",
              "        .bk-notebook-logo {\n",
              "            display: block;\n",
              "            width: 20px;\n",
              "            height: 20px;\n",
              "            background-image: url(data:image/png;base64,iVBORw0KGgoAAAANSUhEUgAAABQAAAAUCAYAAACNiR0NAAAABHNCSVQICAgIfAhkiAAAAAlwSFlzAAALEgAACxIB0t1+/AAAABx0RVh0U29mdHdhcmUAQWRvYmUgRmlyZXdvcmtzIENTNui8sowAAAOkSURBVDiNjZRtaJVlGMd/1/08zzln5zjP1LWcU9N0NkN8m2CYjpgQYQXqSs0I84OLIC0hkEKoPtiH3gmKoiJDU7QpLgoLjLIQCpEsNJ1vqUOdO7ppbuec5+V+rj4ctwzd8IIbbi6u+8f1539dt3A78eXC7QizUF7gyV1fD1Yqg4JWz84yffhm0qkFqBogB9rM8tZdtwVsPUhWhGcFJngGeWrPzHm5oaMmkfEg1usvLFyc8jLRqDOMru7AyC8saQr7GG7f5fvDeH7Ej8CM66nIF+8yngt6HWaKh7k49Soy9nXurCi1o3qUbS3zWfrYeQDTB/Qj6kX6Ybhw4B+bOYoLKCC9H3Nu/leUTZ1JdRWkkn2ldcCamzrcf47KKXdAJllSlxAOkRgyHsGC/zRday5Qld9DyoM4/q/rUoy/CXh3jzOu3bHUVZeU+DEn8FInkPBFlu3+nW3Nw0mk6vCDiWg8CeJaxEwuHS3+z5RgY+YBR6V1Z1nxSOfoaPa4LASWxxdNp+VWTk7+4vzaou8v8PN+xo+KY2xsw6une2frhw05CTYOmQvsEhjhWjn0bmXPjpE1+kplmmkP3suftwTubK9Vq22qKmrBhpY4jvd5afdRA3wGjFAgcnTK2s4hY0/GPNIb0nErGMCRxWOOX64Z8RAC4oCXdklmEvcL8o0BfkNK4lUg9HTl+oPlQxdNo3Mg4Nv175e/1LDGzZen30MEjRUtmXSfiTVu1kK8W4txyV6BMKlbgk3lMwYCiusNy9fVfvvwMxv8Ynl6vxoByANLTWplvuj/nF9m2+PDtt1eiHPBr1oIfhCChQMBw6Aw0UulqTKZdfVvfG7VcfIqLG9bcldL/+pdWTLxLUy8Qq38heUIjh4XlzZxzQm19lLFlr8vdQ97rjZVOLf8nclzckbcD4wxXMidpX30sFd37Fv/GtwwhzhxGVAprjbg0gCAEeIgwCZyTV2Z1REEW8O4py0wsjeloKoMr6iCY6dP92H6Vw/oTyICIthibxjm/DfN9lVz8IqtqKYLUXfoKVMVQVVJOElGjrnnUt9T9wbgp8AyYKaGlqingHZU/uG2NTZSVqwHQTWkx9hxjkpWDaCg6Ckj5qebgBVbT3V3NNXMSiWSDdGV3hrtzla7J+duwPOToIg42ChPQOQjspnSlp1V+Gjdged7+8UN5CRAV7a5EdFNwCjEaBR27b3W890TE7g24NAP/mMDXRWrGoFPQI9ls/MWO2dWFAar/xcOIImbbpA3zgAAAABJRU5ErkJggg==);\n",
              "        }\n",
              "    </style>\n",
              "    <div>\n",
              "        <a href=\"https://bokeh.org\" target=\"_blank\" class=\"bk-notebook-logo\"></a>\n",
              "        <span id=\"c94a5f73-62c9-4637-8921-148945264338\">Loading BokehJS ...</span>\n",
              "    </div>\n"
            ]
          },
          "metadata": {},
          "output_type": "display_data"
        },
        {
          "data": {
            "application/javascript": "(function(root) {\n  function now() {\n    return new Date();\n  }\n\n  const force = true;\n\n  if (typeof root._bokeh_onload_callbacks === \"undefined\" || force === true) {\n    root._bokeh_onload_callbacks = [];\n    root._bokeh_is_loading = undefined;\n  }\n\nconst JS_MIME_TYPE = 'application/javascript';\n  const HTML_MIME_TYPE = 'text/html';\n  const EXEC_MIME_TYPE = 'application/vnd.bokehjs_exec.v0+json';\n  const CLASS_NAME = 'output_bokeh rendered_html';\n\n  /**\n   * Render data to the DOM node\n   */\n  function render(props, node) {\n    const script = document.createElement(\"script\");\n    node.appendChild(script);\n  }\n\n  /**\n   * Handle when an output is cleared or removed\n   */\n  function handleClearOutput(event, handle) {\n    const cell = handle.cell;\n\n    const id = cell.output_area._bokeh_element_id;\n    const server_id = cell.output_area._bokeh_server_id;\n    // Clean up Bokeh references\n    if (id != null && id in Bokeh.index) {\n      Bokeh.index[id].model.document.clear();\n      delete Bokeh.index[id];\n    }\n\n    if (server_id !== undefined) {\n      // Clean up Bokeh references\n      const cmd_clean = \"from bokeh.io.state import curstate; print(curstate().uuid_to_server['\" + server_id + \"'].get_sessions()[0].document.roots[0]._id)\";\n      cell.notebook.kernel.execute(cmd_clean, {\n        iopub: {\n          output: function(msg) {\n            const id = msg.content.text.trim();\n            if (id in Bokeh.index) {\n              Bokeh.index[id].model.document.clear();\n              delete Bokeh.index[id];\n            }\n          }\n        }\n      });\n      // Destroy server and session\n      const cmd_destroy = \"import bokeh.io.notebook as ion; ion.destroy_server('\" + server_id + \"')\";\n      cell.notebook.kernel.execute(cmd_destroy);\n    }\n  }\n\n  /**\n   * Handle when a new output is added\n   */\n  function handleAddOutput(event, handle) {\n    const output_area = handle.output_area;\n    const output = handle.output;\n\n    // limit handleAddOutput to display_data with EXEC_MIME_TYPE content only\n    if ((output.output_type != \"display_data\") || (!Object.prototype.hasOwnProperty.call(output.data, EXEC_MIME_TYPE))) {\n      return\n    }\n\n    const toinsert = output_area.element.find(\".\" + CLASS_NAME.split(' ')[0]);\n\n    if (output.metadata[EXEC_MIME_TYPE][\"id\"] !== undefined) {\n      toinsert[toinsert.length - 1].firstChild.textContent = output.data[JS_MIME_TYPE];\n      // store reference to embed id on output_area\n      output_area._bokeh_element_id = output.metadata[EXEC_MIME_TYPE][\"id\"];\n    }\n    if (output.metadata[EXEC_MIME_TYPE][\"server_id\"] !== undefined) {\n      const bk_div = document.createElement(\"div\");\n      bk_div.innerHTML = output.data[HTML_MIME_TYPE];\n      const script_attrs = bk_div.children[0].attributes;\n      for (let i = 0; i < script_attrs.length; i++) {\n        toinsert[toinsert.length - 1].firstChild.setAttribute(script_attrs[i].name, script_attrs[i].value);\n        toinsert[toinsert.length - 1].firstChild.textContent = bk_div.children[0].textContent\n      }\n      // store reference to server id on output_area\n      output_area._bokeh_server_id = output.metadata[EXEC_MIME_TYPE][\"server_id\"];\n    }\n  }\n\n  function register_renderer(events, OutputArea) {\n\n    function append_mime(data, metadata, element) {\n      // create a DOM node to render to\n      const toinsert = this.create_output_subarea(\n        metadata,\n        CLASS_NAME,\n        EXEC_MIME_TYPE\n      );\n      this.keyboard_manager.register_events(toinsert);\n      // Render to node\n      const props = {data: data, metadata: metadata[EXEC_MIME_TYPE]};\n      render(props, toinsert[toinsert.length - 1]);\n      element.append(toinsert);\n      return toinsert\n    }\n\n    /* Handle when an output is cleared or removed */\n    events.on('clear_output.CodeCell', handleClearOutput);\n    events.on('delete.Cell', handleClearOutput);\n\n    /* Handle when a new output is added */\n    events.on('output_added.OutputArea', handleAddOutput);\n\n    /**\n     * Register the mime type and append_mime function with output_area\n     */\n    OutputArea.prototype.register_mime_type(EXEC_MIME_TYPE, append_mime, {\n      /* Is output safe? */\n      safe: true,\n      /* Index of renderer in `output_area.display_order` */\n      index: 0\n    });\n  }\n\n  // register the mime type if in Jupyter Notebook environment and previously unregistered\n  if (root.Jupyter !== undefined) {\n    const events = require('base/js/events');\n    const OutputArea = require('notebook/js/outputarea').OutputArea;\n\n    if (OutputArea.prototype.mime_types().indexOf(EXEC_MIME_TYPE) == -1) {\n      register_renderer(events, OutputArea);\n    }\n  }\n  if (typeof (root._bokeh_timeout) === \"undefined\" || force === true) {\n    root._bokeh_timeout = Date.now() + 5000;\n    root._bokeh_failed_load = false;\n  }\n\n  const NB_LOAD_WARNING = {'data': {'text/html':\n     \"<div style='background-color: #fdd'>\\n\"+\n     \"<p>\\n\"+\n     \"BokehJS does not appear to have successfully loaded. If loading BokehJS from CDN, this \\n\"+\n     \"may be due to a slow or bad network connection. Possible fixes:\\n\"+\n     \"</p>\\n\"+\n     \"<ul>\\n\"+\n     \"<li>re-rerun `output_notebook()` to attempt to load from CDN again, or</li>\\n\"+\n     \"<li>use INLINE resources instead, as so:</li>\\n\"+\n     \"</ul>\\n\"+\n     \"<code>\\n\"+\n     \"from bokeh.resources import INLINE\\n\"+\n     \"output_notebook(resources=INLINE)\\n\"+\n     \"</code>\\n\"+\n     \"</div>\"}};\n\n  function display_loaded() {\n    const el = document.getElementById(\"c94a5f73-62c9-4637-8921-148945264338\");\n    if (el != null) {\n      el.textContent = \"BokehJS is loading...\";\n    }\n    if (root.Bokeh !== undefined) {\n      if (el != null) {\n        el.textContent = \"BokehJS \" + root.Bokeh.version + \" successfully loaded.\";\n      }\n    } else if (Date.now() < root._bokeh_timeout) {\n      setTimeout(display_loaded, 100)\n    }\n  }\n\n  function run_callbacks() {\n    try {\n      root._bokeh_onload_callbacks.forEach(function(callback) {\n        if (callback != null)\n          callback();\n      });\n    } finally {\n      delete root._bokeh_onload_callbacks\n    }\n    console.debug(\"Bokeh: all callbacks have finished\");\n  }\n\n  function load_libs(css_urls, js_urls, callback) {\n    if (css_urls == null) css_urls = [];\n    if (js_urls == null) js_urls = [];\n\n    root._bokeh_onload_callbacks.push(callback);\n    if (root._bokeh_is_loading > 0) {\n      console.debug(\"Bokeh: BokehJS is being loaded, scheduling callback at\", now());\n      return null;\n    }\n    if (js_urls == null || js_urls.length === 0) {\n      run_callbacks();\n      return null;\n    }\n    console.debug(\"Bokeh: BokehJS not loaded, scheduling load and callback at\", now());\n    root._bokeh_is_loading = css_urls.length + js_urls.length;\n\n    function on_load() {\n      root._bokeh_is_loading--;\n      if (root._bokeh_is_loading === 0) {\n        console.debug(\"Bokeh: all BokehJS libraries/stylesheets loaded\");\n        run_callbacks()\n      }\n    }\n\n    function on_error(url) {\n      console.error(\"failed to load \" + url);\n    }\n\n    for (let i = 0; i < css_urls.length; i++) {\n      const url = css_urls[i];\n      const element = document.createElement(\"link\");\n      element.onload = on_load;\n      element.onerror = on_error.bind(null, url);\n      element.rel = \"stylesheet\";\n      element.type = \"text/css\";\n      element.href = url;\n      console.debug(\"Bokeh: injecting link tag for BokehJS stylesheet: \", url);\n      document.body.appendChild(element);\n    }\n\n    for (let i = 0; i < js_urls.length; i++) {\n      const url = js_urls[i];\n      const element = document.createElement('script');\n      element.onload = on_load;\n      element.onerror = on_error.bind(null, url);\n      element.async = false;\n      element.src = url;\n      console.debug(\"Bokeh: injecting script tag for BokehJS library: \", url);\n      document.head.appendChild(element);\n    }\n  };\n\n  function inject_raw_css(css) {\n    const element = document.createElement(\"style\");\n    element.appendChild(document.createTextNode(css));\n    document.body.appendChild(element);\n  }\n\n  const js_urls = [\"https://cdn.bokeh.org/bokeh/release/bokeh-3.2.2.min.js\", \"https://cdn.bokeh.org/bokeh/release/bokeh-gl-3.2.2.min.js\", \"https://cdn.bokeh.org/bokeh/release/bokeh-widgets-3.2.2.min.js\", \"https://cdn.bokeh.org/bokeh/release/bokeh-tables-3.2.2.min.js\", \"https://cdn.bokeh.org/bokeh/release/bokeh-mathjax-3.2.2.min.js\", \"https://unpkg.com/@holoviz/panel@1.2.3/dist/panel.min.js\"];\n  const css_urls = [];\n\n  const inline_js = [    function(Bokeh) {\n      Bokeh.set_log_level(\"info\");\n    },\nfunction(Bokeh) {\n    }\n  ];\n\n  function run_inline_js() {\n    if (root.Bokeh !== undefined || force === true) {\n          for (let i = 0; i < inline_js.length; i++) {\n      inline_js[i].call(root, root.Bokeh);\n    }\nif (force === true) {\n        display_loaded();\n      }} else if (Date.now() < root._bokeh_timeout) {\n      setTimeout(run_inline_js, 100);\n    } else if (!root._bokeh_failed_load) {\n      console.log(\"Bokeh: BokehJS failed to load within specified timeout.\");\n      root._bokeh_failed_load = true;\n    } else if (force !== true) {\n      const cell = $(document.getElementById(\"c94a5f73-62c9-4637-8921-148945264338\")).parents('.cell').data().cell;\n      cell.output_area.append_execute_result(NB_LOAD_WARNING)\n    }\n  }\n\n  if (root._bokeh_is_loading === 0) {\n    console.debug(\"Bokeh: BokehJS loaded, going straight to plotting\");\n    run_inline_js();\n  } else {\n    load_libs(css_urls, js_urls, function() {\n      console.debug(\"Bokeh: BokehJS plotting callback run at\", now());\n      run_inline_js();\n    });\n  }\n}(window));",
            "application/vnd.bokehjs_load.v0+json": ""
          },
          "metadata": {},
          "output_type": "display_data"
        },
        {
          "data": {
            "text/html": [
              "\n",
              "  <div id=\"ee5df7f4-b517-438b-8f62-417b6c794140\" data-root-id=\"p1046\" style=\"display: contents;\"></div>\n"
            ]
          },
          "metadata": {},
          "output_type": "display_data"
        },
        {
          "data": {
            "application/javascript": "(function(root) {\n  function embed_document(root) {\n  const docs_json = {\"75e70b70-bd3a-4e59-acd8-284f54feb6f5\":{\"version\":\"3.2.2\",\"title\":\"Bokeh Application\",\"roots\":[{\"type\":\"object\",\"name\":\"Figure\",\"id\":\"p1046\",\"attributes\":{\"x_range\":{\"type\":\"object\",\"name\":\"DataRange1d\",\"id\":\"p1047\"},\"y_range\":{\"type\":\"object\",\"name\":\"DataRange1d\",\"id\":\"p1048\"},\"x_scale\":{\"type\":\"object\",\"name\":\"LinearScale\",\"id\":\"p1056\"},\"y_scale\":{\"type\":\"object\",\"name\":\"LinearScale\",\"id\":\"p1057\"},\"title\":{\"type\":\"object\",\"name\":\"Title\",\"id\":\"p1049\",\"attributes\":{\"text\":\"Word2Vec t-SNE for most common words\"}},\"renderers\":[{\"type\":\"object\",\"name\":\"GlyphRenderer\",\"id\":\"p1081\",\"attributes\":{\"data_source\":{\"type\":\"object\",\"name\":\"ColumnDataSource\",\"id\":\"p1072\",\"attributes\":{\"selected\":{\"type\":\"object\",\"name\":\"Selection\",\"id\":\"p1073\",\"attributes\":{\"indices\":[],\"line_indices\":[]}},\"selection_policy\":{\"type\":\"object\",\"name\":\"UnionRenderers\",\"id\":\"p1074\"},\"data\":{\"type\":\"map\",\"entries\":[[\"x1\",{\"type\":\"ndarray\",\"array\":{\"type\":\"bytes\",\"data\":\"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\"},\"shape\":[1000],\"dtype\":\"float32\",\"order\":\"little\"}],[\"x2\",{\"type\":\"ndarray\",\"array\":{\"type\":\"bytes\",\"data\":\"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\"},\"shape\":[1000],\"dtype\":\"float32\",\"order\":\"little\"}],[\"names\",[\"harry\",\"s\",\"would\",\"said\",\"hermione\",\"could\",\"back\",\"draco\",\"one\",\"like\",\"know\",\"eyes\",\"time\",\"ron\",\"looked\",\"get\",\"asked\",\"well\",\"even\",\"around\",\"see\",\"going\",\"head\",\"think\",\"still\",\"go\",\"severus\",\"way\",\"face\",\"room\",\"ginny\",\"hand\",\"sirius\",\"something\",\"want\",\"thought\",\"potter\",\"right\",\"snape\",\"away\",\"much\",\"look\",\"two\",\"never\",\"let\",\"really\",\"knew\",\"first\",\"made\",\"us\",\"good\",\"malfoy\",\"little\",\"wand\",\"felt\",\"turned\",\"dumbledore\",\"james\",\"come\",\"got\",\"make\",\"took\",\"remus\",\"lily\",\"though\",\"sure\",\"say\",\"door\",\"tell\",\"take\",\"looking\",\"dark\",\"voice\",\"last\",\"voldemort\",\"long\",\"told\",\"need\",\"left\",\"yes\",\"man\",\"wanted\",\"anything\",\"next\",\"oh\",\"came\",\"nodded\",\"love\",\"moment\",\"people\",\"saw\",\"another\",\"things\",\"went\",\"hands\",\"help\",\"day\",\"enough\",\"death\",\"smiled\",\"professor\",\"mind\",\"year\",\"nothing\",\"found\",\"ever\",\"boy\",\"always\",\"hair\",\"find\",\"bit\",\"seemed\",\"behind\",\"hogwarts\",\"bed\",\"thing\",\"trying\",\"started\",\"feel\",\"put\",\"since\",\"house\",\"life\",\"heard\",\"night\",\"black\",\"without\",\"smile\",\"better\",\"years\",\"gave\",\"might\",\"magic\",\"side\",\"weasley\",\"everyone\",\"sat\",\"began\",\"father\",\"someone\",\"walked\",\"almost\",\"finally\",\"done\",\"already\",\"tried\",\"place\",\"every\",\"stood\",\"friends\",\"everything\",\"front\",\"pulled\",\"small\",\"three\",\"also\",\"quickly\",\"lord\",\"course\",\"keep\",\"body\",\"girl\",\"best\",\"towards\",\"arms\",\"else\",\"table\",\"neville\",\"give\",\"work\",\"mean\",\"family\",\"albus\",\"sorry\",\"end\",\"many\",\"please\",\"world\",\"school\",\"old\",\"mother\",\"great\",\"lucius\",\"together\",\"new\",\"quite\",\"stop\",\"happened\",\"leave\",\"replied\",\"mouth\",\"open\",\"maybe\",\"soon\",\"must\",\"yet\",\"later\",\"floor\",\"getting\",\"able\",\"words\",\"arm\",\"name\",\"lips\",\"least\",\"hard\",\"friend\",\"mr\",\"feeling\",\"actually\",\"suddenly\",\"anyone\",\"seen\",\"slowly\",\"sighed\",\"luna\",\"talk\",\"spell\",\"shook\",\"making\",\"gone\",\"rather\",\"believe\",\"george\",\"probably\",\"held\",\"home\",\"far\",\"light\",\"used\",\"inside\",\"second\",\"opened\",\"granger\",\"rest\",\"taking\",\"fred\",\"stopped\",\"hear\",\"whispered\",\"idea\",\"rose\",\"coming\",\"across\",\"breath\",\"care\",\"try\",\"thank\",\"slightly\",\"tom\",\"parents\",\"students\",\"called\",\"needed\",\"ask\",\"laughed\",\"yeah\",\"close\",\"may\",\"watched\",\"use\",\"continued\",\"sitting\",\"slytherin\",\"gryffindor\",\"part\",\"heart\",\"morning\",\"blood\",\"feet\",\"happy\",\"lot\",\"pain\",\"book\",\"muggle\",\"remember\",\"hall\",\"fact\",\"okay\",\"past\",\"stared\",\"reached\",\"however\",\"chapter\",\"fine\",\"ministry\",\"thinking\",\"onto\",\"along\",\"wrong\",\"hope\",\"alone\",\"shoulder\",\"set\",\"moved\",\"read\",\"standing\",\"wizard\",\"bad\",\"either\",\"red\",\"chest\",\"decided\",\"fell\",\"talking\",\"dead\",\"minutes\",\"stay\",\"ran\",\"hurt\",\"young\",\"understand\",\"potion\",\"fingers\",\"mcgonagall\",\"instead\",\"caught\",\"point\",\"kill\",\"person\",\"days\",\"potions\",\"miss\",\"woman\",\"others\",\"air\",\"tears\",\"ready\",\"ground\",\"kiss\",\"tonks\",\"kept\",\"matter\",\"kind\",\"taken\",\"times\",\"son\",\"order\",\"forward\",\"deep\",\"closed\",\"wait\",\"noticed\",\"eaters\",\"curse\",\"story\",\"reason\",\"lost\",\"raised\",\"full\",\"sound\",\"sleep\",\"magical\",\"thanks\",\"move\",\"blaise\",\"whole\",\"wall\",\"different\",\"office\",\"several\",\"bellatrix\",\"question\",\"followed\",\"start\",\"half\",\"turn\",\"word\",\"large\",\"outside\",\"answer\",\"anyway\",\"holding\",\"perhaps\",\"class\",\"attention\",\"answered\",\"chair\",\"hit\",\"completely\",\"exactly\",\"lupin\",\"quietly\",\"scorpius\",\"waiting\",\"immediately\",\"cold\",\"minerva\",\"spoke\",\"ago\",\"robes\",\"mum\",\"saying\",\"eye\",\"longer\",\"leaving\",\"watching\",\"today\",\"stepped\",\"green\",\"true\",\"seeing\",\"hold\",\"staring\",\"surprised\",\"given\",\"child\",\"silence\",\"pansy\",\"master\",\"nearly\",\"turning\",\"softly\",\"dad\",\"neck\",\"nice\",\"finished\",\"headmaster\",\"fire\",\"meant\",\"brought\",\"closer\",\"simply\",\"witch\",\"grabbed\",\"four\",\"show\",\"grinned\",\"managed\",\"hell\",\"war\",\"realized\",\"says\",\"call\",\"charm\",\"change\",\"bloody\",\"looks\",\"narcissa\",\"top\",\"running\",\"quidditch\",\"children\",\"kissed\",\"chance\",\"killed\",\"speak\",\"common\",\"mrs\",\"shut\",\"brother\",\"skin\",\"week\",\"sent\",\"added\",\"pointed\",\"alright\",\"castle\",\"met\",\"rolled\",\"boys\",\"expression\",\"known\",\"supposed\",\"returned\",\"walking\",\"molly\",\"muttered\",\"run\",\"knowing\",\"fight\",\"hours\",\"appeared\",\"leaned\",\"girls\",\"cast\",\"whatever\",\"giving\",\"upon\",\"less\",\"happen\",\"books\",\"shrugged\",\"thoughts\",\"pretty\",\"water\",\"sort\",\"throat\",\"spells\",\"gently\",\"guess\",\"letter\",\"worry\",\"real\",\"pushed\",\"loved\",\"possible\",\"big\",\"stairs\",\"surprise\",\"hagrid\",\"glanced\",\"couple\",\"white\",\"meet\",\"seem\",\"passed\",\"beside\",\"fear\",\"bill\",\"five\",\"become\",\"desk\",\"watch\",\"sit\",\"smiling\",\"stand\",\"placed\",\"power\",\"dinner\",\"toward\",\"corner\",\"sense\",\"although\",\"late\",\"safe\",\"merlin\",\"die\",\"bring\",\"stupid\",\"sir\",\"wizards\",\"walk\",\"soft\",\"snapped\",\"kitchen\",\"anymore\",\"agreed\",\"wondered\",\"eater\",\"knows\",\"baby\",\"wish\",\"quiet\",\"telling\",\"break\",\"group\",\"changed\",\"window\",\"laugh\",\"pulling\",\"peter\",\"moving\",\"return\",\"charlie\",\"plan\",\"angry\",\"short\",\"case\",\"explained\",\"trust\",\"shot\",\"dropped\",\"free\",\"shoulders\",\"near\",\"sister\",\"gaze\",\"barely\",\"sight\",\"reading\",\"live\",\"beautiful\",\"within\",\"cut\",\"died\",\"figure\",\"shaking\",\"christmas\",\"spent\",\"especially\",\"working\",\"clear\",\"worried\",\"tonight\",\"seat\",\"months\",\"entire\",\"blue\",\"shouted\",\"legs\",\"frowned\",\"memory\",\"dear\",\"living\",\"stomach\",\"fall\",\"conversation\",\"straight\",\"allowed\",\"wizarding\",\"control\",\"tone\",\"remembered\",\"stone\",\"afraid\",\"fun\",\"form\",\"touch\",\"picked\",\"glad\",\"anger\",\"broke\",\"entered\",\"hour\",\"silent\",\"grin\",\"quick\",\"cried\",\"madam\",\"truth\",\"meeting\",\"nose\",\"laughing\",\"play\",\"smirked\",\"step\",\"certain\",\"hey\",\"important\",\"became\",\"weeks\",\"filled\",\"none\",\"auror\",\"warm\",\"team\",\"using\",\"food\",\"percy\",\"older\",\"empty\",\"fleur\",\"threw\",\"hate\",\"expected\",\"cheek\",\"yelled\",\"breakfast\",\"worse\",\"problem\",\"ones\",\"clearly\",\"teddy\",\"cloak\",\"memories\",\"waited\",\"perfect\",\"shock\",\"obviously\",\"liked\",\"arrived\",\"certainly\",\"alive\",\"sometimes\",\"carefully\",\"riddle\",\"wife\",\"note\",\"owl\",\"summer\",\"despite\",\"gotten\",\"information\",\"daphne\",\"job\",\"forced\",\"loud\",\"ten\",\"wrapped\",\"glass\",\"tomorrow\",\"clothes\",\"deal\",\"library\",\"except\",\"strong\",\"calm\",\"strange\",\"tea\",\"worked\",\"trouble\",\"confused\",\"battle\",\"ear\",\"evening\",\"easy\",\"mine\",\"wide\",\"parchment\",\"lay\",\"normal\",\"minute\",\"makes\",\"paused\",\"seems\",\"twins\",\"apparently\",\"middle\",\"moments\",\"daughter\",\"suppose\",\"tired\",\"high\",\"notice\",\"broom\",\"led\",\"somehow\",\"usual\",\"promise\",\"secret\",\"lying\",\"cup\",\"broken\",\"piece\",\"chuckled\",\"arthur\",\"tongue\",\"sounded\",\"line\",\"men\",\"questions\",\"pale\",\"doubt\",\"save\",\"means\",\"attack\",\"muggles\",\"helped\",\"wonder\",\"familiar\",\"finger\",\"explain\",\"gasped\",\"aurors\",\"hissed\",\"jumped\",\"bella\",\"uncle\",\"game\",\"pressed\",\"bright\",\"minister\",\"charms\",\"situation\",\"hospital\",\"lifted\",\"whether\",\"position\",\"mate\",\"glared\",\"shall\",\"manor\",\"headed\",\"moody\",\"seconds\",\"catch\",\"wants\",\"often\",\"fast\",\"asking\",\"teeth\",\"third\",\"dobby\",\"early\",\"asleep\",\"pomfrey\",\"wearing\",\"listen\",\"neither\",\"bag\",\"following\",\"letting\",\"kingsley\",\"sigh\",\"screamed\",\"al\",\"truly\",\"write\",\"forget\",\"covered\",\"pull\",\"besides\",\"mark\",\"follow\",\"beginning\",\"hoped\",\"keeping\",\"elf\",\"shirt\",\"fighting\",\"flew\",\"playing\",\"student\",\"eyebrow\",\"likely\",\"wondering\",\"direction\",\"guys\",\"easily\",\"usually\",\"learn\",\"hated\",\"ended\",\"starting\",\"lip\",\"crying\",\"edge\",\"enjoy\",\"eat\",\"somewhere\",\"future\",\"husband\",\"flying\",\"offered\",\"azkaban\",\"soul\",\"cheeks\",\"hoping\",\"cry\",\"tightly\",\"falling\",\"knees\",\"send\",\"earlier\",\"damn\",\"shocked\",\"powerful\",\"train\",\"pair\",\"serious\",\"missed\",\"money\",\"disappeared\",\"drink\",\"silver\",\"speaking\",\"choice\",\"hot\",\"pocket\",\"ah\",\"hide\",\"an\",\"expect\",\"aware\",\"brown\",\"definitely\",\"age\",\"ravenclaw\",\"low\",\"spot\",\"eventually\",\"wake\",\"putting\",\"hug\",\"bedroom\",\"forest\",\"ears\",\"single\",\"killing\",\"mad\",\"aunt\",\"simple\",\"waved\",\"mirror\",\"laughter\",\"dress\",\"scared\",\"continue\",\"present\",\"admit\",\"six\",\"god\",\"exclaimed\",\"join\",\"sounds\",\"handed\",\"paper\",\"feelings\",\"blinked\",\"corridor\",\"slipped\",\"breathing\",\"showed\",\"check\",\"forehead\",\"relief\",\"force\",\"doors\",\"smirk\",\"sleeping\",\"box\",\"younger\",\"final\",\"wands\",\"murmured\",\"news\",\"writing\",\"protect\",\"ok\",\"causing\",\"bathroom\",\"indeed\",\"kissing\",\"steps\",\"wards\",\"ball\",\"seamus\",\"dangerous\",\"lunch\",\"dean\",\"glance\",\"obvious\",\"alley\",\"entrance\",\"sudden\",\"stayed\",\"business\",\"apart\",\"evil\",\"visit\",\"married\",\"touched\",\"busy\",\"needs\",\"cedric\",\"difficult\",\"party\",\"ring\",\"honestly\",\"drew\",\"number\",\"imagine\",\"fault\",\"burst\",\"leaning\",\"walls\",\"aside\",\"groaned\",\"stuff\",\"crowd\",\"slytherins\",\"dream\",\"fuck\",\"interrupted\",\"you\",\"silently\",\"couch\",\"remained\",\"learned\",\"darkness\",\"tower\",\"stated\",\"hello\",\"foot\",\"snake\",\"growled\",\"dragon\",\"ahead\",\"spend\",\"wanting\",\"odd\",\"teacher\",\"lavender\",\"allow\",\"stuck\",\"match\",\"lose\",\"werewolf\",\"finish\",\"grew\",\"date\",\"points\",\"realised\",\"blonde\",\"human\",\"hiding\",\"act\",\"response\",\"relationship\",\"caused\",\"regulus\",\"umbridge\",\"shop\",\"tight\",\"huge\",\"joined\",\"crossed\",\"comes\",\"talked\"]]]}}},\"view\":{\"type\":\"object\",\"name\":\"CDSView\",\"id\":\"p1082\",\"attributes\":{\"filter\":{\"type\":\"object\",\"name\":\"AllIndices\",\"id\":\"p1083\"}}},\"glyph\":{\"type\":\"object\",\"name\":\"Scatter\",\"id\":\"p1078\",\"attributes\":{\"x\":{\"type\":\"field\",\"field\":\"x1\"},\"y\":{\"type\":\"field\",\"field\":\"x2\"},\"size\":{\"type\":\"value\",\"value\":8},\"line_color\":{\"type\":\"value\",\"value\":\"#1f77b4\"},\"fill_color\":{\"type\":\"value\",\"value\":\"#1f77b4\"}}},\"nonselection_glyph\":{\"type\":\"object\",\"name\":\"Scatter\",\"id\":\"p1079\",\"attributes\":{\"x\":{\"type\":\"field\",\"field\":\"x1\"},\"y\":{\"type\":\"field\",\"field\":\"x2\"},\"size\":{\"type\":\"value\",\"value\":8},\"line_color\":{\"type\":\"value\",\"value\":\"#1f77b4\"},\"line_alpha\":{\"type\":\"value\",\"value\":0.1},\"fill_color\":{\"type\":\"value\",\"value\":\"#1f77b4\"},\"fill_alpha\":{\"type\":\"value\",\"value\":0.1},\"hatch_alpha\":{\"type\":\"value\",\"value\":0.1}}},\"muted_glyph\":{\"type\":\"object\",\"name\":\"Scatter\",\"id\":\"p1080\",\"attributes\":{\"x\":{\"type\":\"field\",\"field\":\"x1\"},\"y\":{\"type\":\"field\",\"field\":\"x2\"},\"size\":{\"type\":\"value\",\"value\":8},\"line_color\":{\"type\":\"value\",\"value\":\"#1f77b4\"},\"line_alpha\":{\"type\":\"value\",\"value\":0.2},\"fill_color\":{\"type\":\"value\",\"value\":\"#1f77b4\"},\"fill_alpha\":{\"type\":\"value\",\"value\":0.2},\"hatch_alpha\":{\"type\":\"value\",\"value\":0.2}}}}}],\"toolbar\":{\"type\":\"object\",\"name\":\"Toolbar\",\"id\":\"p1055\",\"attributes\":{\"tools\":[{\"type\":\"object\",\"name\":\"PanTool\",\"id\":\"p1068\"},{\"type\":\"object\",\"name\":\"WheelZoomTool\",\"id\":\"p1069\"},{\"type\":\"object\",\"name\":\"ResetTool\",\"id\":\"p1070\"},{\"type\":\"object\",\"name\":\"SaveTool\",\"id\":\"p1071\"}]}},\"toolbar_location\":\"above\",\"left\":[{\"type\":\"object\",\"name\":\"LinearAxis\",\"id\":\"p1063\",\"attributes\":{\"ticker\":{\"type\":\"object\",\"name\":\"BasicTicker\",\"id\":\"p1064\",\"attributes\":{\"mantissas\":[1,2,5]}},\"formatter\":{\"type\":\"object\",\"name\":\"BasicTickFormatter\",\"id\":\"p1065\"},\"major_label_policy\":{\"type\":\"object\",\"name\":\"AllLabels\",\"id\":\"p1066\"}}}],\"below\":[{\"type\":\"object\",\"name\":\"LinearAxis\",\"id\":\"p1058\",\"attributes\":{\"ticker\":{\"type\":\"object\",\"name\":\"BasicTicker\",\"id\":\"p1059\",\"attributes\":{\"mantissas\":[1,2,5]}},\"formatter\":{\"type\":\"object\",\"name\":\"BasicTickFormatter\",\"id\":\"p1060\"},\"major_label_policy\":{\"type\":\"object\",\"name\":\"AllLabels\",\"id\":\"p1061\"}}}],\"center\":[{\"type\":\"object\",\"name\":\"Grid\",\"id\":\"p1062\",\"attributes\":{\"axis\":{\"id\":\"p1058\"}}},{\"type\":\"object\",\"name\":\"Grid\",\"id\":\"p1067\",\"attributes\":{\"dimension\":1,\"axis\":{\"id\":\"p1063\"}}},{\"type\":\"object\",\"name\":\"LabelSet\",\"id\":\"p1084\",\"attributes\":{\"source\":{\"id\":\"p1072\"},\"x\":{\"type\":\"field\",\"field\":\"x1\"},\"y\":{\"type\":\"field\",\"field\":\"x2\"},\"text\":{\"type\":\"field\",\"field\":\"names\"},\"y_offset\":{\"type\":\"value\",\"value\":6},\"text_color\":{\"type\":\"value\",\"value\":\"#555555\"},\"text_font_size\":{\"type\":\"value\",\"value\":\"8pt\"},\"text_align\":{\"type\":\"value\",\"value\":\"center\"}}}]}}],\"defs\":[{\"type\":\"model\",\"name\":\"ReactiveHTML1\"},{\"type\":\"model\",\"name\":\"FlexBox1\",\"properties\":[{\"name\":\"align_content\",\"kind\":\"Any\",\"default\":\"flex-start\"},{\"name\":\"align_items\",\"kind\":\"Any\",\"default\":\"flex-start\"},{\"name\":\"flex_direction\",\"kind\":\"Any\",\"default\":\"row\"},{\"name\":\"flex_wrap\",\"kind\":\"Any\",\"default\":\"wrap\"},{\"name\":\"justify_content\",\"kind\":\"Any\",\"default\":\"flex-start\"}]},{\"type\":\"model\",\"name\":\"FloatPanel1\",\"properties\":[{\"name\":\"config\",\"kind\":\"Any\",\"default\":{\"type\":\"map\"}},{\"name\":\"contained\",\"kind\":\"Any\",\"default\":true},{\"name\":\"position\",\"kind\":\"Any\",\"default\":\"right-top\"},{\"name\":\"offsetx\",\"kind\":\"Any\",\"default\":null},{\"name\":\"offsety\",\"kind\":\"Any\",\"default\":null},{\"name\":\"theme\",\"kind\":\"Any\",\"default\":\"primary\"},{\"name\":\"status\",\"kind\":\"Any\",\"default\":\"normalized\"}]},{\"type\":\"model\",\"name\":\"GridStack1\",\"properties\":[{\"name\":\"mode\",\"kind\":\"Any\",\"default\":\"warn\"},{\"name\":\"ncols\",\"kind\":\"Any\",\"default\":null},{\"name\":\"nrows\",\"kind\":\"Any\",\"default\":null},{\"name\":\"allow_resize\",\"kind\":\"Any\",\"default\":true},{\"name\":\"allow_drag\",\"kind\":\"Any\",\"default\":true},{\"name\":\"state\",\"kind\":\"Any\",\"default\":[]}]},{\"type\":\"model\",\"name\":\"drag1\",\"properties\":[{\"name\":\"slider_width\",\"kind\":\"Any\",\"default\":5},{\"name\":\"slider_color\",\"kind\":\"Any\",\"default\":\"black\"},{\"name\":\"value\",\"kind\":\"Any\",\"default\":50}]},{\"type\":\"model\",\"name\":\"click1\",\"properties\":[{\"name\":\"terminal_output\",\"kind\":\"Any\",\"default\":\"\"},{\"name\":\"debug_name\",\"kind\":\"Any\",\"default\":\"\"},{\"name\":\"clears\",\"kind\":\"Any\",\"default\":0}]},{\"type\":\"model\",\"name\":\"FastWrapper1\",\"properties\":[{\"name\":\"object\",\"kind\":\"Any\",\"default\":null},{\"name\":\"style\",\"kind\":\"Any\",\"default\":null}]},{\"type\":\"model\",\"name\":\"NotificationAreaBase1\",\"properties\":[{\"name\":\"js_events\",\"kind\":\"Any\",\"default\":{\"type\":\"map\"}},{\"name\":\"position\",\"kind\":\"Any\",\"default\":\"bottom-right\"},{\"name\":\"_clear\",\"kind\":\"Any\",\"default\":0}]},{\"type\":\"model\",\"name\":\"NotificationArea1\",\"properties\":[{\"name\":\"js_events\",\"kind\":\"Any\",\"default\":{\"type\":\"map\"}},{\"name\":\"notifications\",\"kind\":\"Any\",\"default\":[]},{\"name\":\"position\",\"kind\":\"Any\",\"default\":\"bottom-right\"},{\"name\":\"_clear\",\"kind\":\"Any\",\"default\":0},{\"name\":\"types\",\"kind\":\"Any\",\"default\":[{\"type\":\"map\",\"entries\":[[\"type\",\"warning\"],[\"background\",\"#ffc107\"],[\"icon\",{\"type\":\"map\",\"entries\":[[\"className\",\"fas fa-exclamation-triangle\"],[\"tagName\",\"i\"],[\"color\",\"white\"]]}]]},{\"type\":\"map\",\"entries\":[[\"type\",\"info\"],[\"background\",\"#007bff\"],[\"icon\",{\"type\":\"map\",\"entries\":[[\"className\",\"fas fa-info-circle\"],[\"tagName\",\"i\"],[\"color\",\"white\"]]}]]}]}]},{\"type\":\"model\",\"name\":\"Notification\",\"properties\":[{\"name\":\"background\",\"kind\":\"Any\",\"default\":null},{\"name\":\"duration\",\"kind\":\"Any\",\"default\":3000},{\"name\":\"icon\",\"kind\":\"Any\",\"default\":null},{\"name\":\"message\",\"kind\":\"Any\",\"default\":\"\"},{\"name\":\"notification_type\",\"kind\":\"Any\",\"default\":null},{\"name\":\"_destroyed\",\"kind\":\"Any\",\"default\":false}]},{\"type\":\"model\",\"name\":\"TemplateActions1\",\"properties\":[{\"name\":\"open_modal\",\"kind\":\"Any\",\"default\":0},{\"name\":\"close_modal\",\"kind\":\"Any\",\"default\":0}]},{\"type\":\"model\",\"name\":\"BootstrapTemplateActions1\",\"properties\":[{\"name\":\"open_modal\",\"kind\":\"Any\",\"default\":0},{\"name\":\"close_modal\",\"kind\":\"Any\",\"default\":0}]},{\"type\":\"model\",\"name\":\"MaterialTemplateActions1\",\"properties\":[{\"name\":\"open_modal\",\"kind\":\"Any\",\"default\":0},{\"name\":\"close_modal\",\"kind\":\"Any\",\"default\":0}]}]}};\n  const render_items = [{\"docid\":\"75e70b70-bd3a-4e59-acd8-284f54feb6f5\",\"roots\":{\"p1046\":\"ee5df7f4-b517-438b-8f62-417b6c794140\"},\"root_ids\":[\"p1046\"]}];\n  root.Bokeh.embed.embed_items_notebook(docs_json, render_items);\n  }\n  if (root.Bokeh !== undefined) {\n    embed_document(root);\n  } else {\n    let attempts = 0;\n    const timer = setInterval(function(root) {\n      if (root.Bokeh !== undefined) {\n        clearInterval(timer);\n        embed_document(root);\n      } else {\n        attempts++;\n        if (attempts > 100) {\n          clearInterval(timer);\n          console.log(\"Bokeh: ERROR: Unable to run BokehJS code because BokehJS library is missing\");\n        }\n      }\n    }, 10, root)\n  }\n})(window);",
            "application/vnd.bokehjs_exec.v0+json": ""
          },
          "metadata": {
            "application/vnd.bokehjs_exec.v0+json": {
              "id": "p1046"
            }
          },
          "output_type": "display_data"
        }
      ],
      "source": [
        "output_notebook()\n",
        "words_top_vec = word_embeddings[[i[0] for i in top_1000]]\n",
        "tsne = TSNE(n_components=2, random_state=0)\n",
        "words_top_tsne = tsne.fit_transform(words_top_vec)\n",
        "p = figure(tools=\"pan,wheel_zoom,reset,save\",\n",
        "           toolbar_location=\"above\",\n",
        "           title=\"Word2Vec t-SNE for most common words\")\n",
        "\n",
        "source = ColumnDataSource(data=dict(x1=words_top_tsne[:,0],\n",
        "                                    x2=words_top_tsne[:,1],\n",
        "                                    names=list([i[0] for i in top_1000])))\n",
        "\n",
        "p.scatter(x=\"x1\", y=\"x2\", size=8, source=source)\n",
        "\n",
        "labels = LabelSet(x=\"x1\", y=\"x2\", text=\"names\", y_offset=6,\n",
        "                  text_font_size=\"8pt\", text_color=\"#555555\",\n",
        "                  source=source, text_align='center')\n",
        "p.add_layout(labels)\n",
        "show(p)"
      ]
    },
    {
      "cell_type": "markdown",
      "metadata": {},
      "source": [
        "## Часть 3. [6.5 баллов] Классификация текстов\n",
        "Задача классификации формулируется так: данный фрагмент фанфика описывают какую-то ситуацию, которая предшествует произнесению заклинания. Требуется по тексту предсказать, какое именно заклинание будет произнесено. Таким образом, заклинание - это фактически метка класса. Основная мера качества – macro $F_1$.\n",
        "Обучите несколько классификаторов и сравните их между собой. Оцените качество классификаторов на частых и редких классах. Какие классы чаще всего оказываются перепутаны? Связаны ли ошибки со смыслом заклинаний?\n",
        "\n",
        "Используйте фрагменты из множества train для обучения, из множества dev для отладки, из множества test – для тестирования и получения итоговых результатов.\n",
        "\n"
      ]
    },
    {
      "cell_type": "code",
      "execution_count": 1,
      "metadata": {},
      "outputs": [],
      "source": [
        "import pandas as pd\n",
        "from sklearn.metrics import f1_score"
      ]
    },
    {
      "cell_type": "code",
      "execution_count": null,
      "metadata": {},
      "outputs": [
        {
          "name": "stdout",
          "output_type": "stream",
          "text": [
            "Mounted at /content/drive\n"
          ]
        }
      ],
      "source": [
        "from google.colab import drive\n",
        "drive.mount('/content/drive')\n",
        "drive_path = '/content/drive/MyDrive/nlp/hw1/'"
      ]
    },
    {
      "cell_type": "code",
      "execution_count": null,
      "metadata": {},
      "outputs": [],
      "source": [
        "drive_path = '/content/drive/MyDrive/nlp/hw1/'"
      ]
    },
    {
      "cell_type": "code",
      "execution_count": null,
      "metadata": {},
      "outputs": [],
      "source": [
        "df_train = pd.read_csv(f'{drive_path}hpac_splits/hpac_training_128.tsv', sep = '\\t', header = None)\n",
        "df_dev = pd.read_csv(f'{drive_path}hpac_splits/hpac_dev_128.tsv', sep = '\\t', header = None)\n",
        "df_test = pd.read_csv(f'{drive_path}hpac_splits/hpac_test_128.tsv', sep = '\\t', header = None)"
      ]
    },
    {
      "cell_type": "code",
      "execution_count": null,
      "metadata": {},
      "outputs": [
        {
          "data": {
            "text/html": [
              "\n",
              "  <div id=\"df-bd7126ce-3dd9-44e0-abd7-e38b2c680e95\" class=\"colab-df-container\">\n",
              "    <div>\n",
              "<style scoped>\n",
              "    .dataframe tbody tr th:only-of-type {\n",
              "        vertical-align: middle;\n",
              "    }\n",
              "\n",
              "    .dataframe tbody tr th {\n",
              "        vertical-align: top;\n",
              "    }\n",
              "\n",
              "    .dataframe thead th {\n",
              "        text-align: right;\n",
              "    }\n",
              "</style>\n",
              "<table border=\"1\" class=\"dataframe\">\n",
              "  <thead>\n",
              "    <tr style=\"text-align: right;\">\n",
              "      <th></th>\n",
              "      <th>0</th>\n",
              "      <th>1</th>\n",
              "      <th>2</th>\n",
              "    </tr>\n",
              "  </thead>\n",
              "  <tbody>\n",
              "    <tr>\n",
              "      <th>0</th>\n",
              "      <td>7642954.0.676</td>\n",
              "      <td>RIDDIKULUS</td>\n",
              "      <td>were staring at her . she was up next to face ...</td>\n",
              "    </tr>\n",
              "    <tr>\n",
              "      <th>1</th>\n",
              "      <td>10443333.0.5753</td>\n",
              "      <td>RIDDIKULUS</td>\n",
              "      <td>that whole time . her first reaction , for whi...</td>\n",
              "    </tr>\n",
              "    <tr>\n",
              "      <th>2</th>\n",
              "      <td>4703706.0.8690</td>\n",
              "      <td>STUPEFY</td>\n",
              "      <td>we watched his inglorious withdrawal together ...</td>\n",
              "    </tr>\n",
              "  </tbody>\n",
              "</table>\n",
              "</div>\n",
              "    <div class=\"colab-df-buttons\">\n",
              "\n",
              "  <div class=\"colab-df-container\">\n",
              "    <button class=\"colab-df-convert\" onclick=\"convertToInteractive('df-bd7126ce-3dd9-44e0-abd7-e38b2c680e95')\"\n",
              "            title=\"Convert this dataframe to an interactive table.\"\n",
              "            style=\"display:none;\">\n",
              "\n",
              "  <svg xmlns=\"http://www.w3.org/2000/svg\" height=\"24px\" viewBox=\"0 -960 960 960\">\n",
              "    <path d=\"M120-120v-720h720v720H120Zm60-500h600v-160H180v160Zm220 220h160v-160H400v160Zm0 220h160v-160H400v160ZM180-400h160v-160H180v160Zm440 0h160v-160H620v160ZM180-180h160v-160H180v160Zm440 0h160v-160H620v160Z\"/>\n",
              "  </svg>\n",
              "    </button>\n",
              "\n",
              "  <style>\n",
              "    .colab-df-container {\n",
              "      display:flex;\n",
              "      gap: 12px;\n",
              "    }\n",
              "\n",
              "    .colab-df-convert {\n",
              "      background-color: #E8F0FE;\n",
              "      border: none;\n",
              "      border-radius: 50%;\n",
              "      cursor: pointer;\n",
              "      display: none;\n",
              "      fill: #1967D2;\n",
              "      height: 32px;\n",
              "      padding: 0 0 0 0;\n",
              "      width: 32px;\n",
              "    }\n",
              "\n",
              "    .colab-df-convert:hover {\n",
              "      background-color: #E2EBFA;\n",
              "      box-shadow: 0px 1px 2px rgba(60, 64, 67, 0.3), 0px 1px 3px 1px rgba(60, 64, 67, 0.15);\n",
              "      fill: #174EA6;\n",
              "    }\n",
              "\n",
              "    .colab-df-buttons div {\n",
              "      margin-bottom: 4px;\n",
              "    }\n",
              "\n",
              "    [theme=dark] .colab-df-convert {\n",
              "      background-color: #3B4455;\n",
              "      fill: #D2E3FC;\n",
              "    }\n",
              "\n",
              "    [theme=dark] .colab-df-convert:hover {\n",
              "      background-color: #434B5C;\n",
              "      box-shadow: 0px 1px 3px 1px rgba(0, 0, 0, 0.15);\n",
              "      filter: drop-shadow(0px 1px 2px rgba(0, 0, 0, 0.3));\n",
              "      fill: #FFFFFF;\n",
              "    }\n",
              "  </style>\n",
              "\n",
              "    <script>\n",
              "      const buttonEl =\n",
              "        document.querySelector('#df-bd7126ce-3dd9-44e0-abd7-e38b2c680e95 button.colab-df-convert');\n",
              "      buttonEl.style.display =\n",
              "        google.colab.kernel.accessAllowed ? 'block' : 'none';\n",
              "\n",
              "      async function convertToInteractive(key) {\n",
              "        const element = document.querySelector('#df-bd7126ce-3dd9-44e0-abd7-e38b2c680e95');\n",
              "        const dataTable =\n",
              "          await google.colab.kernel.invokeFunction('convertToInteractive',\n",
              "                                                    [key], {});\n",
              "        if (!dataTable) return;\n",
              "\n",
              "        const docLinkHtml = 'Like what you see? Visit the ' +\n",
              "          '<a target=\"_blank\" href=https://colab.research.google.com/notebooks/data_table.ipynb>data table notebook</a>'\n",
              "          + ' to learn more about interactive tables.';\n",
              "        element.innerHTML = '';\n",
              "        dataTable['output_type'] = 'display_data';\n",
              "        await google.colab.output.renderOutput(dataTable, element);\n",
              "        const docLink = document.createElement('div');\n",
              "        docLink.innerHTML = docLinkHtml;\n",
              "        element.appendChild(docLink);\n",
              "      }\n",
              "    </script>\n",
              "  </div>\n",
              "\n",
              "\n",
              "<div id=\"df-29ccc510-82a7-4725-b52c-542d1d87228a\">\n",
              "  <button class=\"colab-df-quickchart\" onclick=\"quickchart('df-29ccc510-82a7-4725-b52c-542d1d87228a')\"\n",
              "            title=\"Suggest charts.\"\n",
              "            style=\"display:none;\">\n",
              "\n",
              "<svg xmlns=\"http://www.w3.org/2000/svg\" height=\"24px\"viewBox=\"0 0 24 24\"\n",
              "     width=\"24px\">\n",
              "    <g>\n",
              "        <path d=\"M19 3H5c-1.1 0-2 .9-2 2v14c0 1.1.9 2 2 2h14c1.1 0 2-.9 2-2V5c0-1.1-.9-2-2-2zM9 17H7v-7h2v7zm4 0h-2V7h2v10zm4 0h-2v-4h2v4z\"/>\n",
              "    </g>\n",
              "</svg>\n",
              "  </button>\n",
              "\n",
              "<style>\n",
              "  .colab-df-quickchart {\n",
              "      --bg-color: #E8F0FE;\n",
              "      --fill-color: #1967D2;\n",
              "      --hover-bg-color: #E2EBFA;\n",
              "      --hover-fill-color: #174EA6;\n",
              "      --disabled-fill-color: #AAA;\n",
              "      --disabled-bg-color: #DDD;\n",
              "  }\n",
              "\n",
              "  [theme=dark] .colab-df-quickchart {\n",
              "      --bg-color: #3B4455;\n",
              "      --fill-color: #D2E3FC;\n",
              "      --hover-bg-color: #434B5C;\n",
              "      --hover-fill-color: #FFFFFF;\n",
              "      --disabled-bg-color: #3B4455;\n",
              "      --disabled-fill-color: #666;\n",
              "  }\n",
              "\n",
              "  .colab-df-quickchart {\n",
              "    background-color: var(--bg-color);\n",
              "    border: none;\n",
              "    border-radius: 50%;\n",
              "    cursor: pointer;\n",
              "    display: none;\n",
              "    fill: var(--fill-color);\n",
              "    height: 32px;\n",
              "    padding: 0;\n",
              "    width: 32px;\n",
              "  }\n",
              "\n",
              "  .colab-df-quickchart:hover {\n",
              "    background-color: var(--hover-bg-color);\n",
              "    box-shadow: 0 1px 2px rgba(60, 64, 67, 0.3), 0 1px 3px 1px rgba(60, 64, 67, 0.15);\n",
              "    fill: var(--button-hover-fill-color);\n",
              "  }\n",
              "\n",
              "  .colab-df-quickchart-complete:disabled,\n",
              "  .colab-df-quickchart-complete:disabled:hover {\n",
              "    background-color: var(--disabled-bg-color);\n",
              "    fill: var(--disabled-fill-color);\n",
              "    box-shadow: none;\n",
              "  }\n",
              "\n",
              "  .colab-df-spinner {\n",
              "    border: 2px solid var(--fill-color);\n",
              "    border-color: transparent;\n",
              "    border-bottom-color: var(--fill-color);\n",
              "    animation:\n",
              "      spin 1s steps(1) infinite;\n",
              "  }\n",
              "\n",
              "  @keyframes spin {\n",
              "    0% {\n",
              "      border-color: transparent;\n",
              "      border-bottom-color: var(--fill-color);\n",
              "      border-left-color: var(--fill-color);\n",
              "    }\n",
              "    20% {\n",
              "      border-color: transparent;\n",
              "      border-left-color: var(--fill-color);\n",
              "      border-top-color: var(--fill-color);\n",
              "    }\n",
              "    30% {\n",
              "      border-color: transparent;\n",
              "      border-left-color: var(--fill-color);\n",
              "      border-top-color: var(--fill-color);\n",
              "      border-right-color: var(--fill-color);\n",
              "    }\n",
              "    40% {\n",
              "      border-color: transparent;\n",
              "      border-right-color: var(--fill-color);\n",
              "      border-top-color: var(--fill-color);\n",
              "    }\n",
              "    60% {\n",
              "      border-color: transparent;\n",
              "      border-right-color: var(--fill-color);\n",
              "    }\n",
              "    80% {\n",
              "      border-color: transparent;\n",
              "      border-right-color: var(--fill-color);\n",
              "      border-bottom-color: var(--fill-color);\n",
              "    }\n",
              "    90% {\n",
              "      border-color: transparent;\n",
              "      border-bottom-color: var(--fill-color);\n",
              "    }\n",
              "  }\n",
              "</style>\n",
              "\n",
              "  <script>\n",
              "    async function quickchart(key) {\n",
              "      const quickchartButtonEl =\n",
              "        document.querySelector('#' + key + ' button');\n",
              "      quickchartButtonEl.disabled = true;  // To prevent multiple clicks.\n",
              "      quickchartButtonEl.classList.add('colab-df-spinner');\n",
              "      try {\n",
              "        const charts = await google.colab.kernel.invokeFunction(\n",
              "            'suggestCharts', [key], {});\n",
              "      } catch (error) {\n",
              "        console.error('Error during call to suggestCharts:', error);\n",
              "      }\n",
              "      quickchartButtonEl.classList.remove('colab-df-spinner');\n",
              "      quickchartButtonEl.classList.add('colab-df-quickchart-complete');\n",
              "    }\n",
              "    (() => {\n",
              "      let quickchartButtonEl =\n",
              "        document.querySelector('#df-29ccc510-82a7-4725-b52c-542d1d87228a button');\n",
              "      quickchartButtonEl.style.display =\n",
              "        google.colab.kernel.accessAllowed ? 'block' : 'none';\n",
              "    })();\n",
              "  </script>\n",
              "</div>\n",
              "    </div>\n",
              "  </div>\n"
            ],
            "text/plain": [
              "                 0           1  \\\n",
              "0    7642954.0.676  RIDDIKULUS   \n",
              "1  10443333.0.5753  RIDDIKULUS   \n",
              "2   4703706.0.8690     STUPEFY   \n",
              "\n",
              "                                                   2  \n",
              "0  were staring at her . she was up next to face ...  \n",
              "1  that whole time . her first reaction , for whi...  \n",
              "2  we watched his inglorious withdrawal together ...  "
            ]
          },
          "metadata": {},
          "output_type": "display_data"
        }
      ],
      "source": [
        "df_train.head(3)"
      ]
    },
    {
      "cell_type": "code",
      "execution_count": null,
      "metadata": {},
      "outputs": [],
      "source": [
        "col_names = ['id', 'spell', 'text']\n",
        "df_train.columns = col_names\n",
        "df_dev.columns = col_names\n",
        "df_test.columns = col_names"
      ]
    },
    {
      "cell_type": "code",
      "execution_count": null,
      "metadata": {},
      "outputs": [
        {
          "data": {
            "text/html": [
              "\n",
              "  <div id=\"df-6bb59f13-408d-43a3-9219-9bb40cca6c71\" class=\"colab-df-container\">\n",
              "    <div>\n",
              "<style scoped>\n",
              "    .dataframe tbody tr th:only-of-type {\n",
              "        vertical-align: middle;\n",
              "    }\n",
              "\n",
              "    .dataframe tbody tr th {\n",
              "        vertical-align: top;\n",
              "    }\n",
              "\n",
              "    .dataframe thead th {\n",
              "        text-align: right;\n",
              "    }\n",
              "</style>\n",
              "<table border=\"1\" class=\"dataframe\">\n",
              "  <thead>\n",
              "    <tr style=\"text-align: right;\">\n",
              "      <th></th>\n",
              "      <th>id</th>\n",
              "      <th>spell</th>\n",
              "      <th>text</th>\n",
              "    </tr>\n",
              "  </thead>\n",
              "  <tbody>\n",
              "    <tr>\n",
              "      <th>0</th>\n",
              "      <td>7642954.0.676</td>\n",
              "      <td>RIDDIKULUS</td>\n",
              "      <td>were staring at her . she was up next to face ...</td>\n",
              "    </tr>\n",
              "    <tr>\n",
              "      <th>1</th>\n",
              "      <td>10443333.0.5753</td>\n",
              "      <td>RIDDIKULUS</td>\n",
              "      <td>that whole time . her first reaction , for whi...</td>\n",
              "    </tr>\n",
              "    <tr>\n",
              "      <th>2</th>\n",
              "      <td>4703706.0.8690</td>\n",
              "      <td>STUPEFY</td>\n",
              "      <td>we watched his inglorious withdrawal together ...</td>\n",
              "    </tr>\n",
              "  </tbody>\n",
              "</table>\n",
              "</div>\n",
              "    <div class=\"colab-df-buttons\">\n",
              "\n",
              "  <div class=\"colab-df-container\">\n",
              "    <button class=\"colab-df-convert\" onclick=\"convertToInteractive('df-6bb59f13-408d-43a3-9219-9bb40cca6c71')\"\n",
              "            title=\"Convert this dataframe to an interactive table.\"\n",
              "            style=\"display:none;\">\n",
              "\n",
              "  <svg xmlns=\"http://www.w3.org/2000/svg\" height=\"24px\" viewBox=\"0 -960 960 960\">\n",
              "    <path d=\"M120-120v-720h720v720H120Zm60-500h600v-160H180v160Zm220 220h160v-160H400v160Zm0 220h160v-160H400v160ZM180-400h160v-160H180v160Zm440 0h160v-160H620v160ZM180-180h160v-160H180v160Zm440 0h160v-160H620v160Z\"/>\n",
              "  </svg>\n",
              "    </button>\n",
              "\n",
              "  <style>\n",
              "    .colab-df-container {\n",
              "      display:flex;\n",
              "      gap: 12px;\n",
              "    }\n",
              "\n",
              "    .colab-df-convert {\n",
              "      background-color: #E8F0FE;\n",
              "      border: none;\n",
              "      border-radius: 50%;\n",
              "      cursor: pointer;\n",
              "      display: none;\n",
              "      fill: #1967D2;\n",
              "      height: 32px;\n",
              "      padding: 0 0 0 0;\n",
              "      width: 32px;\n",
              "    }\n",
              "\n",
              "    .colab-df-convert:hover {\n",
              "      background-color: #E2EBFA;\n",
              "      box-shadow: 0px 1px 2px rgba(60, 64, 67, 0.3), 0px 1px 3px 1px rgba(60, 64, 67, 0.15);\n",
              "      fill: #174EA6;\n",
              "    }\n",
              "\n",
              "    .colab-df-buttons div {\n",
              "      margin-bottom: 4px;\n",
              "    }\n",
              "\n",
              "    [theme=dark] .colab-df-convert {\n",
              "      background-color: #3B4455;\n",
              "      fill: #D2E3FC;\n",
              "    }\n",
              "\n",
              "    [theme=dark] .colab-df-convert:hover {\n",
              "      background-color: #434B5C;\n",
              "      box-shadow: 0px 1px 3px 1px rgba(0, 0, 0, 0.15);\n",
              "      filter: drop-shadow(0px 1px 2px rgba(0, 0, 0, 0.3));\n",
              "      fill: #FFFFFF;\n",
              "    }\n",
              "  </style>\n",
              "\n",
              "    <script>\n",
              "      const buttonEl =\n",
              "        document.querySelector('#df-6bb59f13-408d-43a3-9219-9bb40cca6c71 button.colab-df-convert');\n",
              "      buttonEl.style.display =\n",
              "        google.colab.kernel.accessAllowed ? 'block' : 'none';\n",
              "\n",
              "      async function convertToInteractive(key) {\n",
              "        const element = document.querySelector('#df-6bb59f13-408d-43a3-9219-9bb40cca6c71');\n",
              "        const dataTable =\n",
              "          await google.colab.kernel.invokeFunction('convertToInteractive',\n",
              "                                                    [key], {});\n",
              "        if (!dataTable) return;\n",
              "\n",
              "        const docLinkHtml = 'Like what you see? Visit the ' +\n",
              "          '<a target=\"_blank\" href=https://colab.research.google.com/notebooks/data_table.ipynb>data table notebook</a>'\n",
              "          + ' to learn more about interactive tables.';\n",
              "        element.innerHTML = '';\n",
              "        dataTable['output_type'] = 'display_data';\n",
              "        await google.colab.output.renderOutput(dataTable, element);\n",
              "        const docLink = document.createElement('div');\n",
              "        docLink.innerHTML = docLinkHtml;\n",
              "        element.appendChild(docLink);\n",
              "      }\n",
              "    </script>\n",
              "  </div>\n",
              "\n",
              "\n",
              "<div id=\"df-4cb3a38d-8fc6-4a3f-9d91-2f1d92ebcef8\">\n",
              "  <button class=\"colab-df-quickchart\" onclick=\"quickchart('df-4cb3a38d-8fc6-4a3f-9d91-2f1d92ebcef8')\"\n",
              "            title=\"Suggest charts.\"\n",
              "            style=\"display:none;\">\n",
              "\n",
              "<svg xmlns=\"http://www.w3.org/2000/svg\" height=\"24px\"viewBox=\"0 0 24 24\"\n",
              "     width=\"24px\">\n",
              "    <g>\n",
              "        <path d=\"M19 3H5c-1.1 0-2 .9-2 2v14c0 1.1.9 2 2 2h14c1.1 0 2-.9 2-2V5c0-1.1-.9-2-2-2zM9 17H7v-7h2v7zm4 0h-2V7h2v10zm4 0h-2v-4h2v4z\"/>\n",
              "    </g>\n",
              "</svg>\n",
              "  </button>\n",
              "\n",
              "<style>\n",
              "  .colab-df-quickchart {\n",
              "      --bg-color: #E8F0FE;\n",
              "      --fill-color: #1967D2;\n",
              "      --hover-bg-color: #E2EBFA;\n",
              "      --hover-fill-color: #174EA6;\n",
              "      --disabled-fill-color: #AAA;\n",
              "      --disabled-bg-color: #DDD;\n",
              "  }\n",
              "\n",
              "  [theme=dark] .colab-df-quickchart {\n",
              "      --bg-color: #3B4455;\n",
              "      --fill-color: #D2E3FC;\n",
              "      --hover-bg-color: #434B5C;\n",
              "      --hover-fill-color: #FFFFFF;\n",
              "      --disabled-bg-color: #3B4455;\n",
              "      --disabled-fill-color: #666;\n",
              "  }\n",
              "\n",
              "  .colab-df-quickchart {\n",
              "    background-color: var(--bg-color);\n",
              "    border: none;\n",
              "    border-radius: 50%;\n",
              "    cursor: pointer;\n",
              "    display: none;\n",
              "    fill: var(--fill-color);\n",
              "    height: 32px;\n",
              "    padding: 0;\n",
              "    width: 32px;\n",
              "  }\n",
              "\n",
              "  .colab-df-quickchart:hover {\n",
              "    background-color: var(--hover-bg-color);\n",
              "    box-shadow: 0 1px 2px rgba(60, 64, 67, 0.3), 0 1px 3px 1px rgba(60, 64, 67, 0.15);\n",
              "    fill: var(--button-hover-fill-color);\n",
              "  }\n",
              "\n",
              "  .colab-df-quickchart-complete:disabled,\n",
              "  .colab-df-quickchart-complete:disabled:hover {\n",
              "    background-color: var(--disabled-bg-color);\n",
              "    fill: var(--disabled-fill-color);\n",
              "    box-shadow: none;\n",
              "  }\n",
              "\n",
              "  .colab-df-spinner {\n",
              "    border: 2px solid var(--fill-color);\n",
              "    border-color: transparent;\n",
              "    border-bottom-color: var(--fill-color);\n",
              "    animation:\n",
              "      spin 1s steps(1) infinite;\n",
              "  }\n",
              "\n",
              "  @keyframes spin {\n",
              "    0% {\n",
              "      border-color: transparent;\n",
              "      border-bottom-color: var(--fill-color);\n",
              "      border-left-color: var(--fill-color);\n",
              "    }\n",
              "    20% {\n",
              "      border-color: transparent;\n",
              "      border-left-color: var(--fill-color);\n",
              "      border-top-color: var(--fill-color);\n",
              "    }\n",
              "    30% {\n",
              "      border-color: transparent;\n",
              "      border-left-color: var(--fill-color);\n",
              "      border-top-color: var(--fill-color);\n",
              "      border-right-color: var(--fill-color);\n",
              "    }\n",
              "    40% {\n",
              "      border-color: transparent;\n",
              "      border-right-color: var(--fill-color);\n",
              "      border-top-color: var(--fill-color);\n",
              "    }\n",
              "    60% {\n",
              "      border-color: transparent;\n",
              "      border-right-color: var(--fill-color);\n",
              "    }\n",
              "    80% {\n",
              "      border-color: transparent;\n",
              "      border-right-color: var(--fill-color);\n",
              "      border-bottom-color: var(--fill-color);\n",
              "    }\n",
              "    90% {\n",
              "      border-color: transparent;\n",
              "      border-bottom-color: var(--fill-color);\n",
              "    }\n",
              "  }\n",
              "</style>\n",
              "\n",
              "  <script>\n",
              "    async function quickchart(key) {\n",
              "      const quickchartButtonEl =\n",
              "        document.querySelector('#' + key + ' button');\n",
              "      quickchartButtonEl.disabled = true;  // To prevent multiple clicks.\n",
              "      quickchartButtonEl.classList.add('colab-df-spinner');\n",
              "      try {\n",
              "        const charts = await google.colab.kernel.invokeFunction(\n",
              "            'suggestCharts', [key], {});\n",
              "      } catch (error) {\n",
              "        console.error('Error during call to suggestCharts:', error);\n",
              "      }\n",
              "      quickchartButtonEl.classList.remove('colab-df-spinner');\n",
              "      quickchartButtonEl.classList.add('colab-df-quickchart-complete');\n",
              "    }\n",
              "    (() => {\n",
              "      let quickchartButtonEl =\n",
              "        document.querySelector('#df-4cb3a38d-8fc6-4a3f-9d91-2f1d92ebcef8 button');\n",
              "      quickchartButtonEl.style.display =\n",
              "        google.colab.kernel.accessAllowed ? 'block' : 'none';\n",
              "    })();\n",
              "  </script>\n",
              "</div>\n",
              "    </div>\n",
              "  </div>\n"
            ],
            "text/plain": [
              "                id       spell  \\\n",
              "0    7642954.0.676  RIDDIKULUS   \n",
              "1  10443333.0.5753  RIDDIKULUS   \n",
              "2   4703706.0.8690     STUPEFY   \n",
              "\n",
              "                                                text  \n",
              "0  were staring at her . she was up next to face ...  \n",
              "1  that whole time . her first reaction , for whi...  \n",
              "2  we watched his inglorious withdrawal together ...  "
            ]
          },
          "metadata": {},
          "output_type": "display_data"
        }
      ],
      "source": [
        "df_train.head(3)"
      ]
    },
    {
      "cell_type": "code",
      "execution_count": null,
      "metadata": {},
      "outputs": [],
      "source": [
        "df_train.drop(columns=['id'], inplace=True)\n",
        "df_dev.drop(columns=['id'], inplace=True)\n",
        "df_test.drop(columns=['id'], inplace=True)"
      ]
    },
    {
      "cell_type": "code",
      "execution_count": null,
      "metadata": {},
      "outputs": [
        {
          "data": {
            "text/html": [
              "\n",
              "  <div id=\"df-22405c79-a1be-4ed3-862d-e47659bc5701\" class=\"colab-df-container\">\n",
              "    <div>\n",
              "<style scoped>\n",
              "    .dataframe tbody tr th:only-of-type {\n",
              "        vertical-align: middle;\n",
              "    }\n",
              "\n",
              "    .dataframe tbody tr th {\n",
              "        vertical-align: top;\n",
              "    }\n",
              "\n",
              "    .dataframe thead th {\n",
              "        text-align: right;\n",
              "    }\n",
              "</style>\n",
              "<table border=\"1\" class=\"dataframe\">\n",
              "  <thead>\n",
              "    <tr style=\"text-align: right;\">\n",
              "      <th></th>\n",
              "      <th>spell</th>\n",
              "      <th>text</th>\n",
              "    </tr>\n",
              "  </thead>\n",
              "  <tbody>\n",
              "    <tr>\n",
              "      <th>0</th>\n",
              "      <td>RIDDIKULUS</td>\n",
              "      <td>were staring at her . she was up next to face ...</td>\n",
              "    </tr>\n",
              "    <tr>\n",
              "      <th>1</th>\n",
              "      <td>RIDDIKULUS</td>\n",
              "      <td>that whole time . her first reaction , for whi...</td>\n",
              "    </tr>\n",
              "    <tr>\n",
              "      <th>2</th>\n",
              "      <td>STUPEFY</td>\n",
              "      <td>we watched his inglorious withdrawal together ...</td>\n",
              "    </tr>\n",
              "  </tbody>\n",
              "</table>\n",
              "</div>\n",
              "    <div class=\"colab-df-buttons\">\n",
              "\n",
              "  <div class=\"colab-df-container\">\n",
              "    <button class=\"colab-df-convert\" onclick=\"convertToInteractive('df-22405c79-a1be-4ed3-862d-e47659bc5701')\"\n",
              "            title=\"Convert this dataframe to an interactive table.\"\n",
              "            style=\"display:none;\">\n",
              "\n",
              "  <svg xmlns=\"http://www.w3.org/2000/svg\" height=\"24px\" viewBox=\"0 -960 960 960\">\n",
              "    <path d=\"M120-120v-720h720v720H120Zm60-500h600v-160H180v160Zm220 220h160v-160H400v160Zm0 220h160v-160H400v160ZM180-400h160v-160H180v160Zm440 0h160v-160H620v160ZM180-180h160v-160H180v160Zm440 0h160v-160H620v160Z\"/>\n",
              "  </svg>\n",
              "    </button>\n",
              "\n",
              "  <style>\n",
              "    .colab-df-container {\n",
              "      display:flex;\n",
              "      gap: 12px;\n",
              "    }\n",
              "\n",
              "    .colab-df-convert {\n",
              "      background-color: #E8F0FE;\n",
              "      border: none;\n",
              "      border-radius: 50%;\n",
              "      cursor: pointer;\n",
              "      display: none;\n",
              "      fill: #1967D2;\n",
              "      height: 32px;\n",
              "      padding: 0 0 0 0;\n",
              "      width: 32px;\n",
              "    }\n",
              "\n",
              "    .colab-df-convert:hover {\n",
              "      background-color: #E2EBFA;\n",
              "      box-shadow: 0px 1px 2px rgba(60, 64, 67, 0.3), 0px 1px 3px 1px rgba(60, 64, 67, 0.15);\n",
              "      fill: #174EA6;\n",
              "    }\n",
              "\n",
              "    .colab-df-buttons div {\n",
              "      margin-bottom: 4px;\n",
              "    }\n",
              "\n",
              "    [theme=dark] .colab-df-convert {\n",
              "      background-color: #3B4455;\n",
              "      fill: #D2E3FC;\n",
              "    }\n",
              "\n",
              "    [theme=dark] .colab-df-convert:hover {\n",
              "      background-color: #434B5C;\n",
              "      box-shadow: 0px 1px 3px 1px rgba(0, 0, 0, 0.15);\n",
              "      filter: drop-shadow(0px 1px 2px rgba(0, 0, 0, 0.3));\n",
              "      fill: #FFFFFF;\n",
              "    }\n",
              "  </style>\n",
              "\n",
              "    <script>\n",
              "      const buttonEl =\n",
              "        document.querySelector('#df-22405c79-a1be-4ed3-862d-e47659bc5701 button.colab-df-convert');\n",
              "      buttonEl.style.display =\n",
              "        google.colab.kernel.accessAllowed ? 'block' : 'none';\n",
              "\n",
              "      async function convertToInteractive(key) {\n",
              "        const element = document.querySelector('#df-22405c79-a1be-4ed3-862d-e47659bc5701');\n",
              "        const dataTable =\n",
              "          await google.colab.kernel.invokeFunction('convertToInteractive',\n",
              "                                                    [key], {});\n",
              "        if (!dataTable) return;\n",
              "\n",
              "        const docLinkHtml = 'Like what you see? Visit the ' +\n",
              "          '<a target=\"_blank\" href=https://colab.research.google.com/notebooks/data_table.ipynb>data table notebook</a>'\n",
              "          + ' to learn more about interactive tables.';\n",
              "        element.innerHTML = '';\n",
              "        dataTable['output_type'] = 'display_data';\n",
              "        await google.colab.output.renderOutput(dataTable, element);\n",
              "        const docLink = document.createElement('div');\n",
              "        docLink.innerHTML = docLinkHtml;\n",
              "        element.appendChild(docLink);\n",
              "      }\n",
              "    </script>\n",
              "  </div>\n",
              "\n",
              "\n",
              "<div id=\"df-1f2d065b-3039-4262-a80d-fefb774c6d4b\">\n",
              "  <button class=\"colab-df-quickchart\" onclick=\"quickchart('df-1f2d065b-3039-4262-a80d-fefb774c6d4b')\"\n",
              "            title=\"Suggest charts.\"\n",
              "            style=\"display:none;\">\n",
              "\n",
              "<svg xmlns=\"http://www.w3.org/2000/svg\" height=\"24px\"viewBox=\"0 0 24 24\"\n",
              "     width=\"24px\">\n",
              "    <g>\n",
              "        <path d=\"M19 3H5c-1.1 0-2 .9-2 2v14c0 1.1.9 2 2 2h14c1.1 0 2-.9 2-2V5c0-1.1-.9-2-2-2zM9 17H7v-7h2v7zm4 0h-2V7h2v10zm4 0h-2v-4h2v4z\"/>\n",
              "    </g>\n",
              "</svg>\n",
              "  </button>\n",
              "\n",
              "<style>\n",
              "  .colab-df-quickchart {\n",
              "      --bg-color: #E8F0FE;\n",
              "      --fill-color: #1967D2;\n",
              "      --hover-bg-color: #E2EBFA;\n",
              "      --hover-fill-color: #174EA6;\n",
              "      --disabled-fill-color: #AAA;\n",
              "      --disabled-bg-color: #DDD;\n",
              "  }\n",
              "\n",
              "  [theme=dark] .colab-df-quickchart {\n",
              "      --bg-color: #3B4455;\n",
              "      --fill-color: #D2E3FC;\n",
              "      --hover-bg-color: #434B5C;\n",
              "      --hover-fill-color: #FFFFFF;\n",
              "      --disabled-bg-color: #3B4455;\n",
              "      --disabled-fill-color: #666;\n",
              "  }\n",
              "\n",
              "  .colab-df-quickchart {\n",
              "    background-color: var(--bg-color);\n",
              "    border: none;\n",
              "    border-radius: 50%;\n",
              "    cursor: pointer;\n",
              "    display: none;\n",
              "    fill: var(--fill-color);\n",
              "    height: 32px;\n",
              "    padding: 0;\n",
              "    width: 32px;\n",
              "  }\n",
              "\n",
              "  .colab-df-quickchart:hover {\n",
              "    background-color: var(--hover-bg-color);\n",
              "    box-shadow: 0 1px 2px rgba(60, 64, 67, 0.3), 0 1px 3px 1px rgba(60, 64, 67, 0.15);\n",
              "    fill: var(--button-hover-fill-color);\n",
              "  }\n",
              "\n",
              "  .colab-df-quickchart-complete:disabled,\n",
              "  .colab-df-quickchart-complete:disabled:hover {\n",
              "    background-color: var(--disabled-bg-color);\n",
              "    fill: var(--disabled-fill-color);\n",
              "    box-shadow: none;\n",
              "  }\n",
              "\n",
              "  .colab-df-spinner {\n",
              "    border: 2px solid var(--fill-color);\n",
              "    border-color: transparent;\n",
              "    border-bottom-color: var(--fill-color);\n",
              "    animation:\n",
              "      spin 1s steps(1) infinite;\n",
              "  }\n",
              "\n",
              "  @keyframes spin {\n",
              "    0% {\n",
              "      border-color: transparent;\n",
              "      border-bottom-color: var(--fill-color);\n",
              "      border-left-color: var(--fill-color);\n",
              "    }\n",
              "    20% {\n",
              "      border-color: transparent;\n",
              "      border-left-color: var(--fill-color);\n",
              "      border-top-color: var(--fill-color);\n",
              "    }\n",
              "    30% {\n",
              "      border-color: transparent;\n",
              "      border-left-color: var(--fill-color);\n",
              "      border-top-color: var(--fill-color);\n",
              "      border-right-color: var(--fill-color);\n",
              "    }\n",
              "    40% {\n",
              "      border-color: transparent;\n",
              "      border-right-color: var(--fill-color);\n",
              "      border-top-color: var(--fill-color);\n",
              "    }\n",
              "    60% {\n",
              "      border-color: transparent;\n",
              "      border-right-color: var(--fill-color);\n",
              "    }\n",
              "    80% {\n",
              "      border-color: transparent;\n",
              "      border-right-color: var(--fill-color);\n",
              "      border-bottom-color: var(--fill-color);\n",
              "    }\n",
              "    90% {\n",
              "      border-color: transparent;\n",
              "      border-bottom-color: var(--fill-color);\n",
              "    }\n",
              "  }\n",
              "</style>\n",
              "\n",
              "  <script>\n",
              "    async function quickchart(key) {\n",
              "      const quickchartButtonEl =\n",
              "        document.querySelector('#' + key + ' button');\n",
              "      quickchartButtonEl.disabled = true;  // To prevent multiple clicks.\n",
              "      quickchartButtonEl.classList.add('colab-df-spinner');\n",
              "      try {\n",
              "        const charts = await google.colab.kernel.invokeFunction(\n",
              "            'suggestCharts', [key], {});\n",
              "      } catch (error) {\n",
              "        console.error('Error during call to suggestCharts:', error);\n",
              "      }\n",
              "      quickchartButtonEl.classList.remove('colab-df-spinner');\n",
              "      quickchartButtonEl.classList.add('colab-df-quickchart-complete');\n",
              "    }\n",
              "    (() => {\n",
              "      let quickchartButtonEl =\n",
              "        document.querySelector('#df-1f2d065b-3039-4262-a80d-fefb774c6d4b button');\n",
              "      quickchartButtonEl.style.display =\n",
              "        google.colab.kernel.accessAllowed ? 'block' : 'none';\n",
              "    })();\n",
              "  </script>\n",
              "</div>\n",
              "    </div>\n",
              "  </div>\n"
            ],
            "text/plain": [
              "        spell                                               text\n",
              "0  RIDDIKULUS  were staring at her . she was up next to face ...\n",
              "1  RIDDIKULUS  that whole time . her first reaction , for whi...\n",
              "2     STUPEFY  we watched his inglorious withdrawal together ..."
            ]
          },
          "metadata": {},
          "output_type": "display_data"
        }
      ],
      "source": [
        "df_train.head(3)"
      ]
    },
    {
      "cell_type": "code",
      "execution_count": null,
      "metadata": {},
      "outputs": [],
      "source": [
        "df_train = df_train[['text', 'spell']]\n",
        "df_dev = df_dev[['text', 'spell']]\n",
        "df_test = df_test[['text', 'spell']]"
      ]
    },
    {
      "cell_type": "code",
      "execution_count": null,
      "metadata": {},
      "outputs": [
        {
          "data": {
            "text/html": [
              "\n",
              "  <div id=\"df-203d3c1e-703b-416b-95c2-6f77dd1406cd\" class=\"colab-df-container\">\n",
              "    <div>\n",
              "<style scoped>\n",
              "    .dataframe tbody tr th:only-of-type {\n",
              "        vertical-align: middle;\n",
              "    }\n",
              "\n",
              "    .dataframe tbody tr th {\n",
              "        vertical-align: top;\n",
              "    }\n",
              "\n",
              "    .dataframe thead th {\n",
              "        text-align: right;\n",
              "    }\n",
              "</style>\n",
              "<table border=\"1\" class=\"dataframe\">\n",
              "  <thead>\n",
              "    <tr style=\"text-align: right;\">\n",
              "      <th></th>\n",
              "      <th>text</th>\n",
              "      <th>spell</th>\n",
              "    </tr>\n",
              "  </thead>\n",
              "  <tbody>\n",
              "    <tr>\n",
              "      <th>0</th>\n",
              "      <td>were staring at her . she was up next to face ...</td>\n",
              "      <td>RIDDIKULUS</td>\n",
              "    </tr>\n",
              "    <tr>\n",
              "      <th>1</th>\n",
              "      <td>that whole time . her first reaction , for whi...</td>\n",
              "      <td>RIDDIKULUS</td>\n",
              "    </tr>\n",
              "    <tr>\n",
              "      <th>2</th>\n",
              "      <td>we watched his inglorious withdrawal together ...</td>\n",
              "      <td>STUPEFY</td>\n",
              "    </tr>\n",
              "  </tbody>\n",
              "</table>\n",
              "</div>\n",
              "    <div class=\"colab-df-buttons\">\n",
              "\n",
              "  <div class=\"colab-df-container\">\n",
              "    <button class=\"colab-df-convert\" onclick=\"convertToInteractive('df-203d3c1e-703b-416b-95c2-6f77dd1406cd')\"\n",
              "            title=\"Convert this dataframe to an interactive table.\"\n",
              "            style=\"display:none;\">\n",
              "\n",
              "  <svg xmlns=\"http://www.w3.org/2000/svg\" height=\"24px\" viewBox=\"0 -960 960 960\">\n",
              "    <path d=\"M120-120v-720h720v720H120Zm60-500h600v-160H180v160Zm220 220h160v-160H400v160Zm0 220h160v-160H400v160ZM180-400h160v-160H180v160Zm440 0h160v-160H620v160ZM180-180h160v-160H180v160Zm440 0h160v-160H620v160Z\"/>\n",
              "  </svg>\n",
              "    </button>\n",
              "\n",
              "  <style>\n",
              "    .colab-df-container {\n",
              "      display:flex;\n",
              "      gap: 12px;\n",
              "    }\n",
              "\n",
              "    .colab-df-convert {\n",
              "      background-color: #E8F0FE;\n",
              "      border: none;\n",
              "      border-radius: 50%;\n",
              "      cursor: pointer;\n",
              "      display: none;\n",
              "      fill: #1967D2;\n",
              "      height: 32px;\n",
              "      padding: 0 0 0 0;\n",
              "      width: 32px;\n",
              "    }\n",
              "\n",
              "    .colab-df-convert:hover {\n",
              "      background-color: #E2EBFA;\n",
              "      box-shadow: 0px 1px 2px rgba(60, 64, 67, 0.3), 0px 1px 3px 1px rgba(60, 64, 67, 0.15);\n",
              "      fill: #174EA6;\n",
              "    }\n",
              "\n",
              "    .colab-df-buttons div {\n",
              "      margin-bottom: 4px;\n",
              "    }\n",
              "\n",
              "    [theme=dark] .colab-df-convert {\n",
              "      background-color: #3B4455;\n",
              "      fill: #D2E3FC;\n",
              "    }\n",
              "\n",
              "    [theme=dark] .colab-df-convert:hover {\n",
              "      background-color: #434B5C;\n",
              "      box-shadow: 0px 1px 3px 1px rgba(0, 0, 0, 0.15);\n",
              "      filter: drop-shadow(0px 1px 2px rgba(0, 0, 0, 0.3));\n",
              "      fill: #FFFFFF;\n",
              "    }\n",
              "  </style>\n",
              "\n",
              "    <script>\n",
              "      const buttonEl =\n",
              "        document.querySelector('#df-203d3c1e-703b-416b-95c2-6f77dd1406cd button.colab-df-convert');\n",
              "      buttonEl.style.display =\n",
              "        google.colab.kernel.accessAllowed ? 'block' : 'none';\n",
              "\n",
              "      async function convertToInteractive(key) {\n",
              "        const element = document.querySelector('#df-203d3c1e-703b-416b-95c2-6f77dd1406cd');\n",
              "        const dataTable =\n",
              "          await google.colab.kernel.invokeFunction('convertToInteractive',\n",
              "                                                    [key], {});\n",
              "        if (!dataTable) return;\n",
              "\n",
              "        const docLinkHtml = 'Like what you see? Visit the ' +\n",
              "          '<a target=\"_blank\" href=https://colab.research.google.com/notebooks/data_table.ipynb>data table notebook</a>'\n",
              "          + ' to learn more about interactive tables.';\n",
              "        element.innerHTML = '';\n",
              "        dataTable['output_type'] = 'display_data';\n",
              "        await google.colab.output.renderOutput(dataTable, element);\n",
              "        const docLink = document.createElement('div');\n",
              "        docLink.innerHTML = docLinkHtml;\n",
              "        element.appendChild(docLink);\n",
              "      }\n",
              "    </script>\n",
              "  </div>\n",
              "\n",
              "\n",
              "<div id=\"df-8a325d7f-1c5b-4f6f-a185-bb266be16585\">\n",
              "  <button class=\"colab-df-quickchart\" onclick=\"quickchart('df-8a325d7f-1c5b-4f6f-a185-bb266be16585')\"\n",
              "            title=\"Suggest charts.\"\n",
              "            style=\"display:none;\">\n",
              "\n",
              "<svg xmlns=\"http://www.w3.org/2000/svg\" height=\"24px\"viewBox=\"0 0 24 24\"\n",
              "     width=\"24px\">\n",
              "    <g>\n",
              "        <path d=\"M19 3H5c-1.1 0-2 .9-2 2v14c0 1.1.9 2 2 2h14c1.1 0 2-.9 2-2V5c0-1.1-.9-2-2-2zM9 17H7v-7h2v7zm4 0h-2V7h2v10zm4 0h-2v-4h2v4z\"/>\n",
              "    </g>\n",
              "</svg>\n",
              "  </button>\n",
              "\n",
              "<style>\n",
              "  .colab-df-quickchart {\n",
              "      --bg-color: #E8F0FE;\n",
              "      --fill-color: #1967D2;\n",
              "      --hover-bg-color: #E2EBFA;\n",
              "      --hover-fill-color: #174EA6;\n",
              "      --disabled-fill-color: #AAA;\n",
              "      --disabled-bg-color: #DDD;\n",
              "  }\n",
              "\n",
              "  [theme=dark] .colab-df-quickchart {\n",
              "      --bg-color: #3B4455;\n",
              "      --fill-color: #D2E3FC;\n",
              "      --hover-bg-color: #434B5C;\n",
              "      --hover-fill-color: #FFFFFF;\n",
              "      --disabled-bg-color: #3B4455;\n",
              "      --disabled-fill-color: #666;\n",
              "  }\n",
              "\n",
              "  .colab-df-quickchart {\n",
              "    background-color: var(--bg-color);\n",
              "    border: none;\n",
              "    border-radius: 50%;\n",
              "    cursor: pointer;\n",
              "    display: none;\n",
              "    fill: var(--fill-color);\n",
              "    height: 32px;\n",
              "    padding: 0;\n",
              "    width: 32px;\n",
              "  }\n",
              "\n",
              "  .colab-df-quickchart:hover {\n",
              "    background-color: var(--hover-bg-color);\n",
              "    box-shadow: 0 1px 2px rgba(60, 64, 67, 0.3), 0 1px 3px 1px rgba(60, 64, 67, 0.15);\n",
              "    fill: var(--button-hover-fill-color);\n",
              "  }\n",
              "\n",
              "  .colab-df-quickchart-complete:disabled,\n",
              "  .colab-df-quickchart-complete:disabled:hover {\n",
              "    background-color: var(--disabled-bg-color);\n",
              "    fill: var(--disabled-fill-color);\n",
              "    box-shadow: none;\n",
              "  }\n",
              "\n",
              "  .colab-df-spinner {\n",
              "    border: 2px solid var(--fill-color);\n",
              "    border-color: transparent;\n",
              "    border-bottom-color: var(--fill-color);\n",
              "    animation:\n",
              "      spin 1s steps(1) infinite;\n",
              "  }\n",
              "\n",
              "  @keyframes spin {\n",
              "    0% {\n",
              "      border-color: transparent;\n",
              "      border-bottom-color: var(--fill-color);\n",
              "      border-left-color: var(--fill-color);\n",
              "    }\n",
              "    20% {\n",
              "      border-color: transparent;\n",
              "      border-left-color: var(--fill-color);\n",
              "      border-top-color: var(--fill-color);\n",
              "    }\n",
              "    30% {\n",
              "      border-color: transparent;\n",
              "      border-left-color: var(--fill-color);\n",
              "      border-top-color: var(--fill-color);\n",
              "      border-right-color: var(--fill-color);\n",
              "    }\n",
              "    40% {\n",
              "      border-color: transparent;\n",
              "      border-right-color: var(--fill-color);\n",
              "      border-top-color: var(--fill-color);\n",
              "    }\n",
              "    60% {\n",
              "      border-color: transparent;\n",
              "      border-right-color: var(--fill-color);\n",
              "    }\n",
              "    80% {\n",
              "      border-color: transparent;\n",
              "      border-right-color: var(--fill-color);\n",
              "      border-bottom-color: var(--fill-color);\n",
              "    }\n",
              "    90% {\n",
              "      border-color: transparent;\n",
              "      border-bottom-color: var(--fill-color);\n",
              "    }\n",
              "  }\n",
              "</style>\n",
              "\n",
              "  <script>\n",
              "    async function quickchart(key) {\n",
              "      const quickchartButtonEl =\n",
              "        document.querySelector('#' + key + ' button');\n",
              "      quickchartButtonEl.disabled = true;  // To prevent multiple clicks.\n",
              "      quickchartButtonEl.classList.add('colab-df-spinner');\n",
              "      try {\n",
              "        const charts = await google.colab.kernel.invokeFunction(\n",
              "            'suggestCharts', [key], {});\n",
              "      } catch (error) {\n",
              "        console.error('Error during call to suggestCharts:', error);\n",
              "      }\n",
              "      quickchartButtonEl.classList.remove('colab-df-spinner');\n",
              "      quickchartButtonEl.classList.add('colab-df-quickchart-complete');\n",
              "    }\n",
              "    (() => {\n",
              "      let quickchartButtonEl =\n",
              "        document.querySelector('#df-8a325d7f-1c5b-4f6f-a185-bb266be16585 button');\n",
              "      quickchartButtonEl.style.display =\n",
              "        google.colab.kernel.accessAllowed ? 'block' : 'none';\n",
              "    })();\n",
              "  </script>\n",
              "</div>\n",
              "    </div>\n",
              "  </div>\n"
            ],
            "text/plain": [
              "                                                text       spell\n",
              "0  were staring at her . she was up next to face ...  RIDDIKULUS\n",
              "1  that whole time . her first reaction , for whi...  RIDDIKULUS\n",
              "2  we watched his inglorious withdrawal together ...     STUPEFY"
            ]
          },
          "metadata": {},
          "output_type": "display_data"
        }
      ],
      "source": [
        "df_train.head(3)"
      ]
    },
    {
      "cell_type": "code",
      "execution_count": null,
      "metadata": {},
      "outputs": [],
      "source": [
        "df_train['spell'] = df_train['spell'].astype(\"category\")\n",
        "df_dev['spell'] = df_dev['spell'].astype(\"category\")\n",
        "df_dev['spell'] = df_dev['spell'].cat.set_categories(df_train['spell'].cat.categories)\n",
        "df_test['spell'] = df_test['spell'].astype(\"category\")\n",
        "df_test['spell'] = df_test['spell'].cat.set_categories(df_train['spell'].cat.categories)\n",
        "\n",
        "df_train['true'] = df_train['spell'].cat.codes.values.astype(str)\n",
        "df_dev['true'] = df_dev['spell'].cat.codes.values.astype(str)\n",
        "df_test['true'] = df_test['spell'].cat.codes.values.astype(str)"
      ]
    },
    {
      "cell_type": "code",
      "execution_count": null,
      "metadata": {},
      "outputs": [
        {
          "data": {
            "text/html": [
              "\n",
              "  <div id=\"df-6853c4d3-e313-4a02-a54f-ac2154ddf3b1\" class=\"colab-df-container\">\n",
              "    <div>\n",
              "<style scoped>\n",
              "    .dataframe tbody tr th:only-of-type {\n",
              "        vertical-align: middle;\n",
              "    }\n",
              "\n",
              "    .dataframe tbody tr th {\n",
              "        vertical-align: top;\n",
              "    }\n",
              "\n",
              "    .dataframe thead th {\n",
              "        text-align: right;\n",
              "    }\n",
              "</style>\n",
              "<table border=\"1\" class=\"dataframe\">\n",
              "  <thead>\n",
              "    <tr style=\"text-align: right;\">\n",
              "      <th></th>\n",
              "      <th>text</th>\n",
              "      <th>spell</th>\n",
              "      <th>true</th>\n",
              "    </tr>\n",
              "  </thead>\n",
              "  <tbody>\n",
              "    <tr>\n",
              "      <th>0</th>\n",
              "      <td>were staring at her . she was up next to face ...</td>\n",
              "      <td>RIDDIKULUS</td>\n",
              "      <td>72</td>\n",
              "    </tr>\n",
              "    <tr>\n",
              "      <th>1</th>\n",
              "      <td>that whole time . her first reaction , for whi...</td>\n",
              "      <td>RIDDIKULUS</td>\n",
              "      <td>72</td>\n",
              "    </tr>\n",
              "    <tr>\n",
              "      <th>2</th>\n",
              "      <td>we watched his inglorious withdrawal together ...</td>\n",
              "      <td>STUPEFY</td>\n",
              "      <td>80</td>\n",
              "    </tr>\n",
              "  </tbody>\n",
              "</table>\n",
              "</div>\n",
              "    <div class=\"colab-df-buttons\">\n",
              "\n",
              "  <div class=\"colab-df-container\">\n",
              "    <button class=\"colab-df-convert\" onclick=\"convertToInteractive('df-6853c4d3-e313-4a02-a54f-ac2154ddf3b1')\"\n",
              "            title=\"Convert this dataframe to an interactive table.\"\n",
              "            style=\"display:none;\">\n",
              "\n",
              "  <svg xmlns=\"http://www.w3.org/2000/svg\" height=\"24px\" viewBox=\"0 -960 960 960\">\n",
              "    <path d=\"M120-120v-720h720v720H120Zm60-500h600v-160H180v160Zm220 220h160v-160H400v160Zm0 220h160v-160H400v160ZM180-400h160v-160H180v160Zm440 0h160v-160H620v160ZM180-180h160v-160H180v160Zm440 0h160v-160H620v160Z\"/>\n",
              "  </svg>\n",
              "    </button>\n",
              "\n",
              "  <style>\n",
              "    .colab-df-container {\n",
              "      display:flex;\n",
              "      gap: 12px;\n",
              "    }\n",
              "\n",
              "    .colab-df-convert {\n",
              "      background-color: #E8F0FE;\n",
              "      border: none;\n",
              "      border-radius: 50%;\n",
              "      cursor: pointer;\n",
              "      display: none;\n",
              "      fill: #1967D2;\n",
              "      height: 32px;\n",
              "      padding: 0 0 0 0;\n",
              "      width: 32px;\n",
              "    }\n",
              "\n",
              "    .colab-df-convert:hover {\n",
              "      background-color: #E2EBFA;\n",
              "      box-shadow: 0px 1px 2px rgba(60, 64, 67, 0.3), 0px 1px 3px 1px rgba(60, 64, 67, 0.15);\n",
              "      fill: #174EA6;\n",
              "    }\n",
              "\n",
              "    .colab-df-buttons div {\n",
              "      margin-bottom: 4px;\n",
              "    }\n",
              "\n",
              "    [theme=dark] .colab-df-convert {\n",
              "      background-color: #3B4455;\n",
              "      fill: #D2E3FC;\n",
              "    }\n",
              "\n",
              "    [theme=dark] .colab-df-convert:hover {\n",
              "      background-color: #434B5C;\n",
              "      box-shadow: 0px 1px 3px 1px rgba(0, 0, 0, 0.15);\n",
              "      filter: drop-shadow(0px 1px 2px rgba(0, 0, 0, 0.3));\n",
              "      fill: #FFFFFF;\n",
              "    }\n",
              "  </style>\n",
              "\n",
              "    <script>\n",
              "      const buttonEl =\n",
              "        document.querySelector('#df-6853c4d3-e313-4a02-a54f-ac2154ddf3b1 button.colab-df-convert');\n",
              "      buttonEl.style.display =\n",
              "        google.colab.kernel.accessAllowed ? 'block' : 'none';\n",
              "\n",
              "      async function convertToInteractive(key) {\n",
              "        const element = document.querySelector('#df-6853c4d3-e313-4a02-a54f-ac2154ddf3b1');\n",
              "        const dataTable =\n",
              "          await google.colab.kernel.invokeFunction('convertToInteractive',\n",
              "                                                    [key], {});\n",
              "        if (!dataTable) return;\n",
              "\n",
              "        const docLinkHtml = 'Like what you see? Visit the ' +\n",
              "          '<a target=\"_blank\" href=https://colab.research.google.com/notebooks/data_table.ipynb>data table notebook</a>'\n",
              "          + ' to learn more about interactive tables.';\n",
              "        element.innerHTML = '';\n",
              "        dataTable['output_type'] = 'display_data';\n",
              "        await google.colab.output.renderOutput(dataTable, element);\n",
              "        const docLink = document.createElement('div');\n",
              "        docLink.innerHTML = docLinkHtml;\n",
              "        element.appendChild(docLink);\n",
              "      }\n",
              "    </script>\n",
              "  </div>\n",
              "\n",
              "\n",
              "<div id=\"df-3a37a6b1-0a7d-4d65-bf43-6f7536713b1d\">\n",
              "  <button class=\"colab-df-quickchart\" onclick=\"quickchart('df-3a37a6b1-0a7d-4d65-bf43-6f7536713b1d')\"\n",
              "            title=\"Suggest charts.\"\n",
              "            style=\"display:none;\">\n",
              "\n",
              "<svg xmlns=\"http://www.w3.org/2000/svg\" height=\"24px\"viewBox=\"0 0 24 24\"\n",
              "     width=\"24px\">\n",
              "    <g>\n",
              "        <path d=\"M19 3H5c-1.1 0-2 .9-2 2v14c0 1.1.9 2 2 2h14c1.1 0 2-.9 2-2V5c0-1.1-.9-2-2-2zM9 17H7v-7h2v7zm4 0h-2V7h2v10zm4 0h-2v-4h2v4z\"/>\n",
              "    </g>\n",
              "</svg>\n",
              "  </button>\n",
              "\n",
              "<style>\n",
              "  .colab-df-quickchart {\n",
              "      --bg-color: #E8F0FE;\n",
              "      --fill-color: #1967D2;\n",
              "      --hover-bg-color: #E2EBFA;\n",
              "      --hover-fill-color: #174EA6;\n",
              "      --disabled-fill-color: #AAA;\n",
              "      --disabled-bg-color: #DDD;\n",
              "  }\n",
              "\n",
              "  [theme=dark] .colab-df-quickchart {\n",
              "      --bg-color: #3B4455;\n",
              "      --fill-color: #D2E3FC;\n",
              "      --hover-bg-color: #434B5C;\n",
              "      --hover-fill-color: #FFFFFF;\n",
              "      --disabled-bg-color: #3B4455;\n",
              "      --disabled-fill-color: #666;\n",
              "  }\n",
              "\n",
              "  .colab-df-quickchart {\n",
              "    background-color: var(--bg-color);\n",
              "    border: none;\n",
              "    border-radius: 50%;\n",
              "    cursor: pointer;\n",
              "    display: none;\n",
              "    fill: var(--fill-color);\n",
              "    height: 32px;\n",
              "    padding: 0;\n",
              "    width: 32px;\n",
              "  }\n",
              "\n",
              "  .colab-df-quickchart:hover {\n",
              "    background-color: var(--hover-bg-color);\n",
              "    box-shadow: 0 1px 2px rgba(60, 64, 67, 0.3), 0 1px 3px 1px rgba(60, 64, 67, 0.15);\n",
              "    fill: var(--button-hover-fill-color);\n",
              "  }\n",
              "\n",
              "  .colab-df-quickchart-complete:disabled,\n",
              "  .colab-df-quickchart-complete:disabled:hover {\n",
              "    background-color: var(--disabled-bg-color);\n",
              "    fill: var(--disabled-fill-color);\n",
              "    box-shadow: none;\n",
              "  }\n",
              "\n",
              "  .colab-df-spinner {\n",
              "    border: 2px solid var(--fill-color);\n",
              "    border-color: transparent;\n",
              "    border-bottom-color: var(--fill-color);\n",
              "    animation:\n",
              "      spin 1s steps(1) infinite;\n",
              "  }\n",
              "\n",
              "  @keyframes spin {\n",
              "    0% {\n",
              "      border-color: transparent;\n",
              "      border-bottom-color: var(--fill-color);\n",
              "      border-left-color: var(--fill-color);\n",
              "    }\n",
              "    20% {\n",
              "      border-color: transparent;\n",
              "      border-left-color: var(--fill-color);\n",
              "      border-top-color: var(--fill-color);\n",
              "    }\n",
              "    30% {\n",
              "      border-color: transparent;\n",
              "      border-left-color: var(--fill-color);\n",
              "      border-top-color: var(--fill-color);\n",
              "      border-right-color: var(--fill-color);\n",
              "    }\n",
              "    40% {\n",
              "      border-color: transparent;\n",
              "      border-right-color: var(--fill-color);\n",
              "      border-top-color: var(--fill-color);\n",
              "    }\n",
              "    60% {\n",
              "      border-color: transparent;\n",
              "      border-right-color: var(--fill-color);\n",
              "    }\n",
              "    80% {\n",
              "      border-color: transparent;\n",
              "      border-right-color: var(--fill-color);\n",
              "      border-bottom-color: var(--fill-color);\n",
              "    }\n",
              "    90% {\n",
              "      border-color: transparent;\n",
              "      border-bottom-color: var(--fill-color);\n",
              "    }\n",
              "  }\n",
              "</style>\n",
              "\n",
              "  <script>\n",
              "    async function quickchart(key) {\n",
              "      const quickchartButtonEl =\n",
              "        document.querySelector('#' + key + ' button');\n",
              "      quickchartButtonEl.disabled = true;  // To prevent multiple clicks.\n",
              "      quickchartButtonEl.classList.add('colab-df-spinner');\n",
              "      try {\n",
              "        const charts = await google.colab.kernel.invokeFunction(\n",
              "            'suggestCharts', [key], {});\n",
              "      } catch (error) {\n",
              "        console.error('Error during call to suggestCharts:', error);\n",
              "      }\n",
              "      quickchartButtonEl.classList.remove('colab-df-spinner');\n",
              "      quickchartButtonEl.classList.add('colab-df-quickchart-complete');\n",
              "    }\n",
              "    (() => {\n",
              "      let quickchartButtonEl =\n",
              "        document.querySelector('#df-3a37a6b1-0a7d-4d65-bf43-6f7536713b1d button');\n",
              "      quickchartButtonEl.style.display =\n",
              "        google.colab.kernel.accessAllowed ? 'block' : 'none';\n",
              "    })();\n",
              "  </script>\n",
              "</div>\n",
              "    </div>\n",
              "  </div>\n"
            ],
            "text/plain": [
              "                                                text       spell true\n",
              "0  were staring at her . she was up next to face ...  RIDDIKULUS   72\n",
              "1  that whole time . her first reaction , for whi...  RIDDIKULUS   72\n",
              "2  we watched his inglorious withdrawal together ...     STUPEFY   80"
            ]
          },
          "metadata": {},
          "output_type": "display_data"
        }
      ],
      "source": [
        "df_train.head(3)"
      ]
    },
    {
      "cell_type": "code",
      "execution_count": null,
      "metadata": {},
      "outputs": [],
      "source": [
        "with open(f'{drive_path}train.txt', 'w+') as outfile:\n",
        "    for i in range(len(df_train)):\n",
        "        outfile.write('__label__' + df_train.loc[i, 'true'] + ' ' + df_train.loc[i, 'text'] + '\\n')\n",
        "\n",
        "with open(f'{drive_path}dev.txt', 'w+') as outfile:\n",
        "    for i in range(len(df_test)):\n",
        "        outfile.write('__label__' + df_dev.loc[i, 'true'] + ' ' + df_dev.loc[i, 'text'] + '\\n')\n",
        "\n",
        "with open(f'{drive_path}test.txt', 'w+') as outfile:\n",
        "    for i in range(len(df_test)):\n",
        "        outfile.write('__label__' + df_test.loc[i, 'true'] + ' ' + df_test.loc[i, 'text'] + '\\n')"
      ]
    },
    {
      "cell_type": "markdown",
      "metadata": {},
      "source": [
        "### 1. [1 балл] Используйте fastText в качестве baseline-классификатора.\n"
      ]
    },
    {
      "cell_type": "code",
      "execution_count": null,
      "metadata": {},
      "outputs": [],
      "source": [
        "import fasttext\n",
        "\n",
        "from sklearn.metrics import (\n",
        "    precision_score, recall_score, f1_score, accuracy_score, classification_report, confusion_matrix\n",
        ")"
      ]
    },
    {
      "cell_type": "code",
      "execution_count": null,
      "metadata": {},
      "outputs": [
        {
          "name": "stderr",
          "output_type": "stream",
          "text": [
            "Warning : `load_model` does not return WordVectorModel or SupervisedModel any more, but a `FastText` object which is very similar.\n"
          ]
        }
      ],
      "source": [
        "# Обучение модели\n",
        "model = fasttext.train_supervised(input=f'{drive_path}train.txt', lr=0.1, epoch=100, wordNgrams=2)\n",
        "\n",
        "# Сохранение модели\n",
        "model.save_model(f'{drive_path}fasttext_model.bin')\n",
        "\n",
        "# Загрузка модели\n",
        "model = fasttext.load_model(f'{drive_path}fasttext_model.bin')"
      ]
    },
    {
      "cell_type": "code",
      "execution_count": null,
      "metadata": {},
      "outputs": [],
      "source": [
        "def predict_spell(text):\n",
        "    predictions = model.predict(text, k=1)\n",
        "    return predictions[0][0].replace('__label__', '')"
      ]
    },
    {
      "cell_type": "code",
      "execution_count": null,
      "metadata": {},
      "outputs": [],
      "source": [
        "df_test['pred'] = df_test.text.apply(predict_spell)"
      ]
    },
    {
      "cell_type": "code",
      "execution_count": null,
      "metadata": {},
      "outputs": [
        {
          "name": "stderr",
          "output_type": "stream",
          "text": [
            "/usr/local/lib/python3.10/dist-packages/sklearn/metrics/_classification.py:1344: UndefinedMetricWarning: Precision is ill-defined and being set to 0.0 in labels with no predicted samples. Use `zero_division` parameter to control this behavior.\n",
            "  _warn_prf(average, modifier, msg_start, len(result))\n"
          ]
        },
        {
          "name": "stdout",
          "output_type": "stream",
          "text": [
            "Precision: 0.1560\n",
            "Recall: 0.1206\n",
            "F1-measure: 0.1260\n",
            "Accuracy: 0.3115\n"
          ]
        },
        {
          "name": "stderr",
          "output_type": "stream",
          "text": [
            "/usr/local/lib/python3.10/dist-packages/sklearn/metrics/_classification.py:1344: UndefinedMetricWarning: Precision and F-score are ill-defined and being set to 0.0 in labels with no predicted samples. Use `zero_division` parameter to control this behavior.\n",
            "  _warn_prf(average, modifier, msg_start, len(result))\n"
          ]
        },
        {
          "name": "stdout",
          "output_type": "stream",
          "text": [
            "              precision    recall  f1-score   support\n",
            "\n",
            "           0       0.30      0.33      0.31       516\n",
            "           1       0.20      0.24      0.22        79\n",
            "          10       0.00      0.00      0.00        17\n",
            "          11       0.41      0.48      0.45       909\n",
            "          12       0.00      0.00      0.00         6\n",
            "          13       1.00      0.17      0.29         6\n",
            "          14       0.00      0.00      0.00         8\n",
            "          15       0.00      0.00      0.00         2\n",
            "          16       0.00      0.00      0.00         1\n",
            "          17       0.19      0.14      0.16        81\n",
            "          18       0.00      0.00      0.00         4\n",
            "          19       0.06      0.11      0.07        37\n",
            "           2       0.43      0.40      0.41       164\n",
            "          20       0.19      0.17      0.18        53\n",
            "          21       0.00      0.00      0.00         5\n",
            "          22       0.12      0.13      0.13        53\n",
            "          23       0.53      0.50      0.52       221\n",
            "          24       0.21      0.18      0.19       335\n",
            "          25       0.00      0.00      0.00        19\n",
            "          26       0.00      0.00      0.00         9\n",
            "          27       0.06      0.10      0.08        67\n",
            "          28       0.00      0.00      0.00         9\n",
            "          29       0.67      0.11      0.18        19\n",
            "           3       0.00      0.00      0.00         4\n",
            "          30       0.00      0.00      0.00        10\n",
            "          31       0.00      0.00      0.00         3\n",
            "          32       0.03      0.05      0.04        21\n",
            "          33       0.11      0.09      0.09        70\n",
            "          34       0.18      0.14      0.16       138\n",
            "          35       0.00      0.00      0.00        12\n",
            "          36       0.09      0.09      0.09        77\n",
            "          37       0.17      0.17      0.17       164\n",
            "          38       0.00      0.00      0.00        15\n",
            "          39       0.46      0.38      0.42       225\n",
            "           4       0.00      0.00      0.00         9\n",
            "          40       0.11      0.16      0.13        64\n",
            "          41       0.00      0.00      0.00         4\n",
            "          42       0.09      0.17      0.12        18\n",
            "          43       0.33      0.08      0.12        13\n",
            "          44       0.44      0.48      0.46       501\n",
            "          45       0.00      0.00      0.00         1\n",
            "          46       0.00      0.00      0.00         4\n",
            "          47       0.00      0.00      0.00        12\n",
            "          48       0.42      0.21      0.28        38\n",
            "          49       0.15      0.19      0.16        81\n",
            "           5       0.42      0.51      0.46       915\n",
            "          50       0.18      0.16      0.17        76\n",
            "          51       0.42      0.45      0.43       371\n",
            "          52       0.00      0.00      0.00         7\n",
            "          53       0.11      0.20      0.14         5\n",
            "          54       1.00      0.20      0.33         5\n",
            "          56       0.09      0.10      0.10       117\n",
            "          57       0.00      0.00      0.00         2\n",
            "          58       0.18      0.18      0.18        66\n",
            "          59       0.31      0.17      0.22        30\n",
            "           6       0.31      0.15      0.20        27\n",
            "          60       0.00      0.00      0.00         2\n",
            "          61       0.18      0.13      0.15       205\n",
            "          62       0.00      0.00      0.00         5\n",
            "          63       0.00      0.00      0.00         4\n",
            "          64       0.00      0.00      0.00        17\n",
            "          65       0.00      0.00      0.00        21\n",
            "          66       0.19      0.16      0.17       147\n",
            "          67       0.00      0.00      0.00        21\n",
            "          68       0.15      0.09      0.12        32\n",
            "          69       0.29      0.26      0.27       131\n",
            "           7       0.00      0.00      0.00         2\n",
            "          70       0.00      0.00      0.00         5\n",
            "          71       0.00      0.00      0.00        25\n",
            "          72       0.70      0.63      0.66        83\n",
            "          73       0.00      0.00      0.00         5\n",
            "          74       0.33      0.32      0.32       157\n",
            "          75       0.15      0.14      0.14       175\n",
            "          76       0.00      0.00      0.00        15\n",
            "          77       0.09      0.09      0.09       128\n",
            "          78       0.38      0.25      0.31        71\n",
            "          79       0.00      0.00      0.00         5\n",
            "           8       0.06      0.05      0.05        39\n",
            "          80       0.23      0.21      0.22       423\n",
            "          81       0.00      0.00      0.00        16\n",
            "          82       0.08      0.08      0.08        24\n",
            "          83       0.00      0.00      0.00         8\n",
            "          84       0.25      0.28      0.26       145\n",
            "           9       0.06      0.07      0.06        43\n",
            "\n",
            "    accuracy                           0.31      7679\n",
            "   macro avg       0.16      0.12      0.13      7679\n",
            "weighted avg       0.30      0.31      0.30      7679\n",
            "\n"
          ]
        },
        {
          "name": "stderr",
          "output_type": "stream",
          "text": [
            "/usr/local/lib/python3.10/dist-packages/sklearn/metrics/_classification.py:1344: UndefinedMetricWarning: Precision and F-score are ill-defined and being set to 0.0 in labels with no predicted samples. Use `zero_division` parameter to control this behavior.\n",
            "  _warn_prf(average, modifier, msg_start, len(result))\n",
            "/usr/local/lib/python3.10/dist-packages/sklearn/metrics/_classification.py:1344: UndefinedMetricWarning: Precision and F-score are ill-defined and being set to 0.0 in labels with no predicted samples. Use `zero_division` parameter to control this behavior.\n",
            "  _warn_prf(average, modifier, msg_start, len(result))\n"
          ]
        }
      ],
      "source": [
        "print(f\"Precision: {precision_score(df_test.true, df_test.pred, average='macro'):.04f}\")\n",
        "print(f\"Recall: {recall_score(df_test.true, df_test.pred, average='macro'):.04f}\")\n",
        "print(f\"F1-measure: {f1_score(df_test.true, df_test.pred, average='macro'):.04f}\")\n",
        "print(f\"Accuracy: {accuracy_score(df_test.true, df_test.pred):.04f}\")\n",
        "print(classification_report(df_test.true, df_test.pred))"
      ]
    },
    {
      "cell_type": "markdown",
      "metadata": {},
      "source": [
        "как видим на частых классах качество хорошое => будет полезно расширить выборку для редких классов"
      ]
    },
    {
      "cell_type": "markdown",
      "metadata": {},
      "source": [
        "### 2. [2 балла] Используйте сверточные сети в качестве более продвинутого классификатора. Поэкспериментируйте с количеством и размерностью фильтров, используйте разные размеры окон, попробуйте использовать $k$-max pooling.\n"
      ]
    },
    {
      "cell_type": "code",
      "execution_count": null,
      "metadata": {},
      "outputs": [
        {
          "name": "stdout",
          "output_type": "stream",
          "text": [
            "cuda\n"
          ]
        }
      ],
      "source": [
        "from tokenizers import Tokenizer, models, trainers\n",
        "from tokenizers.pre_tokenizers import Whitespace\n",
        "from tokenizers.trainers import BpeTrainer\n",
        "\n",
        "import torch\n",
        "import torch.nn as nn\n",
        "import torch.nn.functional as F\n",
        "import torch.optim as optim\n",
        "from torch.utils.data import DataLoader, Dataset, TensorDataset\n",
        "from torcheval.metrics.functional import multiclass_f1_score\n",
        "\n",
        "from tqdm import tqdm\n",
        "\n",
        "if torch.cuda.is_available():\n",
        "  device = torch.device(\"cuda\")\n",
        "  print(\"cuda\")\n",
        "else:\n",
        "  device = torch.device(\"cpu\")\n",
        "  print(\"cpu\")\n",
        "batch_size = 64"
      ]
    },
    {
      "cell_type": "code",
      "execution_count": null,
      "metadata": {},
      "outputs": [],
      "source": [
        "class CNN(nn.Module):\n",
        "    def __init__(self, vocab_size, output_dim, embedding_dim=300, n_filters=100, filter_sizes=[2, 4, 6], dropout=0.6):\n",
        "        super().__init__()\n",
        "\n",
        "        self.embedding = nn.Embedding(vocab_size, embedding_dim)\n",
        "        self.conv_0 = nn.Conv2d(in_channels=1, out_channels=n_filters, kernel_size=(filter_sizes[0], embedding_dim))\n",
        "        self.conv_1 = nn.Conv2d(in_channels=1, out_channels=n_filters, kernel_size=(filter_sizes[1], embedding_dim))\n",
        "        self.conv_2 = nn.Conv2d(in_channels=1, out_channels=n_filters, kernel_size=(filter_sizes[2], embedding_dim))\n",
        "        self.fc = nn.Linear(len(filter_sizes) * n_filters, output_dim)\n",
        "        self.dropout = nn.Dropout(dropout)\n",
        "\n",
        "    def forward(self, x):\n",
        "        #x = [batch size, sent len]\n",
        "        embedded = self.embedding(x)\n",
        "\n",
        "        #embedded = [batch size, sent len, emb dim]\n",
        "        embedded = embedded.unsqueeze(1)\n",
        "\n",
        "        #embedded = [batch size, 1, sent len, emb dim]\n",
        "        conved_0 = F.relu(self.conv_0(embedded).squeeze(3))\n",
        "        conved_1 = F.relu(self.conv_1(embedded).squeeze(3))\n",
        "        conved_2 = F.relu(self.conv_2(embedded).squeeze(3))\n",
        "\n",
        "        #conv_n = [batch size, n_filters, sent len - filter_sizes[n]]\n",
        "        pooled_0 = F.max_pool1d(conved_0, conved_0.shape[2]).squeeze(2)\n",
        "        pooled_1 = F.max_pool1d(conved_1, conved_1.shape[2]).squeeze(2)\n",
        "        pooled_2 = F.max_pool1d(conved_2, conved_2.shape[2]).squeeze(2)\n",
        "\n",
        "        #pooled_n = [batch size, n_filters]\n",
        "        cat = self.dropout(torch.cat((pooled_0, pooled_1, pooled_2), dim=1))\n",
        "\n",
        "        #cat = [batch size, n_filters * len(filter_sizes)]\n",
        "        return self.fc(cat)"
      ]
    },
    {
      "cell_type": "code",
      "execution_count": null,
      "metadata": {},
      "outputs": [],
      "source": [
        "X_train, y_train = df_train['text'], df_train['true'].astype(int)\n",
        "X_test, y_test = df_test['text'], df_test['true'].astype(int)"
      ]
    },
    {
      "cell_type": "code",
      "execution_count": null,
      "metadata": {},
      "outputs": [],
      "source": [
        "tokenizer = Tokenizer(models.BPE(unk_token=\"[UNK]\"))\n",
        "tokenizer.pre_tokenizer = Whitespace()\n",
        "trainer = BpeTrainer(special_tokens=[\"[PAD]\", \"[UNK]\", \"[CLS]\", \"[SEP]\", \"[MASK]\"])\n",
        "tokenizer.train_from_iterator(X_train, trainer=trainer)"
      ]
    },
    {
      "cell_type": "code",
      "execution_count": null,
      "metadata": {},
      "outputs": [],
      "source": [
        "X_train = tokenizer.encode_batch(X_train)\n",
        "X_test = tokenizer.encode_batch(X_test)\n",
        "\n",
        "X_train = list(map(lambda x: x.ids, X_train))\n",
        "X_test = list(map(lambda x: x.ids, X_test))\n",
        "\n",
        "max_len = max(max(len(seq) for seq in X_train), max(len(seq) for seq in X_test))\n",
        "X_train = [text + [tokenizer.token_to_id(\"[PAD]\")] * (max_len - len(text)) for text in X_train]\n",
        "X_test = [text + [tokenizer.token_to_id(\"[PAD]\")] * (max_len - len(text)) for text in X_test]\n",
        "\n",
        "X_train = torch.tensor(X_train).to(device)\n",
        "X_test = torch.tensor(X_test).to(device)\n",
        "\n",
        "y_train = torch.tensor(y_train, dtype=torch.long).to(device)\n",
        "y_test = torch.tensor(y_test, dtype=torch.long).to(device)"
      ]
    },
    {
      "cell_type": "code",
      "execution_count": null,
      "metadata": {},
      "outputs": [
        {
          "data": {
            "text/plain": [
              "(60980, 60980)"
            ]
          },
          "metadata": {},
          "output_type": "display_data"
        }
      ],
      "source": [
        "len(X_train), len(y_train)"
      ]
    },
    {
      "cell_type": "code",
      "execution_count": null,
      "metadata": {},
      "outputs": [],
      "source": [
        "train_dataset = TensorDataset(X_train, y_train)\n",
        "test_dataset = TensorDataset(X_test, y_test)\n",
        "\n",
        "train_loader = DataLoader(train_dataset, batch_size=batch_size, shuffle=True)\n",
        "test_loader = DataLoader(test_dataset, batch_size=batch_size, shuffle=False)"
      ]
    },
    {
      "cell_type": "code",
      "execution_count": null,
      "metadata": {},
      "outputs": [],
      "source": [
        "vocab_size = len(tokenizer.get_vocab())\n",
        "output_dim = df_train.true.nunique()\n",
        "cnn_model = CNN(vocab_size, output_dim)\n",
        "\n",
        "optimizer = torch.optim.Adam(cnn_model.parameters(), lr=1e-3)\n",
        "loss_ = torch.nn.CrossEntropyLoss().to(device)"
      ]
    },
    {
      "cell_type": "code",
      "execution_count": null,
      "metadata": {},
      "outputs": [],
      "source": [
        "def log_to_file(text, file_name='log.txt'):\n",
        "    with open(file_name, 'a') as file:\n",
        "      print(text, file=file)"
      ]
    },
    {
      "cell_type": "code",
      "execution_count": null,
      "metadata": {},
      "outputs": [],
      "source": [
        "def train_(model, dataloader, optimizer, loss_func):\n",
        "    epoch_loss = 0\n",
        "    epoch_acc = 0\n",
        "    epoch_f1 = 0\n",
        "\n",
        "    model.train()\n",
        "\n",
        "    for batch in tqdm(dataloader):\n",
        "        inputs, labels = batch\n",
        "        inputs, labels = inputs.to(device), labels.to(device)\n",
        "\n",
        "        optimizer.zero_grad()\n",
        "\n",
        "        outputs = model(inputs)\n",
        "        loss = loss_func(outputs, labels)\n",
        "        preds = torch.argmax(outputs, dim=1)\n",
        "\n",
        "        acc = torch.sum(preds == labels) / len(labels)\n",
        "        f1_macro = multiclass_f1_score(preds, labels, num_classes=output_dim, average='macro')\n",
        "\n",
        "\n",
        "        loss.backward()\n",
        "        optimizer.step()\n",
        "\n",
        "        epoch_loss += loss\n",
        "        epoch_acc += acc\n",
        "        epoch_f1 += f1_macro\n",
        "\n",
        "    return epoch_loss / len(dataloader), epoch_acc / len(dataloader), epoch_f1 / len(dataloader)"
      ]
    },
    {
      "cell_type": "code",
      "execution_count": null,
      "metadata": {},
      "outputs": [],
      "source": [
        "def eval_(model, dataloader, loss_func):\n",
        "    epoch_loss = 0\n",
        "    epoch_acc = 0\n",
        "    epoch_f1 = 0\n",
        "\n",
        "    model.eval()\n",
        "\n",
        "    with torch.no_grad():\n",
        "        for batch in dataloader:\n",
        "            inputs, labels = batch\n",
        "            inputs, labels = inputs.to(device), labels.to(device)\n",
        "\n",
        "            outputs = model(inputs)\n",
        "            loss = loss_func(outputs, labels)\n",
        "            preds = torch.argmax(outputs, dim=1)\n",
        "\n",
        "            acc = torch.sum(preds == labels) / len(labels)\n",
        "            f1_macro = multiclass_f1_score(preds, labels, num_classes=output_dim, average='macro')\n",
        "\n",
        "            epoch_loss += loss\n",
        "            epoch_acc += acc\n",
        "\n",
        "    return epoch_loss / len(dataloader), epoch_acc / len(dataloader), epoch_f1 / len(dataloader)"
      ]
    },
    {
      "cell_type": "code",
      "execution_count": null,
      "metadata": {},
      "outputs": [],
      "source": [
        "from IPython.display import clear_output"
      ]
    },
    {
      "cell_type": "code",
      "execution_count": null,
      "metadata": {},
      "outputs": [
        {
          "name": "stdout",
          "output_type": "stream",
          "text": [
            "Finish!!!\n"
          ]
        }
      ],
      "source": [
        "N_EPOCHS = 5\n",
        "cnn_model.to(device)\n",
        "\n",
        "for epoch in range(N_EPOCHS):\n",
        "    train_loss, train_acc, train_f1 = train_(cnn_model, train_loader, optimizer, loss_)\n",
        "    test_loss, test_acc, test_f1 = eval_(cnn_model, test_loader, loss_)\n",
        "\n",
        "    log_to_file(f'Epoch: {epoch+1}' +\n",
        "          f'\\n    Train Loss: {train_loss:.3f}, Val Loss: {test_loss:.4f}' +\n",
        "          f'\\n    Train Acc: {train_acc:.4f}, Val Acc: {test_acc:.4f}' +\n",
        "          f'\\n    Train F1: {train_f1:.4f}, Val F1: {test_f1:.4f}')\n",
        "\n",
        "    clear_output(wait=True)\n",
        "\n",
        "print(\"Finish!!!\")"
      ]
    },
    {
      "cell_type": "markdown",
      "metadata": {},
      "source": [
        "Данные в логе:\n",
        "\n",
        "Epoch: 1\n",
        "\n",
        "    Train Loss: 3.485, Val Loss: 3.1246\n",
        "\n",
        "    Train Acc: 0.1583, Val Acc: 0.2321\n",
        "\n",
        "    Train F1: 0.0488, Val F1: 0.0000\n",
        "\n",
        "Epoch: 2\n",
        "\n",
        "    Train Loss: 3.140, Val Loss: 2.9580\n",
        "\n",
        "    Train Acc: 0.2266, Val Acc: 0.2834\n",
        "\n",
        "    Train F1: 0.0925, Val F1: 0.0000\n",
        "\n",
        "Epoch: 3\n",
        "\n",
        "    Train Loss: 2.993, Val Loss: 2.8832\n",
        "\n",
        "    Train Acc: 0.2589, Val Acc: 0.2938\n",
        "\n",
        "    Train F1: 0.1182, Val F1: 0.0000\n",
        "\n",
        "Epoch: 4\n",
        "\n",
        "    Train Loss: 2.859, Val Loss: 2.8536\n",
        "\n",
        "    Train Acc: 0.2853, Val Acc: 0.3025\n",
        "\n",
        "    Train F1: 0.1380, Val F1: 0.0000\n",
        "\n",
        "Epoch: 5\n",
        "\n",
        "    Train Loss: 2.739, Val Loss: 2.8424\n",
        "\n",
        "    Train Acc: 0.3075, Val Acc: 0.3045\n",
        "\n",
        "    Train F1: 0.1559, Val F1: 0.0000"
      ]
    },
    {
      "cell_type": "markdown",
      "metadata": {},
      "source": [
        "как видим из-за того что в тесте есть не все классы он не может нормально посчитать f1, во в целом смотря на остальные метрики можем сказать, что f1 такой же как на train - почти 0.156 хороший результат уже лучше, чем у fasttext (0.126)\n"
      ]
    },
    {
      "cell_type": "markdown",
      "metadata": {},
      "source": [
        "### 3. [2 балла] Используйте рекуррентные сети в качестве альтернативного продвинутого классификатора. Поэкспериментируйте с количеством и размерностью слоев и другими гиперпараметрами.\n"
      ]
    },
    {
      "cell_type": "code",
      "execution_count": null,
      "metadata": {},
      "outputs": [],
      "source": [
        "class RNN(nn.Module):\n",
        "    def __init__(self, vocab_size, output_dim, hidden_dim=64, embedding_dim=300, n_layers=1, dropout=0):\n",
        "        super(RNN, self).__init__()\n",
        "\n",
        "        self.embedding = nn.Embedding(vocab_size, embedding_dim)\n",
        "        self.rnn = nn.RNN(embedding_dim, hidden_dim, num_layers=n_layers, batch_first=True, dropout=dropout)\n",
        "        self.fc = nn.Linear(hidden_dim, output_dim)\n",
        "\n",
        "    def forward(self, x):\n",
        "        x = self.embedding(x)\n",
        "        output, hidden = self.rnn(x)\n",
        "        x = self.fc(output[:, -1, :])\n",
        "        return x"
      ]
    },
    {
      "cell_type": "code",
      "execution_count": null,
      "metadata": {},
      "outputs": [
        {
          "name": "stdout",
          "output_type": "stream",
          "text": [
            "Finish!!!\n"
          ]
        }
      ],
      "source": [
        "rnn_model = RNN(vocab_size, output_dim)\n",
        "N_EPOCHS = 10\n",
        "rnn_model.to(device)\n",
        "\n",
        "for epoch in range(N_EPOCHS):\n",
        "    train_loss, train_acc, train_f1 = train_(rnn_model, train_loader, optimizer, loss_)\n",
        "    valid_loss, valid_acc, test_f1 = eval_(rnn_model, test_loader, loss_)\n",
        "\n",
        "    log_to_file(f'Epoch: {epoch+1}' +\n",
        "          f'\\n    Train Loss: {train_loss:.3f}, Val Loss: {test_loss:.4f}' +\n",
        "          f'\\n    Train Acc: {train_acc:.4f}, Val Acc: {test_acc:.4f}' +\n",
        "          f'\\n    Train F1: {train_f1:.4f}, Val F1: {test_f1:.4f}')\n",
        "\n",
        "    clear_output(wait=True)\n",
        "\n",
        "print(\"Finish!!!\")"
      ]
    },
    {
      "cell_type": "markdown",
      "metadata": {},
      "source": [
        "Данные в логе:\n",
        "\n",
        "Epoch: 1\n",
        "\n",
        "    Train Loss: 4.567, Val Loss: 2.8424\n",
        "\n",
        "    Train Acc: 0.0020, Val Acc: 0.3045\n",
        "\n",
        "    Train F1: 0.0001, Val F1: 0.0000\n",
        "\n",
        "Epoch: 2\n",
        "\n",
        "    Train Loss: 4.567, Val Loss: 2.8424\n",
        "\n",
        "    Train Acc: 0.0020, Val Acc: 0.3045\n",
        "\n",
        "    Train F1: 0.0001, Val F1: 0.0000\n",
        "\n",
        "Epoch: 3\n",
        "\n",
        "    Train Loss: 4.567, Val Loss: 2.8424\n",
        "\n",
        "    Train Acc: 0.0020, Val Acc: 0.3045\n",
        "\n",
        "    Train F1: 0.0001, Val F1: 0.0000\n",
        "\n",
        "Epoch: 4\n",
        "\n",
        "    Train Loss: 4.567, Val Loss: 2.8424\n",
        "\n",
        "    Train Acc: 0.0020, Val Acc: 0.3045\n",
        "\n",
        "    Train F1: 0.0001, Val F1: 0.0000\n",
        "\n",
        "Epoch: 5\n",
        "\n",
        "    Train Loss: 4.567, Val Loss: 2.8424\n",
        "\n",
        "    Train Acc: 0.0020, Val Acc: 0.3045\n",
        "\n",
        "    Train F1: 0.0001, Val F1: 0.0000\n",
        "\n",
        "Epoch: 6\n",
        "\n",
        "    Train Loss: 4.567, Val Loss: 2.8424\n",
        "\n",
        "    Train Acc: 0.0020, Val Acc: 0.3045\n",
        "\n",
        "    Train F1: 0.0001, Val F1: 0.0000\n",
        "\n",
        "Epoch: 7\n",
        "\n",
        "    Train Loss: 4.567, Val Loss: 2.8424\n",
        "\n",
        "    Train Acc: 0.0020, Val Acc: 0.3045\n",
        "\n",
        "    Train F1: 0.0001, Val F1: 0.0000\n",
        "\n",
        "Epoch: 8\n",
        "\n",
        "    Train Loss: 4.567, Val Loss: 2.8424\n",
        "\n",
        "    Train Acc: 0.0020, Val Acc: 0.3045\n",
        "\n",
        "    Train F1: 0.0001, Val F1: 0.0000\n",
        "\n",
        "Epoch: 9\n",
        "\n",
        "    Train Loss: 4.567, Val Loss: 2.8424\n",
        "\n",
        "    Train Acc: 0.0020, Val Acc: 0.3045\n",
        "\n",
        "    Train F1: 0.0001, Val F1: 0.0000\n",
        "\n",
        "Epoch: 10\n",
        "\n",
        "    Train Loss: 4.567, Val Loss: 2.8424\n",
        "\n",
        "    Train Acc: 0.0020, Val Acc: 0.3045\n",
        "\n",
        "    Train F1: 0.0001, Val F1: 0.0000"
      ]
    },
    {
      "cell_type": "markdown",
      "metadata": {},
      "source": [
        "что-то слишком слабо, попробуем поиграться с параметрами"
      ]
    },
    {
      "cell_type": "code",
      "execution_count": null,
      "metadata": {},
      "outputs": [
        {
          "name": "stdout",
          "output_type": "stream",
          "text": [
            "Finish!!!\n"
          ]
        }
      ],
      "source": [
        "rnn_model_2 = RNN(vocab_size, output_dim, embedding_dim=100, n_layers=1, dropout=0.5)\n",
        "N_EPOCHS = 10\n",
        "rnn_model_2.to(device)\n",
        "\n",
        "for epoch in range(N_EPOCHS):\n",
        "    train_loss, train_acc, train_f1 = train_(rnn_model_2, train_loader, optimizer, loss_)\n",
        "    valid_loss, valid_acc, test_f1 = eval_(rnn_model_2, test_loader, loss_)\n",
        "\n",
        "    log_to_file(f'Epoch: {epoch+1}' +\n",
        "          f'\\n    Train Loss: {train_loss:.3f}, Val Loss: {test_loss:.4f}' +\n",
        "          f'\\n    Train Acc: {train_acc:.4f}, Val Acc: {test_acc:.4f}' +\n",
        "          f'\\n    Train F1: {train_f1:.4f}, Val F1: {test_f1:.4f}')\n",
        "\n",
        "    clear_output(wait=True)\n",
        "\n",
        "print(\"Finish!!!\")"
      ]
    },
    {
      "cell_type": "markdown",
      "metadata": {},
      "source": [
        "Данные в логе:\n",
        "\n",
        "Epoch: 1\n",
        "\n",
        "    Train Loss: 4.532, Val Loss: 2.8424\n",
        "\n",
        "    Train Acc: 0.0272, Val Acc: 0.3045\n",
        "\n",
        "    Train F1: 0.0019, Val F1: 0.0000\n",
        "\n",
        "Epoch: 2\n",
        "\n",
        "    Train Loss: 4.532, Val Loss: 2.8424\n",
        "\n",
        "    Train Acc: 0.0272, Val Acc: 0.3045\n",
        "\n",
        "    Train F1: 0.0020, Val F1: 0.0000\n",
        "\n",
        "Epoch: 3\n",
        "\n",
        "    Train Loss: 4.532, Val Loss: 2.8424\n",
        "\n",
        "    Train Acc: 0.0272, Val Acc: 0.3045\n",
        "\n",
        "    Train F1: 0.0019, Val F1: 0.0000\n",
        "\n",
        "Epoch: 4\n",
        "\n",
        "    Train Loss: 4.532, Val Loss: 2.8424\n",
        "\n",
        "    Train Acc: 0.0272, Val Acc: 0.3045\n",
        "\n",
        "    Train F1: 0.0019, Val F1: 0.0000\n",
        "\n",
        "Epoch: 5\n",
        "\n",
        "    Train Loss: 4.532, Val Loss: 2.8424\n",
        "\n",
        "    Train Acc: 0.0272, Val Acc: 0.3045\n",
        "\n",
        "    Train F1: 0.0019, Val F1: 0.0000\n",
        "\n",
        "Epoch: 6\n",
        "\n",
        "    Train Loss: 4.532, Val Loss: 2.8424\n",
        "\n",
        "    Train Acc: 0.0272, Val Acc: 0.3045\n",
        "\n",
        "    Train F1: 0.0019, Val F1: 0.0000\n",
        "\n",
        "Epoch: 7\n",
        "\n",
        "    Train Loss: 4.532, Val Loss: 2.8424\n",
        "\n",
        "    Train Acc: 0.0272, Val Acc: 0.3045\n",
        "\n",
        "    Train F1: 0.0019, Val F1: 0.0000\n",
        "\n",
        "Epoch: 8\n",
        "\n",
        "    Train Loss: 4.532, Val Loss: 2.8424\n",
        "\n",
        "    Train Acc: 0.0272, Val Acc: 0.3045\n",
        "\n",
        "    Train F1: 0.0019, Val F1: 0.0000\n",
        "\n",
        "Epoch: 9\n",
        "\n",
        "    Train Loss: 4.532, Val Loss: 2.8424\n",
        "\n",
        "    Train Acc: 0.0272, Val Acc: 0.3045\n",
        "\n",
        "    Train F1: 0.0019, Val F1: 0.0000\n",
        "\n",
        "Epoch: 10\n",
        "\n",
        "    Train Loss: 4.532, Val Loss: 2.8424\n",
        "\n",
        "    Train Acc: 0.0272, Val Acc: 0.3045\n",
        "\n",
        "    Train F1: 0.0019, Val F1: 0.0000\n",
        "    "
      ]
    },
    {
      "cell_type": "markdown",
      "metadata": {},
      "source": [
        "Как видим все еще очень слабо ("
      ]
    },
    {
      "cell_type": "markdown",
      "metadata": {},
      "source": [
        "### 4. [1.5 балла] Попробуйте расширить обучающее множество за счет аугментации данных. Если вам понадобится словарь синонимов, можно использовать WordNet (ниже вы найдете примеры).\n"
      ]
    },
    {
      "cell_type": "code",
      "execution_count": 11,
      "metadata": {},
      "outputs": [],
      "source": [
        "from nltk.corpus import wordnet\n",
        "from nltk.tokenize import word_tokenize\n",
        "import random\n",
        "\n",
        "def generate_synonyms(word):\n",
        "    synonyms = []\n",
        "    for synset in wordnet.synsets(word):\n",
        "        for lemma in synset.lemmas():\n",
        "            synonyms.append(lemma.name())\n",
        "    return synonyms\n",
        "\n",
        "def augment_data(text):\n",
        "    tokens = word_tokenize(text)\n",
        "    augmented_tokens = []\n",
        "    for token in tokens:\n",
        "        synonyms = generate_synonyms(token)\n",
        "        if len(synonyms) > 0:\n",
        "            augmented_tokens.append(random.choice(synonyms))\n",
        "        else:\n",
        "            augmented_tokens.append(token)\n",
        "    augmented_text = ' '.join(augmented_tokens)\n",
        "    return augmented_text.lower()"
      ]
    },
    {
      "cell_type": "markdown",
      "metadata": {},
      "source": [
        "Частью задания не является использовать расширенное множество, поэтому вот просто пример расширения выборки для самых редких классов"
      ]
    },
    {
      "cell_type": "code",
      "execution_count": null,
      "metadata": {},
      "outputs": [
        {
          "data": {
            "text/plain": [
              "PESKIPIKSI_PESTERNOMI     4\n",
              "METEOLOJINX_RECANTO      10\n",
              "PROTEGO_HORRIBILIS       15\n",
              "CAVE_INIMICUM            16\n",
              "DESCENDO                 17\n",
              "Name: spell, dtype: int64"
            ]
          },
          "metadata": {},
          "output_type": "display_data"
        }
      ],
      "source": [
        "df_train.spell.value_counts(ascending=True)[0:5]"
      ]
    },
    {
      "cell_type": "code",
      "execution_count": 12,
      "metadata": {},
      "outputs": [
        {
          "name": "stdout",
          "output_type": "stream",
          "text": [
            ". the print ( stab in every steering like rocket . several scoot straight done the window , shower the back row with demote glass . the roost go_on to wreck the classroom more_than efficaciously than deoxyadenosine_monophosphate rampage rhino . they seize ink bottle and spray the category with them , shred book and paper , shoot_down mental_picture from the wall , up-ended the squander hoop , grab travelling_bag and book and cast them out of the blotto window . hermione trilled her heart and merely left the classroom . `` come on now - round them upward , one_shot them upwardly , they 're lone pixie , `` lockhart yelled eastern_samoa she bequeath . helium roll up his sleeve , brandish his wand , and bellow , ``\n"
          ]
        }
      ],
      "source": [
        "print(augment_data(df_train[df_train.spell == 'PESKIPIKSI_PESTERNOMI'].reset_index().loc[0,'text']))"
      ]
    },
    {
      "cell_type": "code",
      "execution_count": 13,
      "metadata": {},
      "outputs": [
        {
          "name": "stdout",
          "output_type": "stream",
          "text": [
            ", neville say . `` oh , we already know that . we proficient indiana hogwarts express . `` , say put_on . `` okey . future practice tomorrow . so roast , estimable get some rest . `` , neville say . everyone travel back to their dorm . `` schoolmaster , fire you edward_thatch maine this spell ? `` , ask wear before go_away . helium lend out his turn record_book . `` meteolojinx_recanto ? `` , need neville . `` yes . possibly i 'll usance it sometime in the future . `` , don respond . `` this embody for fifth years . merely okeh . `` , answer neville . `` meteolojinx_recanto . `` , pronounce don . it be abortive . ``\n"
          ]
        }
      ],
      "source": [
        "print(augment_data(df_train[df_train.spell == 'METEOLOJINX_RECANTO'].reset_index().loc[0,'text']))"
      ]
    },
    {
      "cell_type": "code",
      "execution_count": 14,
      "metadata": {},
      "outputs": [
        {
          "name": "stdout",
          "output_type": "stream",
          "text": [
            "and the dark overlord leave birth thrower ! then wholly of the half-bloods , and mudbloods and your tolerant , `` helium hesitate , vitamin_a sneer loop his lip . `` the filthy , wicked half-breed ! they 'll all constitute extend ! `` `` remus ! `` an nervous vocalise holler from behind lupin . atomic_number_2 turn and check nymphadora unravel up to him , a half-second earlier he earn his mistake . and that single moment follow his ruination . turn back he run_into in_that_location be two stripe of royal flame tear across the pitch : unmatched headed for himself , and the other point straight for nymphadora . without amp second 's indisposition , lupine take his verge improving erstwhile sir_thomas_more and bawl , ``\n"
          ]
        }
      ],
      "source": [
        "print(augment_data(df_train[df_train.spell == 'PROTEGO_HORRIBILIS'].reset_index().loc[0,'text']))"
      ]
    },
    {
      "cell_type": "code",
      "execution_count": 15,
      "metadata": {},
      "outputs": [
        {
          "name": "stdout",
          "output_type": "stream",
          "text": [
            "mightily go_up a big hayfield . the whiz above them winkle into the dark arsenic the full moon settle itself lazily into the night toss . the beam represent silent leave_off for the laboured pass_off of the terzetto son . `` buckeye_state , thank goodness ... `` colin breathe fall overly his articulatio_genus . justin let turn of lever who feature stock-still hunched o'er , rank taciturnly , and receive up , gimpiness all_over to angstrom_unit spot adenine few foot away and start to paseo about in axerophthol heavy dress_circle around the arena , flourish his wand over his point and murmur entirely the protection spell hermione farmer make list low for him via da -lrb- dumbledore 's army -rrb- galleon . `` . . . protego_totalum ...\n"
          ]
        }
      ],
      "source": [
        "print(augment_data(df_train[df_train.spell == 'CAVE_INIMICUM'].reset_index().loc[0,'text']))"
      ]
    },
    {
      "cell_type": "markdown",
      "metadata": {},
      "source": [
        "\n",
        "[бонус] Используйте результат max pooling'а как эмбеддинг входного текста. Визуализируйте эмбеддинги 500-1000 предложений из обучающего множества и изучите свойства получившегося пространства.\n"
      ]
    },
    {
      "cell_type": "markdown",
      "metadata": {},
      "source": [
        "\n",
        "[бонус] Используйте ваш любимый классификатор и любые (честные) способы повышения качества классификации и получите macro $F_1$ больше 0.5.\n"
      ]
    },
    {
      "cell_type": "markdown",
      "metadata": {},
      "source": [
        "\n",
        "## Часть 4. [0.5 балла] Итоги\n",
        "Напишите краткое резюме проделанной работы. Читали ли вы сами Гарри Поттера или фанфики о нем и помогло ли вам знание предметной области в выполнении домашнего задания?\n"
      ]
    },
    {
      "cell_type": "markdown",
      "metadata": {},
      "source": [
        "В целом довольно интересная домашка, хотелось бы побольше заданий на реализацию различных подходов в предобработке данных. Гарри Поттера и фанфики о нем не читал => знаний в данной предметной области не имею. Было интересно повозиться с нейронками. А также получил невероятную приятность, когда на конце второго задания понял, что в df есть дубли! Nice texts!\n"
      ]
    },
    {
      "cell_type": "markdown",
      "metadata": {},
      "source": [
        "Вывод по моделям:\n",
        "\n",
        "Fasttext - nice!\n",
        "\n",
        "CNN - nice!\n",
        "\n",
        "RNN - not nice!"
      ]
    },
    {
      "cell_type": "markdown",
      "metadata": {},
      "source": [
        "\n",
        "## Бонусная часть. [2 балла] Skip-Gram Negative Sampling\n",
        "Самостоятельно реализовать и обучить модель Skip-Gram Negative Sampling. Продемонстрировать качество полученных представлений на конкретный примерах."
      ]
    },
    {
      "cell_type": "code",
      "execution_count": 80,
      "metadata": {},
      "outputs": [
        {
          "data": {
            "application/vnd.jupyter.widget-view+json": {
              "model_id": "8c41cccdca0d40c8bf0088da741ed9e9",
              "version_major": 2,
              "version_minor": 0
            },
            "text/plain": [
              "VBox(children=(HBox(children=(IntProgress(value=0, description='0.00%', max=4528), Label(value='0 / 4528'))), …"
            ]
          },
          "metadata": {},
          "output_type": "display_data"
        }
      ],
      "source": [
        "from nltk.tokenize import word_tokenize\n",
        "\n",
        "df = pd.read_csv('dataframe.csv')\n",
        "df['lower_text_no_punct'] = df.clean_text.str.lower().apply(remove_punct)\n",
        "df['lower_tokenize'] = df['lower_text_no_punct'].parallel_apply(word_tokenize)\n",
        "\n",
        "corpus = df['lower_tokenize'].to_list()"
      ]
    },
    {
      "cell_type": "code",
      "execution_count": 148,
      "metadata": {},
      "outputs": [],
      "source": [
        "import scipy\n",
        "from sklearn.metrics.pairwise import cosine_similarity\n",
        "import math\n",
        "\n",
        "def sigmoid(x):\n",
        "    return np.where(x >= 0,\n",
        "                    1 / (1 + np.exp(-x)),\n",
        "                    np.exp(x) / (1 + np.exp(x)))\n",
        "\n",
        "# def sigmoid(x):\n",
        "#   return 1 / (1 + np.exp(-x))"
      ]
    },
    {
      "cell_type": "code",
      "execution_count": 149,
      "metadata": {},
      "outputs": [],
      "source": [
        "class SkipGramNegativeSampling:\n",
        "    def __init__(self, window_size, embedding_dim, num_negative_samples):\n",
        "        self.window_size = window_size  # размер окна\n",
        "        self.embedding_dim = embedding_dim  # размерность векторов эмбеддингов\n",
        "        self.num_negative_samples = num_negative_samples  # количество отрицательных сэмплов\n",
        "        \n",
        "        self.word2id = {}   # словарь соответствия слов к их id\n",
        "        self.id2word = {}   # словарь соответствия id к словам\n",
        "        self.word_freq = {}  # словарь частоты слов\n",
        "        \n",
        "        self.word_vectors = None  # матрица векторов эмбеддингов\n",
        "    \n",
        "    def fit(self, corpus):\n",
        "        # Обработка корпуса\n",
        "        self.build_vocabulary(corpus)\n",
        "        \n",
        "        # Инициализация матрицы векторов эмбеддингов\n",
        "        self.word_vectors = np.random.randn(len(self.word2id), self.embedding_dim)\n",
        "        \n",
        "        # Обучение модели\n",
        "        for sentence in tqdm(corpus):\n",
        "            for i, word in enumerate(sentence):\n",
        "                context_words = self.get_context_words(sentence, i)\n",
        "               \n",
        "                if len(context_words) == 0:\n",
        "                    continue\n",
        "                    \n",
        "                target_word = self.word2id[word]\n",
        "                \n",
        "                for context_word in context_words:\n",
        "                    context_word_id = self.word2id[context_word]\n",
        "                    \n",
        "                    # Обновление векторов\n",
        "                    self.update_vectors(target_word, context_word_id, 1)\n",
        "                    \n",
        "                    # Negative Sampling\n",
        "                    negative_samples = self.get_negative_samples(target_word)\n",
        "                    \n",
        "                    for negative_sample in negative_samples:\n",
        "                        negative_word_id = self.word2id[negative_sample]\n",
        "                        \n",
        "                        # Обновление векторов для отрицательных сэмплов\n",
        "                        self.update_vectors(target_word, negative_word_id, 0)\n",
        "    \n",
        "    def build_vocabulary(self, corpus):\n",
        "        idx = 0\n",
        "        for sentence in corpus:\n",
        "            for word in sentence:\n",
        "                if word not in self.word2id:\n",
        "                    self.word2id[word] = idx\n",
        "                    self.id2word[idx] = word\n",
        "                    self.word_freq[word] = 1\n",
        "                    idx += 1\n",
        "                else:\n",
        "                    self.word_freq[word] += 1\n",
        "    \n",
        "    def get_context_words(self, sentence, target_word_idx):\n",
        "        context_words = []\n",
        "        start = max(0, target_word_idx - self.window_size)\n",
        "        end = min(len(sentence) - 1, target_word_idx + self.window_size)\n",
        "        \n",
        "        for i in range(start, end+1):\n",
        "            if i != target_word_idx:\n",
        "                context_words.append(sentence[i])\n",
        "        \n",
        "        return context_words\n",
        "    \n",
        "    def update_vectors(self, target_word_id, context_word_id, label):\n",
        "        target_vector = self.word_vectors[target_word_id]\n",
        "        context_vector = self.word_vectors[context_word_id]\n",
        "        \n",
        "        error = label - sigmoid(np.dot(target_vector, context_vector.T))\n",
        "        \n",
        "        target_grad = error * context_vector\n",
        "        context_grad = error * target_vector\n",
        "        \n",
        "        self.word_vectors[target_word_id] += target_grad\n",
        "        self.word_vectors[context_word_id] += context_grad\n",
        "    \n",
        "    def get_negative_samples(self, target_word_id):\n",
        "        negative_samples = []\n",
        "        \n",
        "        while len(negative_samples) < self.num_negative_samples:\n",
        "            sample = random.choice(list(self.word_freq.keys()))\n",
        "            if sample != self.id2word[target_word_id]:\n",
        "                negative_samples.append(sample)\n",
        "        \n",
        "        return negative_samples\n",
        "    \n",
        "    def get_word_vector(self, word):\n",
        "        return self.word_vectors[self.word2id[word]]"
      ]
    },
    {
      "cell_type": "code",
      "execution_count": 159,
      "metadata": {},
      "outputs": [
        {
          "name": "stderr",
          "output_type": "stream",
          "text": [
            "  0%|          | 0/3 [00:00<?, ?it/s]C:\\Users\\mikha\\AppData\\Local\\Temp\\ipykernel_17152\\1463408099.py:6: RuntimeWarning: overflow encountered in exp\n",
            "  np.exp(x) / (1 + np.exp(x)))\n",
            "C:\\Users\\mikha\\AppData\\Local\\Temp\\ipykernel_17152\\1463408099.py:6: RuntimeWarning: invalid value encountered in scalar divide\n",
            "  np.exp(x) / (1 + np.exp(x)))\n",
            "C:\\Users\\mikha\\AppData\\Local\\Temp\\ipykernel_17152\\1463408099.py:5: RuntimeWarning: overflow encountered in exp\n",
            "  1 / (1 + np.exp(-x)),\n",
            "100%|██████████| 3/3 [00:21<00:00,  7.08s/it]\n"
          ]
        }
      ],
      "source": [
        "sgns = SkipGramNegativeSampling(\n",
        "    window_size=5,\n",
        "    embedding_dim=100, \n",
        "    num_negative_samples=100\n",
        "    )\n",
        "\n",
        "sgns.fit(corpus[:3]) # взял малую часть корпуса для примера"
      ]
    },
    {
      "cell_type": "code",
      "execution_count": 175,
      "metadata": {},
      "outputs": [],
      "source": [
        "word1, word2 = ('man', 'boy')"
      ]
    },
    {
      "cell_type": "code",
      "execution_count": 173,
      "metadata": {},
      "outputs": [
        {
          "name": "stdout",
          "output_type": "stream",
          "text": [
            "0.2633\n"
          ]
        }
      ],
      "source": [
        "vec1 = sgns.get_word_vector(word1)\n",
        "vec2 = sgns.get_word_vector(word2)\n",
        "                \n",
        "similarity_score = cosine_similarity([vec1], [vec2])[0][0]\n",
        "print(f\"{similarity_score:.04f}\")"
      ]
    },
    {
      "cell_type": "markdown",
      "metadata": {},
      "source": [
        "Видимо подобрали не лучшие параметры "
      ]
    },
    {
      "cell_type": "code",
      "execution_count": 165,
      "metadata": {},
      "outputs": [
        {
          "name": "stderr",
          "output_type": "stream",
          "text": [
            "  0%|          | 0/100 [00:00<?, ?it/s]C:\\Users\\mikha\\AppData\\Local\\Temp\\ipykernel_17152\\1463408099.py:6: RuntimeWarning: overflow encountered in exp\n",
            "  np.exp(x) / (1 + np.exp(x)))\n",
            "C:\\Users\\mikha\\AppData\\Local\\Temp\\ipykernel_17152\\1463408099.py:6: RuntimeWarning: invalid value encountered in scalar divide\n",
            "  np.exp(x) / (1 + np.exp(x)))\n",
            "C:\\Users\\mikha\\AppData\\Local\\Temp\\ipykernel_17152\\1463408099.py:5: RuntimeWarning: overflow encountered in exp\n",
            "  1 / (1 + np.exp(-x)),\n",
            "100%|██████████| 100/100 [14:59:16<00:00, 539.57s/it]   \n"
          ]
        }
      ],
      "source": [
        "sgns_ = SkipGramNegativeSampling(\n",
        "    window_size=4,\n",
        "    embedding_dim=300, \n",
        "    num_negative_samples=50\n",
        "    )\n",
        "\n",
        "sgns_.fit(corpus[:100])"
      ]
    },
    {
      "cell_type": "code",
      "execution_count": 181,
      "metadata": {},
      "outputs": [
        {
          "name": "stdout",
          "output_type": "stream",
          "text": [
            "0.8726\n"
          ]
        }
      ],
      "source": [
        "vec1_ = sgns_.get_word_vector(word1)\n",
        "vec2_ = sgns_.get_word_vector(word2)\n",
        "                \n",
        "similarity_score_ = cosine_similarity([vec1], [vec2])[0][0]\n",
        "print(f\"{similarity_score_:.04f}\")"
      ]
    },
    {
      "cell_type": "code",
      "execution_count": null,
      "metadata": {},
      "outputs": [],
      "source": []
    }
  ],
  "metadata": {
    "colab": {
      "provenance": []
    },
    "kernelspec": {
      "display_name": "Python 3",
      "language": "python",
      "name": "python3"
    },
    "language_info": {
      "codemirror_mode": {
        "name": "ipython",
        "version": 3
      },
      "file_extension": ".py",
      "mimetype": "text/x-python",
      "name": "python",
      "nbconvert_exporter": "python",
      "pygments_lexer": "ipython3",
      "version": "3.11.4"
    }
  },
  "nbformat": 4,
  "nbformat_minor": 0
}
